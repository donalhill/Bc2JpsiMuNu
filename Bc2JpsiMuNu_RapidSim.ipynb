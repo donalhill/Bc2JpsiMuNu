{
  "nbformat": 4,
  "nbformat_minor": 0,
  "metadata": {
    "colab": {
      "name": "Bc2JpsiMuNu_RapidSim.ipynb",
      "provenance": [],
      "collapsed_sections": [],
      "mount_file_id": "105-UC-Rxl0Ez7IWXiLcu58qOmpOOKUIs",
      "authorship_tag": "ABX9TyPmYGRXqtBZcr3ZmR7+8U0F",
      "include_colab_link": true
    },
    "kernelspec": {
      "name": "python3",
      "display_name": "Python 3"
    },
    "language_info": {
      "name": "python"
    }
  },
  "cells": [
    {
      "cell_type": "markdown",
      "metadata": {
        "id": "view-in-github",
        "colab_type": "text"
      },
      "source": [
        "<a href=\"https://colab.research.google.com/github/donalrinho/Bc2JpsiMuNu/blob/main/Bc2JpsiMuNu_RapidSim.ipynb\" target=\"_parent\"><img src=\"https://colab.research.google.com/assets/colab-badge.svg\" alt=\"Open In Colab\"/></a>"
      ]
    },
    {
      "cell_type": "markdown",
      "source": [
        "#Loading and interacting with the $B_c^+ \\to J/\\psi \\mu^+ \\nu_\\mu$ RapidSim MC file\n",
        "\n",
        "In this notebook, we load a sample of $B_c^+ \\to J/\\psi \\mu^+ \\nu_\\mu$ decays generated using the [RapidSim](https://github.com/gcowan/RapidSim) package. We will look at some variables, and calculate interesting new variables such as the angles of the decay which we'll be focusing on in this project."
      ],
      "metadata": {
        "id": "eoq8K3dJQ1Fu"
      }
    },
    {
      "cell_type": "markdown",
      "source": [
        "First, we install the `uproot` package for loading ROOT files into Python. We will load the `TTree` from the ROOT file into a `pandas` `DataFrame`. \n",
        "\n",
        "Using `!` at the beginnging of our cell here runs commands on the command line for us."
      ],
      "metadata": {
        "id": "p8wTsegsOjdq"
      }
    },
    {
      "cell_type": "code",
      "execution_count": 1,
      "metadata": {
        "id": "-vjzUubEOB7a",
        "colab": {
          "base_uri": "https://localhost:8080/"
        },
        "outputId": "27171406-2e47-4b2b-fdf2-55dcd7cfdf0b"
      },
      "outputs": [
        {
          "output_type": "stream",
          "name": "stdout",
          "text": [
            "Requirement already satisfied: uproot in /usr/local/lib/python3.7/dist-packages (4.1.9)\n",
            "Requirement already satisfied: numpy in /usr/local/lib/python3.7/dist-packages (from uproot) (1.19.5)\n",
            "Requirement already satisfied: setuptools in /usr/local/lib/python3.7/dist-packages (from uproot) (57.4.0)\n"
          ]
        }
      ],
      "source": [
        "!pip install uproot"
      ]
    },
    {
      "cell_type": "code",
      "source": [
        "#Import some useful packages\n",
        "import uproot\n",
        "import numpy as np\n",
        "import matplotlib\n",
        "from matplotlib import rc\n",
        "import matplotlib.pyplot as plt\n",
        "%matplotlib inline"
      ],
      "metadata": {
        "id": "ffUxfSknPs9Q"
      },
      "execution_count": 2,
      "outputs": []
    },
    {
      "cell_type": "markdown",
      "source": [
        "## Loading a ROOT file with the `uproot` package\n",
        "\n",
        "Load $B_c^+ \\to J/\\psi \\mu^+ \\nu_\\mu$ RapidSim MC ROOT file from my own Google Drive (you will need to copy the files to your own Google drive and access them from there):"
      ],
      "metadata": {
        "id": "cqzaDPpYOzqg"
      }
    },
    {
      "cell_type": "code",
      "source": [
        "#Path to RapidSim Bc -> J/psi mu nu file\n",
        "drive_dir = \"/content/drive/MyDrive/Bc2JpsiMuNu_ROOT_files\"\n",
        "file_path = f\"{drive_dir}/Bc2JpsiMuNu_RapidSim\"\n",
        "print(f\"Loading ROOT file {file_path}.root\")\n",
        "tree_name = \"DecayTree\"\n",
        "events = uproot.open(f\"{file_path}.root:{tree_name}\")\n",
        "events"
      ],
      "metadata": {
        "colab": {
          "base_uri": "https://localhost:8080/"
        },
        "id": "VqLaPjQXOw-1",
        "outputId": "f42bfd27-e035-46ec-c6cf-8295683f9567"
      },
      "execution_count": 29,
      "outputs": [
        {
          "output_type": "stream",
          "name": "stdout",
          "text": [
            "Loading ROOT file /content/drive/MyDrive/Bc2JpsiMuNu_ROOT_files/Bc2JpsiMuNu_RapidSim.root\n"
          ]
        },
        {
          "output_type": "execute_result",
          "data": {
            "text/plain": [
              "<TTree 'DecayTree' (136 branches) at 0x7fc8bb8b7250>"
            ]
          },
          "metadata": {},
          "execution_count": 29
        }
      ]
    },
    {
      "cell_type": "code",
      "source": [
        "#Make pandas DataFrame\n",
        "df = events.arrays(library=\"pd\")"
      ],
      "metadata": {
        "id": "aMquxv37PoUl"
      },
      "execution_count": 4,
      "outputs": []
    },
    {
      "cell_type": "code",
      "source": [
        "#Check how many events we have in our DataFrame (same as the number of events in the ROOT TTree)\n",
        "len(df)"
      ],
      "metadata": {
        "colab": {
          "base_uri": "https://localhost:8080/"
        },
        "id": "1eUCK_p6QaMv",
        "outputId": "87564b9d-ae1f-46d4-a764-340bed4c0758"
      },
      "execution_count": 5,
      "outputs": [
        {
          "output_type": "execute_result",
          "data": {
            "text/plain": [
              "1000000"
            ]
          },
          "metadata": {},
          "execution_count": 5
        }
      ]
    },
    {
      "cell_type": "markdown",
      "source": [
        "We see that we have 1 million events in the DataFrame, which is because we generated 1 million events with RapidSim (so this is how many events there are in the input ROOT file).\n",
        "\n",
        "We can have a look at what variables are in the DataFrame:"
      ],
      "metadata": {
        "id": "_MdWrlgOS8XT"
      }
    },
    {
      "cell_type": "code",
      "source": [
        "#Variables in our file (these are the branches from the TTree called DecayTree in our ROOT file)\n",
        "for x in df.columns:\n",
        "  print(x)"
      ],
      "metadata": {
        "colab": {
          "base_uri": "https://localhost:8080/"
        },
        "id": "o9NR8YsIV17o",
        "outputId": "4e9e2993-ea03-4f73-bdb2-e5ec84cc27a9"
      },
      "execution_count": 6,
      "outputs": [
        {
          "output_type": "stream",
          "name": "stdout",
          "text": [
            "nEvent\n",
            "Bc_M\n",
            "Bc_M_TRUE\n",
            "Jpsi_M\n",
            "Jpsi_M_TRUE\n",
            "Bc_P\n",
            "Bc_P_TRUE\n",
            "Jpsi_P\n",
            "Jpsi_P_TRUE\n",
            "Bc_PT\n",
            "Bc_PT_TRUE\n",
            "Jpsi_PT\n",
            "Jpsi_PT_TRUE\n",
            "Bc_PX\n",
            "Bc_PX_TRUE\n",
            "Jpsi_PX\n",
            "Jpsi_PX_TRUE\n",
            "Bc_PY\n",
            "Bc_PY_TRUE\n",
            "Jpsi_PY\n",
            "Jpsi_PY_TRUE\n",
            "Bc_PZ\n",
            "Bc_PZ_TRUE\n",
            "Jpsi_PZ\n",
            "Jpsi_PZ_TRUE\n",
            "Bc_E\n",
            "Bc_E_TRUE\n",
            "Jpsi_E\n",
            "Jpsi_E_TRUE\n",
            "Bc_End_x\n",
            "Bc_End_x_TRUE\n",
            "Jpsi_End_x\n",
            "Jpsi_End_x_TRUE\n",
            "Bc_End_y\n",
            "Bc_End_y_TRUE\n",
            "Jpsi_End_y\n",
            "Jpsi_End_y_TRUE\n",
            "Bc_End_z\n",
            "Bc_End_z_TRUE\n",
            "Jpsi_End_z\n",
            "Jpsi_End_z_TRUE\n",
            "Bc_Ori_x\n",
            "Bc_Ori_x_TRUE\n",
            "Jpsi_Ori_x\n",
            "Jpsi_Ori_x_TRUE\n",
            "Bc_Ori_y\n",
            "Bc_Ori_y_TRUE\n",
            "Jpsi_Ori_y\n",
            "Jpsi_Ori_y_TRUE\n",
            "Bc_Ori_z\n",
            "Bc_Ori_z_TRUE\n",
            "Jpsi_Ori_z\n",
            "Jpsi_Ori_z_TRUE\n",
            "Bc_FD\n",
            "Bc_FD_TRUE\n",
            "Jpsi_FD\n",
            "Jpsi_FD_TRUE\n",
            "Bc_FD_x\n",
            "Bc_FD_x_TRUE\n",
            "Jpsi_FD_x\n",
            "Jpsi_FD_x_TRUE\n",
            "Bc_FD_y\n",
            "Bc_FD_y_TRUE\n",
            "Jpsi_FD_y\n",
            "Jpsi_FD_y_TRUE\n",
            "Bc_FD_z\n",
            "Bc_FD_z_TRUE\n",
            "Jpsi_FD_z\n",
            "Jpsi_FD_z_TRUE\n",
            "Bc_gamma\n",
            "Bc_gamma_TRUE\n",
            "Jpsi_gamma\n",
            "Jpsi_gamma_TRUE\n",
            "Bc_beta\n",
            "Bc_beta_TRUE\n",
            "Jpsi_beta\n",
            "Jpsi_beta_TRUE\n",
            "Bc_eta\n",
            "Bc_eta_TRUE\n",
            "Jpsi_eta\n",
            "Jpsi_eta_TRUE\n",
            "Mu_P\n",
            "Mu_P_TRUE\n",
            "Nu_P\n",
            "Nu_P_TRUE\n",
            "Jpsi_Mu0_P\n",
            "Jpsi_Mu0_P_TRUE\n",
            "Jpsi_Mu1_P\n",
            "Jpsi_Mu1_P_TRUE\n",
            "Mu_PT\n",
            "Mu_PT_TRUE\n",
            "Nu_PT\n",
            "Nu_PT_TRUE\n",
            "Jpsi_Mu0_PT\n",
            "Jpsi_Mu0_PT_TRUE\n",
            "Jpsi_Mu1_PT\n",
            "Jpsi_Mu1_PT_TRUE\n",
            "Mu_PX\n",
            "Mu_PX_TRUE\n",
            "Nu_PX\n",
            "Nu_PX_TRUE\n",
            "Jpsi_Mu0_PX\n",
            "Jpsi_Mu0_PX_TRUE\n",
            "Jpsi_Mu1_PX\n",
            "Jpsi_Mu1_PX_TRUE\n",
            "Mu_PY\n",
            "Mu_PY_TRUE\n",
            "Nu_PY\n",
            "Nu_PY_TRUE\n",
            "Jpsi_Mu0_PY\n",
            "Jpsi_Mu0_PY_TRUE\n",
            "Jpsi_Mu1_PY\n",
            "Jpsi_Mu1_PY_TRUE\n",
            "Mu_PZ\n",
            "Mu_PZ_TRUE\n",
            "Nu_PZ\n",
            "Nu_PZ_TRUE\n",
            "Jpsi_Mu0_PZ\n",
            "Jpsi_Mu0_PZ_TRUE\n",
            "Jpsi_Mu1_PZ\n",
            "Jpsi_Mu1_PZ_TRUE\n",
            "Mu_E\n",
            "Mu_E_TRUE\n",
            "Nu_E\n",
            "Nu_E_TRUE\n",
            "Jpsi_Mu0_E\n",
            "Jpsi_Mu0_E_TRUE\n",
            "Jpsi_Mu1_E\n",
            "Jpsi_Mu1_E_TRUE\n",
            "Jpsi_Mu_M2\n",
            "Jpsi_Mu_M2_TRUE\n",
            "Jpsi_Nu_M2\n",
            "Jpsi_Nu_M2_TRUE\n",
            "Mu_Nu_M2\n",
            "Mu_Nu_M2_TRUE\n",
            "MCorr\n"
          ]
        }
      ]
    },
    {
      "cell_type": "markdown",
      "source": [
        "Let's take a closer look at some variables in the file. Here we look at the reconstructed mass of the decay, $m(J/\\psi \\mu^+)$ - the neutrino cannot be seen inside LHCb, so this variable is the visible mass of the decay. In the ROOT file this variable is called `Bc_M`, and thus it also has this name in our DataFrame object `df`.|"
      ],
      "metadata": {
        "id": "QqPnxWGvSAFM"
      }
    },
    {
      "cell_type": "code",
      "source": [
        "fig, ax = plt.subplots(figsize=(10,7))\n",
        "var_to_plot = \"Bc_M\"\n",
        "bins = 100\n",
        "x_range = [3., 6.5] #Mass is in GeV\n",
        "bin_width = (x_range[1] - x_range[0])/bins\n",
        "plt.hist(df[var_to_plot], histtype=\"step\", color=\"crimson\", linewidth=2, bins=bins, range=x_range)\n",
        "plt.xlabel(\"$m(J/\\psi \\mu^+)$ [GeV]\",fontsize=30)\n",
        "plt.ylabel(f\"Events / ({bin_width} GeV)\", fontsize=30)\n",
        "ax.tick_params(axis='both', which='both', labelsize=25)\n",
        "plt.show();"
      ],
      "metadata": {
        "colab": {
          "base_uri": "https://localhost:8080/",
          "height": 482
        },
        "id": "6Ky0faYEQpl6",
        "outputId": "a214b64f-bf9a-4a2e-dce5-9ba780659251"
      },
      "execution_count": 7,
      "outputs": [
        {
          "output_type": "display_data",
          "data": {
            "image/png": "[encoded data removed]",
            "text/plain": [
              "<Figure size 720x504 with 1 Axes>"
            ]
          },
          "metadata": {
            "needs_background": "light"
          }
        }
      ]
    },
    {
      "cell_type": "code",
      "source": [
        "#Look at the J/psi mass, which is reconstructed from combining two muons\n",
        "fig, ax = plt.subplots(figsize=(10,7))\n",
        "var_to_plot = \"Jpsi_M\"\n",
        "bins = 100\n",
        "x_range = [3.0, 3.2] #Mass is in GeV\n",
        "bin_width = (x_range[1] - x_range[0])/bins\n",
        "plt.hist(df[var_to_plot], histtype=\"step\", color=\"crimson\", linewidth=2, bins=bins, range=x_range)\n",
        "plt.xlabel(\"$m(\\mu^+ \\mu^-)$ [GeV]\",fontsize=30)\n",
        "plt.ylabel(f\"Events / ({bin_width:.4f} GeV)\", fontsize=30) #:4f tells it to print 4 decimal places\n",
        "ax.tick_params(axis='both', which='both', labelsize=25)\n",
        "plt.show();"
      ],
      "metadata": {
        "colab": {
          "base_uri": "https://localhost:8080/",
          "height": 487
        },
        "id": "hAOooUBjSsl5",
        "outputId": "6cf10215-3587-4b87-a546-4a1bbe58982d"
      },
      "execution_count": 8,
      "outputs": [
        {
          "output_type": "display_data",
          "data": {
            "image/png": "[encoded data removed]",
            "text/plain": [
              "<Figure size 720x504 with 1 Axes>"
            ]
          },
          "metadata": {
            "needs_background": "light"
          }
        }
      ]
    },
    {
      "cell_type": "markdown",
      "source": [
        "The clear peak here is because we have a $J/\\psi$ meson in the decay, which subsequently decays to two muons. The invariant mass of the pair of muons peaks srongly at the known mass of the $J/\\psi$ meson (see the PDG [here](https://pdglive.lbl.gov/Particle.action?init=0&node=M070&home=MXXX025))."
      ],
      "metadata": {
        "id": "pug00RYFTdFF"
      }
    },
    {
      "cell_type": "markdown",
      "source": [
        "## Decay angles\n",
        "\n",
        "In this project, we are interested in the decay angles which characterise the physics of the $B_c^+ \\to J/\\psi \\mu^+ \\nu_\\mu$ decay. There are three angles:\n",
        "\n",
        "1. $\\theta_{J/\\psi}$: the angle between the direction $\\mu^+$ from the $J/\\psi$, and the direction opposite that of the $B_c^+$ momentum, calculated in the $J/\\psi$ rest frame.\n",
        "2. $\\theta_W$: the angle between the direction of the $\\mu^+$ produced in the $B_c^+$ decay, and the direction opposite the $B_c^+$ momentum, calculated in the $W^+$ boson rest frame. Here, the $W^+$ boson is produced in the decay of the $B_c^+$ meson, and it subsequently decays to the $\\mu^+ \\nu_\\mu$ pair.\n",
        "3. $\\chi$: the angle between the plane containing the $\\mu^+$ and $\\mu^-$ from the $J/\\psi$, and the plane containing the $\\mu^+$ and $\\nu_\\mu$ from the $W^+$. The angle is defined in the $B_c^+$ rest frame.\n",
        "\n",
        "For a visualisation of these angles, take a look at [this paper](https://arxiv.org/pdf/2007.06957.pdf). We want to calculate these decay angles and add them to our dataframe. To do this, we will write some helper functions, and use the `vector` package in Python to create some 4-vectors.\n",
        "\n",
        "In this project, we will use the RapidSim MC sample to inform us about the MC-truth distributions of the decay angles. Because of the missing neutrino, this is not what we actually deal with in real life. But we can use the `_TRUE` variables in our RapidSim sample to calculate the true values of the decay angles, using the true 4-vectors for the various particles in the decay."
      ],
      "metadata": {
        "id": "1k5eJvcqWxc7"
      }
    },
    {
      "cell_type": "code",
      "source": [
        "#We use the vector package to make 4-vectors and manipulate them to calculate the decay angles\n",
        "!pip install vector"
      ],
      "metadata": {
        "colab": {
          "base_uri": "https://localhost:8080/"
        },
        "id": "U7UpdxlfcdBl",
        "outputId": "2af39ca7-7879-416c-b67a-b3c05daccb5f"
      },
      "execution_count": 9,
      "outputs": [
        {
          "output_type": "stream",
          "name": "stdout",
          "text": [
            "Requirement already satisfied: vector in /usr/local/lib/python3.7/dist-packages (0.8.4)\n",
            "Requirement already satisfied: importlib-metadata>=0.22 in /usr/local/lib/python3.7/dist-packages (from vector) (4.10.0)\n",
            "Requirement already satisfied: numpy>=1.13.3 in /usr/local/lib/python3.7/dist-packages (from vector) (1.19.5)\n",
            "Requirement already satisfied: packaging>=19.0 in /usr/local/lib/python3.7/dist-packages (from vector) (21.3)\n",
            "Requirement already satisfied: typing-extensions in /usr/local/lib/python3.7/dist-packages (from vector) (3.10.0.2)\n",
            "Requirement already satisfied: zipp>=0.5 in /usr/local/lib/python3.7/dist-packages (from importlib-metadata>=0.22->vector) (3.7.0)\n",
            "Requirement already satisfied: pyparsing!=3.0.5,>=2.0.2 in /usr/local/lib/python3.7/dist-packages (from packaging>=19.0->vector) (3.0.6)\n"
          ]
        }
      ]
    },
    {
      "cell_type": "code",
      "source": [
        "#Import the package\n",
        "import vector"
      ],
      "metadata": {
        "id": "hx29SiOEc5R6"
      },
      "execution_count": 10,
      "outputs": []
    },
    {
      "cell_type": "code",
      "source": [
        "def calc_theta_Jpsi(df):\n",
        "  \"\"\"\n",
        "  Calculate the decay angle theta_Jpsi.\n",
        "\n",
        "    Parameters:\n",
        "      df -- input DataFrame (must containin the TRUE PX, PY, PZ, E values for each particle)\n",
        "    \n",
        "    Returns:\n",
        "      theta_Jpsi -- decay angle values as a numpy array, which can be added to user DataFrame as a new column\n",
        "  \"\"\"\n",
        "  \n",
        "  #Muon from the J/psi with the same charge as the Bc\n",
        "  Jpsi_Mu_vars = {\"px\": \"Jpsi_Mu0_PX_TRUE\",\n",
        "                  \"py\": \"Jpsi_Mu0_PY_TRUE\",\n",
        "                  \"pz\": \"Jpsi_Mu0_PZ_TRUE\",\n",
        "                  \"e\": \"Jpsi_Mu0_E_TRUE\"}\n",
        "  \n",
        "  #J/psi\n",
        "  Jpsi_vars = {\"px\": \"Jpsi_PX_TRUE\",\n",
        "               \"py\": \"Jpsi_PY_TRUE\",\n",
        "               \"pz\": \"Jpsi_PZ_TRUE\",\n",
        "               \"e\": \"Jpsi_E_TRUE\"}\n",
        "  \n",
        "  #Bc\n",
        "  Bc_vars = {\"px\": \"Bc_PX_TRUE\",\n",
        "             \"py\": \"Bc_PY_TRUE\",\n",
        "             \"pz\": \"Bc_PZ_TRUE\",\n",
        "             \"e\": \"Bc_E_TRUE\"}\n",
        "  \n",
        "  #4-vectors\n",
        "  v_Jpsi_Mu = vector.obj(x=df[Jpsi_Mu_vars[\"px\"]],\n",
        "                         y=df[Jpsi_Mu_vars[\"py\"]],\n",
        "                         z=df[Jpsi_Mu_vars[\"pz\"]],\n",
        "                         t=df[Jpsi_Mu_vars[\"e\"]])\n",
        "  \n",
        "  v_Jpsi = vector.obj(x=df[Jpsi_vars[\"px\"]],\n",
        "                      y=df[Jpsi_vars[\"py\"]],\n",
        "                      z=df[Jpsi_vars[\"pz\"]],\n",
        "                      t=df[Jpsi_vars[\"e\"]])\n",
        "  \n",
        "  v_Bc = vector.obj(x=df[Bc_vars[\"px\"]],\n",
        "                    y=df[Bc_vars[\"py\"]],\n",
        "                    z=df[Bc_vars[\"pz\"]],\n",
        "                    t=df[Bc_vars[\"e\"]])\n",
        "  \n",
        "  #Boost to Bc rest frame\n",
        "  Bc_boost_vec = -(v_Bc.to_beta3())\n",
        "  v_Jpsi_Mu = v_Jpsi_Mu.boost_beta3(Bc_boost_vec)\n",
        "  v_Jpsi = v_Jpsi.boost_beta3(Bc_boost_vec)\n",
        "  v_Bc = v_Bc.boost_beta3(Bc_boost_vec)\n",
        "\n",
        "  #Boost to J/psi rest frame\n",
        "  Jpsi_boost_vec = -(v_Jpsi.to_beta3())\n",
        "  v_Jpsi_Mu = v_Jpsi_Mu.boost_beta3(Jpsi_boost_vec)\n",
        "  v_Bc = v_Bc.boost_beta3(Jpsi_boost_vec)\n",
        "  \n",
        "  #3-vectors\n",
        "  v3_Jpsi_Mu = v_Jpsi_Mu.to_beta3()\n",
        "  v3_Bc = v_Bc.to_beta3()\n",
        "  #Unit vectors\n",
        "  v3_Jpsi_Mu = v3_Jpsi_Mu / v3_Jpsi_Mu.mag\n",
        "  v3_Bc = v3_Bc / v3_Bc.mag\n",
        "\n",
        "  #Angle\n",
        "  theta_Jpsi = v3_Jpsi_Mu.deltaangle(-v3_Bc)\n",
        "\n",
        "  return theta_Jpsi"
      ],
      "metadata": {
        "id": "uxyhUsPaWKxp"
      },
      "execution_count": 11,
      "outputs": []
    },
    {
      "cell_type": "code",
      "source": [
        "#Run our function on our dataframe, calculating the angle theta_Jpsi for every event and adding it as a new column\n",
        "df[\"theta_Jpsi\"] = calc_theta_Jpsi(df)\n",
        "df[\"costheta_Jpsi\"] = np.cos(df[\"theta_Jpsi\"])"
      ],
      "metadata": {
        "id": "M9kBEPtkfGTz"
      },
      "execution_count": 12,
      "outputs": []
    },
    {
      "cell_type": "markdown",
      "source": [
        "Let's have a look at the angle we've calculated:"
      ],
      "metadata": {
        "id": "TYw5ulxV_hHU"
      }
    },
    {
      "cell_type": "code",
      "source": [
        "plt.hist(df[\"costheta_Jpsi\"],bins=100)\n",
        "plt.show();"
      ],
      "metadata": {
        "colab": {
          "base_uri": "https://localhost:8080/",
          "height": 265
        },
        "id": "3KloOyayfuKG",
        "outputId": "7363f317-dbab-47b5-eef6-c3a9691fbe1d"
      },
      "execution_count": 13,
      "outputs": [
        {
          "output_type": "display_data",
          "data": {
            "image/png": "[encoded data removed]",
            "text/plain": [
              "<Figure size 432x288 with 1 Axes>"
            ]
          },
          "metadata": {
            "needs_background": "light"
          }
        }
      ]
    },
    {
      "cell_type": "markdown",
      "source": [
        "It matches the distribution in Figure 12 of [this paper](https://arxiv.org/pdf/2007.06957.pdf), which tells us we're doing the correct thing!\n",
        "\n",
        "Time to do the next decay angle, $\\theta_W$:"
      ],
      "metadata": {
        "id": "2uCaNYSN_sqt"
      }
    },
    {
      "cell_type": "code",
      "source": [
        "def calc_theta_W(df):\n",
        "  \"\"\"\n",
        "  Calculate the decay angle theta_W.\n",
        "\n",
        "    Parameters:\n",
        "      df -- input DataFrame (must containin the TRUE PX, PY, PZ, E values for each particle)\n",
        "    \n",
        "    Returns:\n",
        "      theta_W -- decay angle values as a numpy array, which can be added to user DataFrame as a new column\n",
        "  \"\"\"\n",
        "  \n",
        "  #Muon from the Bc decay\n",
        "  Mu_vars = {\"px\": \"Mu_PX_TRUE\",\n",
        "             \"py\": \"Mu_PY_TRUE\",\n",
        "             \"pz\": \"Mu_PZ_TRUE\",\n",
        "             \"e\": \"Mu_E_TRUE\"}\n",
        "  \n",
        "  #Muon from the J/psi with the same charge as the Bc\n",
        "  Jpsi_Mu_vars = {\"px\": \"Jpsi_Mu0_PX_TRUE\",\n",
        "                  \"py\": \"Jpsi_Mu0_PY_TRUE\",\n",
        "                  \"pz\": \"Jpsi_Mu0_PZ_TRUE\",\n",
        "                  \"e\": \"Jpsi_Mu0_E_TRUE\"}\n",
        "  \n",
        "  #J/psi\n",
        "  Jpsi_vars = {\"px\": \"Jpsi_PX_TRUE\",\n",
        "               \"py\": \"Jpsi_PY_TRUE\",\n",
        "               \"pz\": \"Jpsi_PZ_TRUE\",\n",
        "               \"e\": \"Jpsi_E_TRUE\"}\n",
        "  \n",
        "  #Bc\n",
        "  Bc_vars = {\"px\": \"Bc_PX_TRUE\",\n",
        "             \"py\": \"Bc_PY_TRUE\",\n",
        "             \"pz\": \"Bc_PZ_TRUE\",\n",
        "             \"e\": \"Bc_E_TRUE\"}\n",
        "  \n",
        "  #4-vectors\n",
        "  v_Mu = vector.obj(x=df[Mu_vars[\"px\"]],\n",
        "                    y=df[Mu_vars[\"py\"]],\n",
        "                    z=df[Mu_vars[\"pz\"]],\n",
        "                    t=df[Mu_vars[\"e\"]])\n",
        "  \n",
        "  v_Jpsi = vector.obj(x=df[Jpsi_vars[\"px\"]],\n",
        "                      y=df[Jpsi_vars[\"py\"]],\n",
        "                      z=df[Jpsi_vars[\"pz\"]],\n",
        "                      t=df[Jpsi_vars[\"e\"]])\n",
        "  \n",
        "  v_Bc = vector.obj(x=df[Bc_vars[\"px\"]],\n",
        "                    y=df[Bc_vars[\"py\"]],\n",
        "                    z=df[Bc_vars[\"pz\"]],\n",
        "                    t=df[Bc_vars[\"e\"]])\n",
        "  \n",
        "  #W 4-vector = v_Bc - v_Jpsi\n",
        "  v_W = v_Bc - v_Jpsi\n",
        "  \n",
        "  #Boost to Bc rest frame\n",
        "  Bc_boost_vec = -(v_Bc.to_beta3())\n",
        "  v_Mu = v_Mu.boost_beta3(Bc_boost_vec)\n",
        "  v_W = v_W.boost_beta3(Bc_boost_vec)\n",
        "  v_Bc = v_Bc.boost_beta3(Bc_boost_vec)\n",
        "\n",
        "  #Boost to W rest frame\n",
        "  W_boost_vec = -(v_W.to_beta3())\n",
        "  v_Mu = v_Mu.boost_beta3(W_boost_vec)\n",
        "  v_Bc = v_Bc.boost_beta3(W_boost_vec)\n",
        "  \n",
        "  #3-vectors\n",
        "  v3_Mu = v_Mu.to_beta3()\n",
        "  v3_Bc = v_Bc.to_beta3()\n",
        "  #Unit vectors\n",
        "  v3_Mu = v3_Mu / v3_Mu.mag\n",
        "  v3_Bc = v3_Bc / v3_Bc.mag\n",
        "\n",
        "  #Angle\n",
        "  theta_W = v3_Mu.deltaangle(-v3_Bc)\n",
        "\n",
        "  return theta_W"
      ],
      "metadata": {
        "id": "oqMIb4EhkU_i"
      },
      "execution_count": 14,
      "outputs": []
    },
    {
      "cell_type": "code",
      "source": [
        "df[\"theta_W\"] = calc_theta_W(df)\n",
        "df[\"costheta_W\"] = np.cos(df[\"theta_W\"])"
      ],
      "metadata": {
        "id": "4NoH5nRcB7Qg"
      },
      "execution_count": 15,
      "outputs": []
    },
    {
      "cell_type": "code",
      "source": [
        "#Plot the angle\n",
        "plt.hist(df[\"costheta_W\"],bins=100)\n",
        "plt.show();"
      ],
      "metadata": {
        "colab": {
          "base_uri": "https://localhost:8080/",
          "height": 265
        },
        "id": "jy2BUC7GCB-v",
        "outputId": "90415891-aacc-411d-9961-3456760a2020"
      },
      "execution_count": 16,
      "outputs": [
        {
          "output_type": "display_data",
          "data": {
            "image/png": "[encoded data removed]",
            "text/plain": [
              "<Figure size 432x288 with 1 Axes>"
            ]
          },
          "metadata": {
            "needs_background": "light"
          }
        }
      ]
    },
    {
      "cell_type": "markdown",
      "source": [
        "Again, the angle distribution is similar to what we see in the [paper](https://arxiv.org/pdf/2007.06957.pdf). Time to move on to the final decay angle, $\\chi$."
      ],
      "metadata": {
        "id": "F0PtFUA-CRtE"
      }
    },
    {
      "cell_type": "code",
      "source": [
        "def calc_chi(df):\n",
        "  \"\"\"\n",
        "  Calculate the decay angle chi.\n",
        "\n",
        "    Parameters:\n",
        "      df -- input DataFrame (must containin the TRUE PX, PY, PZ, E values for each particle)\n",
        "    \n",
        "    Returns:\n",
        "      chi -- decay angle values as a numpy array, which can be added to user DataFrame as a new column\n",
        "  \"\"\"\n",
        "  \n",
        "  #Muon from the Bc decay\n",
        "  Mu_vars = {\"px\": \"Mu_PX_TRUE\",\n",
        "             \"py\": \"Mu_PY_TRUE\",\n",
        "             \"pz\": \"Mu_PZ_TRUE\",\n",
        "             \"e\": \"Mu_E_TRUE\"}\n",
        "  \n",
        "  #Muon from the J/psi with the same charge as the Bc\n",
        "  Jpsi_Mu_vars = {\"px\": \"Jpsi_Mu0_PX_TRUE\",\n",
        "                  \"py\": \"Jpsi_Mu0_PY_TRUE\",\n",
        "                  \"pz\": \"Jpsi_Mu0_PZ_TRUE\",\n",
        "                  \"e\": \"Jpsi_Mu0_E_TRUE\"}\n",
        "  \n",
        "  #J/psi\n",
        "  Jpsi_vars = {\"px\": \"Jpsi_PX_TRUE\",\n",
        "               \"py\": \"Jpsi_PY_TRUE\",\n",
        "               \"pz\": \"Jpsi_PZ_TRUE\",\n",
        "               \"e\": \"Jpsi_E_TRUE\"}\n",
        "  \n",
        "  #Bc\n",
        "  Bc_vars = {\"px\": \"Bc_PX_TRUE\",\n",
        "             \"py\": \"Bc_PY_TRUE\",\n",
        "             \"pz\": \"Bc_PZ_TRUE\",\n",
        "             \"e\": \"Bc_E_TRUE\"}\n",
        "  \n",
        "  #4-vectors\n",
        "  v_Mu = vector.obj(x=df[Mu_vars[\"px\"]],\n",
        "                    y=df[Mu_vars[\"py\"]],\n",
        "                    z=df[Mu_vars[\"pz\"]],\n",
        "                    t=df[Mu_vars[\"e\"]])\n",
        "  \n",
        "  v_Jpsi_Mu = vector.obj(x=df[Jpsi_Mu_vars[\"px\"]],\n",
        "                         y=df[Jpsi_Mu_vars[\"py\"]],\n",
        "                         z=df[Jpsi_Mu_vars[\"pz\"]],\n",
        "                         t=df[Jpsi_Mu_vars[\"e\"]])\n",
        "  \n",
        "  v_Jpsi = vector.obj(x=df[Jpsi_vars[\"px\"]],\n",
        "                      y=df[Jpsi_vars[\"py\"]],\n",
        "                      z=df[Jpsi_vars[\"pz\"]],\n",
        "                      t=df[Jpsi_vars[\"e\"]])\n",
        "  \n",
        "  v_Bc = vector.obj(x=df[Bc_vars[\"px\"]],\n",
        "                    y=df[Bc_vars[\"py\"]],\n",
        "                    z=df[Bc_vars[\"pz\"]],\n",
        "                    t=df[Bc_vars[\"e\"]])\n",
        "  \n",
        "  #W 4-vector = v_Bc - v_Jpsi\n",
        "  v_W = v_Bc - v_Jpsi\n",
        "  \n",
        "  #Boost to Bc rest frame\n",
        "  Bc_boost_vec = -(v_Bc.to_beta3())\n",
        "  v_Mu = v_Mu.boost_beta3(Bc_boost_vec)\n",
        "  v_Jpsi_Mu = v_Jpsi_Mu.boost_beta3(Bc_boost_vec)\n",
        "  v_Jpsi = v_Jpsi.boost_beta3(Bc_boost_vec)\n",
        "  v_W = v_W.boost_beta3(Bc_boost_vec)\n",
        "  v_Bc = v_Bc.boost_beta3(Bc_boost_vec)\n",
        "\n",
        "  v3_Jpsi = v_Jpsi.to_beta3()\n",
        "  v3_Jpsi = v3_Jpsi / v3_Jpsi.mag\n",
        "\n",
        "  v3_Jpsi_Mu = v_Jpsi_Mu.to_beta3()\n",
        "  v3_Jpsi_Mu = v3_Jpsi_Mu / v3_Jpsi_Mu.mag\n",
        "\n",
        "  v3_Jpsi_Jpsi_Mu = v3_Jpsi.cross(v3_Jpsi_Mu)\n",
        "\n",
        "  v3_W = v_W.to_beta3()\n",
        "  v3_W = v3_W / v3_W.mag\n",
        "\n",
        "  v3_Mu = v_Mu.to_beta3()\n",
        "  v3_Mu = v3_Mu / v3_Mu.mag\n",
        "\n",
        "  v3_W_Mu = v3_W.cross(v3_Mu)\n",
        "\n",
        "  v3_x = v3_Jpsi_Jpsi_Mu / v3_Jpsi_Jpsi_Mu.mag\n",
        "  v3_z = v3_Jpsi\n",
        "  v3_y = v3_z.cross(v3_x)\n",
        "  v3_y = v3_y / v3_y.mag\n",
        "\n",
        "  C = v3_W_Mu.dot(v3_x)\n",
        "  S = v3_W_Mu.dot(v3_y)\n",
        "\n",
        "  chi = np.arctan2(C,S)\n",
        "\n",
        "  return chi"
      ],
      "metadata": {
        "id": "QrhVnqc8CM6N"
      },
      "execution_count": 17,
      "outputs": []
    },
    {
      "cell_type": "code",
      "source": [
        "df[\"chi\"] = calc_chi(df)"
      ],
      "metadata": {
        "id": "F8V5-vfhFlVc"
      },
      "execution_count": 18,
      "outputs": []
    },
    {
      "cell_type": "code",
      "source": [
        "#Plot the angle\n",
        "plt.hist(df[\"chi\"],bins=100)\n",
        "plt.show();"
      ],
      "metadata": {
        "colab": {
          "base_uri": "https://localhost:8080/",
          "height": 265
        },
        "id": "AEoPkgAXFpfD",
        "outputId": "b3b0448c-946e-4b51-c1a5-24636021a5e5"
      },
      "execution_count": 19,
      "outputs": [
        {
          "output_type": "display_data",
          "data": {
            "image/png": "[encoded data removed]",
            "text/plain": [
              "<Figure size 432x288 with 1 Axes>"
            ]
          },
          "metadata": {
            "needs_background": "light"
          }
        }
      ]
    },
    {
      "cell_type": "markdown",
      "source": [
        "Once again, the distribution matches what we see in the paper. So it looks like our decay angle calculations are working 😊"
      ],
      "metadata": {
        "id": "oEWnhwRVILB4"
      }
    },
    {
      "cell_type": "markdown",
      "source": [
        "## Momentum transfer in the decay, $q^2$\n",
        "\n",
        "The momentum transfer $q^2$ is another important quantity in semileptonic $B$ meson decays. It is defined as the square of the invariant mass of the di-lepton system, namely $q^2 = m(\\mu^+ \\nu_\\mu)^2$.\n",
        "\n",
        "Again we can write a function to calculate it from 4-vectors:"
      ],
      "metadata": {
        "id": "hxW3Js4WIXj1"
      }
    },
    {
      "cell_type": "code",
      "source": [
        "def calc_q2(df):\n",
        "  \"\"\"\n",
        "  Calculate the decay angle chi.\n",
        "\n",
        "    Parameters:\n",
        "      df -- input DataFrame (must containin the TRUE PX, PY, PZ, E values for each particle)\n",
        "    \n",
        "    Returns:\n",
        "      q2 -- momentum transfer as a numpy array, which can be added to user DataFrame as a new column\n",
        "  \"\"\"\n",
        "\n",
        "  #J/psi\n",
        "  Jpsi_vars = {\"px\": \"Jpsi_PX_TRUE\",\n",
        "               \"py\": \"Jpsi_PY_TRUE\",\n",
        "               \"pz\": \"Jpsi_PZ_TRUE\",\n",
        "               \"e\": \"Jpsi_E_TRUE\"}\n",
        "  \n",
        "  #Bc\n",
        "  Bc_vars = {\"px\": \"Bc_PX_TRUE\",\n",
        "             \"py\": \"Bc_PY_TRUE\",\n",
        "             \"pz\": \"Bc_PZ_TRUE\",\n",
        "             \"e\": \"Bc_E_TRUE\"}\n",
        "\n",
        "  v_Jpsi = vector.array({\n",
        "      \"px\": df[Jpsi_vars[\"px\"]],\n",
        "      \"py\": df[Jpsi_vars[\"py\"]],\n",
        "      \"pz\": df[Jpsi_vars[\"pz\"]],\n",
        "      \"E\": df[Jpsi_vars[\"e\"]]})\n",
        "\n",
        "  v_Bc = vector.array({\n",
        "      \"px\": df[Bc_vars[\"px\"]],\n",
        "      \"py\": df[Bc_vars[\"py\"]],\n",
        "      \"pz\": df[Bc_vars[\"pz\"]],\n",
        "      \"E\": df[Bc_vars[\"e\"]]})\n",
        "\n",
        "  v_q = v_Bc - v_Jpsi\n",
        "  q2 = v_q.mass2\n",
        "  \n",
        "  return q2"
      ],
      "metadata": {
        "id": "lNzzo2x4F7VA"
      },
      "execution_count": 20,
      "outputs": []
    },
    {
      "cell_type": "code",
      "source": [
        "#Add q2 to our DataFrame\n",
        "df[\"q2\"] = calc_q2(df)"
      ],
      "metadata": {
        "id": "uK0CQFYPLhkc"
      },
      "execution_count": 21,
      "outputs": []
    },
    {
      "cell_type": "code",
      "source": [
        "#Plot the q2\n",
        "plt.hist(df[\"q2\"],bins=100)\n",
        "plt.show();"
      ],
      "metadata": {
        "colab": {
          "base_uri": "https://localhost:8080/",
          "height": 265
        },
        "id": "TurigqEvLkRl",
        "outputId": "45be5a0a-6ddf-4987-d635-d2c828f721fe"
      },
      "execution_count": 22,
      "outputs": [
        {
          "output_type": "display_data",
          "data": {
            "image/png": "[encoded data removed]",
            "text/plain": [
              "<Figure size 432x288 with 1 Axes>"
            ]
          },
          "metadata": {
            "needs_background": "light"
          }
        }
      ]
    },
    {
      "cell_type": "markdown",
      "source": [
        "The $q^2$ distribution is similar to what is shown in Figure 13 of the paper."
      ],
      "metadata": {
        "id": "-Ljh6q4MOICI"
      }
    },
    {
      "cell_type": "markdown",
      "source": [
        "## Saving the DataFrame for further analysis\n",
        "\n",
        "We will make use of the decay angles and $q^2$ we have calculated in our studies. Primarily, we will want to fit the 3D decay angle distribution in order to measure the underlying decay ampltidues. We will follow the formalism in [this paper](https://arxiv.org/pdf/2007.06956.pdf) to do this.\n",
        "\n",
        "Right now though, we just want to save our final DataFrame containing our new variables into a new ROOT file."
      ],
      "metadata": {
        "id": "DHRhj5YRO8gW"
      }
    },
    {
      "cell_type": "code",
      "source": [
        "#Make a new file in our Google Drive, with the same name as our input file but with _Vars added to the end\n",
        "out_file_path = f\"{file_path}_Vars\"\n",
        "outfile = uproot.recreate(f\"{out_file_path}.root\")"
      ],
      "metadata": {
        "id": "79a2S9ihLnTi"
      },
      "execution_count": 23,
      "outputs": []
    },
    {
      "cell_type": "code",
      "source": [
        "#Add our DataFrame to the file as a TTree with the same name as our input file TTree name\n",
        "#This might take a little while to run as our DataFrame is quite big\n",
        "outfile[tree_name] = df"
      ],
      "metadata": {
        "id": "0-3GGw3fQZRG"
      },
      "execution_count": 24,
      "outputs": []
    },
    {
      "cell_type": "code",
      "source": [
        "#We can see all the branches in the TTree we have written, including our new variables\n",
        "outfile[tree_name].show()"
      ],
      "metadata": {
        "colab": {
          "base_uri": "https://localhost:8080/"
        },
        "id": "cqDgOt0iRMjH",
        "outputId": "1e12ad56-9ac2-4cf5-91cb-17256e32b45c"
      },
      "execution_count": 26,
      "outputs": [
        {
          "output_type": "stream",
          "name": "stdout",
          "text": [
            "name                 | typename                 | interpretation                \n",
            "---------------------+--------------------------+-------------------------------\n",
            "index                | int64_t                  | AsDtype('>i8')\n",
            "nEvent               | int32_t                  | AsDtype('>i4')\n",
            "Bc_M                 | double                   | AsDtype('>f8')\n",
            "Bc_M_TRUE            | double                   | AsDtype('>f8')\n",
            "Jpsi_M               | double                   | AsDtype('>f8')\n",
            "Jpsi_M_TRUE          | double                   | AsDtype('>f8')\n",
            "Bc_P                 | double                   | AsDtype('>f8')\n",
            "Bc_P_TRUE            | double                   | AsDtype('>f8')\n",
            "Jpsi_P               | double                   | AsDtype('>f8')\n",
            "Jpsi_P_TRUE          | double                   | AsDtype('>f8')\n",
            "Bc_PT                | double                   | AsDtype('>f8')\n",
            "Bc_PT_TRUE           | double                   | AsDtype('>f8')\n",
            "Jpsi_PT              | double                   | AsDtype('>f8')\n",
            "Jpsi_PT_TRUE         | double                   | AsDtype('>f8')\n",
            "Bc_PX                | double                   | AsDtype('>f8')\n",
            "Bc_PX_TRUE           | double                   | AsDtype('>f8')\n",
            "Jpsi_PX              | double                   | AsDtype('>f8')\n",
            "Jpsi_PX_TRUE         | double                   | AsDtype('>f8')\n",
            "Bc_PY                | double                   | AsDtype('>f8')\n",
            "Bc_PY_TRUE           | double                   | AsDtype('>f8')\n",
            "Jpsi_PY              | double                   | AsDtype('>f8')\n",
            "Jpsi_PY_TRUE         | double                   | AsDtype('>f8')\n",
            "Bc_PZ                | double                   | AsDtype('>f8')\n",
            "Bc_PZ_TRUE           | double                   | AsDtype('>f8')\n",
            "Jpsi_PZ              | double                   | AsDtype('>f8')\n",
            "Jpsi_PZ_TRUE         | double                   | AsDtype('>f8')\n",
            "Bc_E                 | double                   | AsDtype('>f8')\n",
            "Bc_E_TRUE            | double                   | AsDtype('>f8')\n",
            "Jpsi_E               | double                   | AsDtype('>f8')\n",
            "Jpsi_E_TRUE          | double                   | AsDtype('>f8')\n",
            "Bc_End_x             | double                   | AsDtype('>f8')\n",
            "Bc_End_x_TRUE        | double                   | AsDtype('>f8')\n",
            "Jpsi_End_x           | double                   | AsDtype('>f8')\n",
            "Jpsi_End_x_TRUE      | double                   | AsDtype('>f8')\n",
            "Bc_End_y             | double                   | AsDtype('>f8')\n",
            "Bc_End_y_TRUE        | double                   | AsDtype('>f8')\n",
            "Jpsi_End_y           | double                   | AsDtype('>f8')\n",
            "Jpsi_End_y_TRUE      | double                   | AsDtype('>f8')\n",
            "Bc_End_z             | double                   | AsDtype('>f8')\n",
            "Bc_End_z_TRUE        | double                   | AsDtype('>f8')\n",
            "Jpsi_End_z           | double                   | AsDtype('>f8')\n",
            "Jpsi_End_z_TRUE      | double                   | AsDtype('>f8')\n",
            "Bc_Ori_x             | double                   | AsDtype('>f8')\n",
            "Bc_Ori_x_TRUE        | double                   | AsDtype('>f8')\n",
            "Jpsi_Ori_x           | double                   | AsDtype('>f8')\n",
            "Jpsi_Ori_x_TRUE      | double                   | AsDtype('>f8')\n",
            "Bc_Ori_y             | double                   | AsDtype('>f8')\n",
            "Bc_Ori_y_TRUE        | double                   | AsDtype('>f8')\n",
            "Jpsi_Ori_y           | double                   | AsDtype('>f8')\n",
            "Jpsi_Ori_y_TRUE      | double                   | AsDtype('>f8')\n",
            "Bc_Ori_z             | double                   | AsDtype('>f8')\n",
            "Bc_Ori_z_TRUE        | double                   | AsDtype('>f8')\n",
            "Jpsi_Ori_z           | double                   | AsDtype('>f8')\n",
            "Jpsi_Ori_z_TRUE      | double                   | AsDtype('>f8')\n",
            "Bc_FD                | double                   | AsDtype('>f8')\n",
            "Bc_FD_TRUE           | double                   | AsDtype('>f8')\n",
            "Jpsi_FD              | double                   | AsDtype('>f8')\n",
            "Jpsi_FD_TRUE         | double                   | AsDtype('>f8')\n",
            "Bc_FD_x              | double                   | AsDtype('>f8')\n",
            "Bc_FD_x_TRUE         | double                   | AsDtype('>f8')\n",
            "Jpsi_FD_x            | double                   | AsDtype('>f8')\n",
            "Jpsi_FD_x_TRUE       | double                   | AsDtype('>f8')\n",
            "Bc_FD_y              | double                   | AsDtype('>f8')\n",
            "Bc_FD_y_TRUE         | double                   | AsDtype('>f8')\n",
            "Jpsi_FD_y            | double                   | AsDtype('>f8')\n",
            "Jpsi_FD_y_TRUE       | double                   | AsDtype('>f8')\n",
            "Bc_FD_z              | double                   | AsDtype('>f8')\n",
            "Bc_FD_z_TRUE         | double                   | AsDtype('>f8')\n",
            "Jpsi_FD_z            | double                   | AsDtype('>f8')\n",
            "Jpsi_FD_z_TRUE       | double                   | AsDtype('>f8')\n",
            "Bc_gamma             | double                   | AsDtype('>f8')\n",
            "Bc_gamma_TRUE        | double                   | AsDtype('>f8')\n",
            "Jpsi_gamma           | double                   | AsDtype('>f8')\n",
            "Jpsi_gamma_TRUE      | double                   | AsDtype('>f8')\n",
            "Bc_beta              | double                   | AsDtype('>f8')\n",
            "Bc_beta_TRUE         | double                   | AsDtype('>f8')\n",
            "Jpsi_beta            | double                   | AsDtype('>f8')\n",
            "Jpsi_beta_TRUE       | double                   | AsDtype('>f8')\n",
            "Bc_eta               | double                   | AsDtype('>f8')\n",
            "Bc_eta_TRUE          | double                   | AsDtype('>f8')\n",
            "Jpsi_eta             | double                   | AsDtype('>f8')\n",
            "Jpsi_eta_TRUE        | double                   | AsDtype('>f8')\n",
            "Mu_P                 | double                   | AsDtype('>f8')\n",
            "Mu_P_TRUE            | double                   | AsDtype('>f8')\n",
            "Nu_P                 | double                   | AsDtype('>f8')\n",
            "Nu_P_TRUE            | double                   | AsDtype('>f8')\n",
            "Jpsi_Mu0_P           | double                   | AsDtype('>f8')\n",
            "Jpsi_Mu0_P_TRUE      | double                   | AsDtype('>f8')\n",
            "Jpsi_Mu1_P           | double                   | AsDtype('>f8')\n",
            "Jpsi_Mu1_P_TRUE      | double                   | AsDtype('>f8')\n",
            "Mu_PT                | double                   | AsDtype('>f8')\n",
            "Mu_PT_TRUE           | double                   | AsDtype('>f8')\n",
            "Nu_PT                | double                   | AsDtype('>f8')\n",
            "Nu_PT_TRUE           | double                   | AsDtype('>f8')\n",
            "Jpsi_Mu0_PT          | double                   | AsDtype('>f8')\n",
            "Jpsi_Mu0_PT_TRUE     | double                   | AsDtype('>f8')\n",
            "Jpsi_Mu1_PT          | double                   | AsDtype('>f8')\n",
            "Jpsi_Mu1_PT_TRUE     | double                   | AsDtype('>f8')\n",
            "Mu_PX                | double                   | AsDtype('>f8')\n",
            "Mu_PX_TRUE           | double                   | AsDtype('>f8')\n",
            "Nu_PX                | double                   | AsDtype('>f8')\n",
            "Nu_PX_TRUE           | double                   | AsDtype('>f8')\n",
            "Jpsi_Mu0_PX          | double                   | AsDtype('>f8')\n",
            "Jpsi_Mu0_PX_TRUE     | double                   | AsDtype('>f8')\n",
            "Jpsi_Mu1_PX          | double                   | AsDtype('>f8')\n",
            "Jpsi_Mu1_PX_TRUE     | double                   | AsDtype('>f8')\n",
            "Mu_PY                | double                   | AsDtype('>f8')\n",
            "Mu_PY_TRUE           | double                   | AsDtype('>f8')\n",
            "Nu_PY                | double                   | AsDtype('>f8')\n",
            "Nu_PY_TRUE           | double                   | AsDtype('>f8')\n",
            "Jpsi_Mu0_PY          | double                   | AsDtype('>f8')\n",
            "Jpsi_Mu0_PY_TRUE     | double                   | AsDtype('>f8')\n",
            "Jpsi_Mu1_PY          | double                   | AsDtype('>f8')\n",
            "Jpsi_Mu1_PY_TRUE     | double                   | AsDtype('>f8')\n",
            "Mu_PZ                | double                   | AsDtype('>f8')\n",
            "Mu_PZ_TRUE           | double                   | AsDtype('>f8')\n",
            "Nu_PZ                | double                   | AsDtype('>f8')\n",
            "Nu_PZ_TRUE           | double                   | AsDtype('>f8')\n",
            "Jpsi_Mu0_PZ          | double                   | AsDtype('>f8')\n",
            "Jpsi_Mu0_PZ_TRUE     | double                   | AsDtype('>f8')\n",
            "Jpsi_Mu1_PZ          | double                   | AsDtype('>f8')\n",
            "Jpsi_Mu1_PZ_TRUE     | double                   | AsDtype('>f8')\n",
            "Mu_E                 | double                   | AsDtype('>f8')\n",
            "Mu_E_TRUE            | double                   | AsDtype('>f8')\n",
            "Nu_E                 | double                   | AsDtype('>f8')\n",
            "Nu_E_TRUE            | double                   | AsDtype('>f8')\n",
            "Jpsi_Mu0_E           | double                   | AsDtype('>f8')\n",
            "Jpsi_Mu0_E_TRUE      | double                   | AsDtype('>f8')\n",
            "Jpsi_Mu1_E           | double                   | AsDtype('>f8')\n",
            "Jpsi_Mu1_E_TRUE      | double                   | AsDtype('>f8')\n",
            "Jpsi_Mu_M2           | double                   | AsDtype('>f8')\n",
            "Jpsi_Mu_M2_TRUE      | double                   | AsDtype('>f8')\n",
            "Jpsi_Nu_M2           | double                   | AsDtype('>f8')\n",
            "Jpsi_Nu_M2_TRUE      | double                   | AsDtype('>f8')\n",
            "Mu_Nu_M2             | double                   | AsDtype('>f8')\n",
            "Mu_Nu_M2_TRUE        | double                   | AsDtype('>f8')\n",
            "MCorr                | double                   | AsDtype('>f8')\n",
            "theta_Jpsi           | double                   | AsDtype('>f8')\n",
            "costheta_Jpsi        | double                   | AsDtype('>f8')\n",
            "theta_W              | double                   | AsDtype('>f8')\n",
            "costheta_W           | double                   | AsDtype('>f8')\n",
            "chi                  | double                   | AsDtype('>f8')\n",
            "q2                   | double                   | AsDtype('>f8')\n"
          ]
        }
      ]
    },
    {
      "cell_type": "code",
      "source": [
        "#Close the file to finalise things\n",
        "outfile.close()"
      ],
      "metadata": {
        "id": "J1ZZgn8ORSKo"
      },
      "execution_count": 27,
      "outputs": []
    },
    {
      "cell_type": "markdown",
      "source": [
        "That brings us to the end of the notebook! Using this notebook, and making some of your own, it's time to get familiar with:\n",
        " - ROOT files\n",
        " - numpy\n",
        " - uproot\n",
        " - pandas\n",
        " - matplotlib\n",
        "\n",
        "Looking forward, we will be getting into maximum-likelihood fitting, to try and fit the decay angle distribution in order to measure decay amplitudes. For this we will be using the [zfit](https://zfit.readthedocs.io/en/0.3.6/index.html) package."
      ],
      "metadata": {
        "id": "1XMhtLJuU4kJ"
      }
    }
  ]
}