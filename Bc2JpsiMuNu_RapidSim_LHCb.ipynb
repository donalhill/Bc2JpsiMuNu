{
  "nbformat": 4,
  "nbformat_minor": 0,
  "metadata": {
    "colab": {
      "name": "Bc2JpsiMuNu_RapidSim_LHCb.ipynb",
      "provenance": [],
      "mount_file_id": "1JKfxh_I6zFWYr8Z0eQ0Pqreyrj6Ix50Z",
      "authorship_tag": "ABX9TyMJOXorZVd2Qiw1xKNtskPv",
      "include_colab_link": true
    },
    "kernelspec": {
      "name": "python3",
      "display_name": "Python 3"
    },
    "language_info": {
      "name": "python"
    }
  },
  "cells": [
    {
      "cell_type": "markdown",
      "metadata": {
        "id": "view-in-github",
        "colab_type": "text"
      },
      "source": [
        "<a href=\"https://colab.research.google.com/github/donalrinho/Bc2JpsiMuNu/blob/main/Bc2JpsiMuNu_RapidSim_LHCb.ipynb\" target=\"_parent\"><img src=\"https://colab.research.google.com/assets/colab-badge.svg\" alt=\"Open In Colab\"/></a>"
      ]
    },
    {
      "cell_type": "markdown",
      "source": [
        "# Analyse $B_c^+ \\to J/\\psi \\mu^+ \\nu_\\mu$ RapidSim MC which was generated inside LHCb detector acceptance\n",
        "\n",
        "In this notebook, we study RapidSim MC which was generated with all particles falling inside the LHCb detector coverage. Instead of looking only at the MC-truth angles, we will also look at the `reconstructed` values - these represent what we would be able to measure in real-life LHCb data. Quite a few features of this notebook are similar to those in [Bc2JpsiMuNu_RapidSim.ipynb](https://github.com/donalrinho/Bc2JpsiMuNu/blob/main/Bc2JpsiMuNu_RapidSim.ipynb), where we looked at a generator-level sample of decays from RapidSim to study MC-truth variables."
      ],
      "metadata": {
        "id": "W7xu3wUYOa_c"
      }
    },
    {
      "cell_type": "code",
      "execution_count": 7,
      "metadata": {
        "colab": {
          "base_uri": "https://localhost:8080/"
        },
        "id": "irCpH9UbOVze",
        "outputId": "e6ab487e-f2b6-418d-e81a-67cf5bfb8ef6"
      },
      "outputs": [
        {
          "output_type": "stream",
          "name": "stdout",
          "text": [
            "Requirement already satisfied: uproot in /usr/local/lib/python3.7/dist-packages (4.1.9)\n",
            "Requirement already satisfied: numpy in /usr/local/lib/python3.7/dist-packages (from uproot) (1.19.5)\n",
            "Requirement already satisfied: setuptools in /usr/local/lib/python3.7/dist-packages (from uproot) (57.4.0)\n",
            "Collecting vector\n",
            "  Downloading vector-0.8.4-py3-none-any.whl (155 kB)\n",
            "\u001b[K     |████████████████████████████████| 155 kB 9.3 MB/s \n",
            "\u001b[?25hRequirement already satisfied: numpy>=1.13.3 in /usr/local/lib/python3.7/dist-packages (from vector) (1.19.5)\n",
            "Requirement already satisfied: typing-extensions in /usr/local/lib/python3.7/dist-packages (from vector) (3.10.0.2)\n",
            "Requirement already satisfied: packaging>=19.0 in /usr/local/lib/python3.7/dist-packages (from vector) (21.3)\n",
            "Requirement already satisfied: importlib-metadata>=0.22 in /usr/local/lib/python3.7/dist-packages (from vector) (4.10.0)\n",
            "Requirement already satisfied: zipp>=0.5 in /usr/local/lib/python3.7/dist-packages (from importlib-metadata>=0.22->vector) (3.7.0)\n",
            "Requirement already satisfied: pyparsing!=3.0.5,>=2.0.2 in /usr/local/lib/python3.7/dist-packages (from packaging>=19.0->vector) (3.0.6)\n",
            "Installing collected packages: vector\n",
            "Successfully installed vector-0.8.4\n"
          ]
        }
      ],
      "source": [
        "#Install uproot for ROOT file loading\n",
        "!pip install uproot\n",
        "#We use the vector package to make 4-vectors and manipulate them to calculate the decay angles\n",
        "!pip install vector"
      ]
    },
    {
      "cell_type": "code",
      "source": [
        "#Import some useful packages\n",
        "import uproot\n",
        "import vector\n",
        "import numpy as np\n",
        "import matplotlib\n",
        "from matplotlib import rc\n",
        "import matplotlib.pyplot as plt\n",
        "%matplotlib inline"
      ],
      "metadata": {
        "id": "6P_RGNqhPWel"
      },
      "execution_count": 8,
      "outputs": []
    },
    {
      "cell_type": "code",
      "source": [
        "#Path to RapidSim Bc -> J/psi mu nu file, with events generated inside the LHCb detector\n",
        "drive_dir = \"/content/drive/MyDrive/Bc2JpsiMuNu_ROOT_files\"\n",
        "file_path = f\"{drive_dir}/Bc2JpsiMuNu_RapidSim_LHCb\"\n",
        "print(f\"Loading ROOT file {file_path}.root\")\n",
        "tree_name = \"DecayTree\"\n",
        "events = uproot.open(f\"{file_path}.root:{tree_name}\")\n",
        "events"
      ],
      "metadata": {
        "colab": {
          "base_uri": "https://localhost:8080/"
        },
        "id": "fAxK2rtTPc6b",
        "outputId": "ea96cb7c-bb80-4f2d-c96e-dbb0619d4a12"
      },
      "execution_count": 4,
      "outputs": [
        {
          "output_type": "stream",
          "name": "stdout",
          "text": [
            "Loading ROOT file /content/drive/MyDrive/Bc2JpsiMuNu_ROOT_files/Bc2JpsiMuNu_RapidSim_LHCb.root\n"
          ]
        },
        {
          "output_type": "execute_result",
          "data": {
            "text/plain": [
              "<TTree 'DecayTree' (136 branches) at 0x7f4e2dbd9810>"
            ]
          },
          "metadata": {},
          "execution_count": 4
        }
      ]
    },
    {
      "cell_type": "code",
      "source": [
        "#Make pandas DataFrame\n",
        "df = events.arrays(library=\"pd\")"
      ],
      "metadata": {
        "id": "HEyQwJ9ZPkSy"
      },
      "execution_count": 5,
      "outputs": []
    },
    {
      "cell_type": "code",
      "source": [
        "#Check how many events we have in our DataFrame (same as the number of events in the ROOT TTree)\n",
        "len(df)"
      ],
      "metadata": {
        "colab": {
          "base_uri": "https://localhost:8080/"
        },
        "id": "WxNHO0OWPq1E",
        "outputId": "112181af-a239-46bf-c1ed-dbc127aefd35"
      },
      "execution_count": 6,
      "outputs": [
        {
          "output_type": "execute_result",
          "data": {
            "text/plain": [
              "912284"
            ]
          },
          "metadata": {},
          "execution_count": 6
        }
      ]
    },
    {
      "cell_type": "markdown",
      "source": [
        "Here we have close to 1 million events in our DataFrame. We actually generated 3 million in RapidSim, but only those events falling inside the LHCb detector acceptance are stored in the ROOT file.\n",
        "\n",
        "\n",
        "## Calculating decay angles and $q^2$\n",
        "\n",
        "In this notebook, we are going to calculate the true decay angles and $q^2$ like we did in an earlier notebook. But in addition, we also want to calculate these quantities using the information we would actually have available to us in a real data analysis. Because of the missing neutrino, we don't reconstruct the full 4-momentum of our $B_c^+$ particle, and we have to operate with estimates for this quantity.\n",
        "\n",
        "Let's not worry about the reconstructed angles and $q^2$ for now. But we can still rewrite our angle and $q^2$ calculator functions a little, to anticipate that we want to be able to calculate either true or reconstructed quantities."
      ],
      "metadata": {
        "id": "286URc0VPvh7"
      }
    },
    {
      "cell_type": "code",
      "source": [
        "def calc_theta_Jpsi(df, var_type):\n",
        "  \"\"\"\n",
        "  Calculate the decay angle theta_Jpsi.\n",
        "\n",
        "    Parameters:\n",
        "      df -- input DataFrame (must containin the TRUE PX, PY, PZ, E values for each particle)\n",
        "      var_type -- whether to calculate true or reconstructed value of the angle\n",
        "    \n",
        "    Returns:\n",
        "      theta_Jpsi -- decay angle values as a numpy array, which can be added to user DataFrame as a new column\n",
        "  \"\"\"\n",
        "  \n",
        "  if(var_type==\"true\"):\n",
        "    var_suff = \"_TRUE\"\n",
        "  else:\n",
        "    var_suff = \"_RECO\"\n",
        "\n",
        "  #Muon from the J/psi with the same charge as the Bc\n",
        "  Jpsi_Mu_vars = {\"px\": f\"Jpsi_Mu0_PX{var_suff}\",\n",
        "                  \"py\": f\"Jpsi_Mu0_PY{var_suff}\",\n",
        "                  \"pz\": f\"Jpsi_Mu0_PZ{var_suff}\",\n",
        "                  \"e\": f\"Jpsi_Mu0_E{var_suff}\"}\n",
        "  \n",
        "  #J/psi\n",
        "  Jpsi_vars = {\"px\": f\"Jpsi_PX{var_suff}\",\n",
        "               \"py\": f\"Jpsi_PY{var_suff}\",\n",
        "               \"pz\": f\"Jpsi_PZ{var_suff}\",\n",
        "               \"e\": f\"Jpsi_E{var_suff}\"}\n",
        "  \n",
        "  #Bc\n",
        "  Bc_vars = {\"px\": f\"Bc_PX{var_suff}\",\n",
        "             \"py\": f\"Bc_PY{var_suff}\",\n",
        "             \"pz\": f\"Bc_PZ{var_suff}\",\n",
        "             \"e\": f\"Bc_E{var_suff}\"}\n",
        "  \n",
        "  #4-vectors\n",
        "  v_Jpsi_Mu = vector.obj(x=df[Jpsi_Mu_vars[\"px\"]],\n",
        "                         y=df[Jpsi_Mu_vars[\"py\"]],\n",
        "                         z=df[Jpsi_Mu_vars[\"pz\"]],\n",
        "                         t=df[Jpsi_Mu_vars[\"e\"]])\n",
        "  \n",
        "  v_Jpsi = vector.obj(x=df[Jpsi_vars[\"px\"]],\n",
        "                      y=df[Jpsi_vars[\"py\"]],\n",
        "                      z=df[Jpsi_vars[\"pz\"]],\n",
        "                      t=df[Jpsi_vars[\"e\"]])\n",
        "  \n",
        "  v_Bc = vector.obj(x=df[Bc_vars[\"px\"]],\n",
        "                    y=df[Bc_vars[\"py\"]],\n",
        "                    z=df[Bc_vars[\"pz\"]],\n",
        "                    t=df[Bc_vars[\"e\"]])\n",
        "  \n",
        "  #Boost to Bc rest frame\n",
        "  Bc_boost_vec = -(v_Bc.to_beta3())\n",
        "  v_Jpsi_Mu = v_Jpsi_Mu.boost_beta3(Bc_boost_vec)\n",
        "  v_Jpsi = v_Jpsi.boost_beta3(Bc_boost_vec)\n",
        "  v_Bc = v_Bc.boost_beta3(Bc_boost_vec)\n",
        "\n",
        "  #Boost to J/psi rest frame\n",
        "  Jpsi_boost_vec = -(v_Jpsi.to_beta3())\n",
        "  v_Jpsi_Mu = v_Jpsi_Mu.boost_beta3(Jpsi_boost_vec)\n",
        "  v_Bc = v_Bc.boost_beta3(Jpsi_boost_vec)\n",
        "  \n",
        "  #3-vectors\n",
        "  v3_Jpsi_Mu = v_Jpsi_Mu.to_beta3()\n",
        "  v3_Bc = v_Bc.to_beta3()\n",
        "  #Unit vectors\n",
        "  v3_Jpsi_Mu = v3_Jpsi_Mu / v3_Jpsi_Mu.mag\n",
        "  v3_Bc = v3_Bc / v3_Bc.mag\n",
        "\n",
        "  #Angle\n",
        "  theta_Jpsi = v3_Jpsi_Mu.deltaangle(-v3_Bc)\n",
        "\n",
        "  return theta_Jpsi"
      ],
      "metadata": {
        "id": "ltycP1BLP4dC"
      },
      "execution_count": 10,
      "outputs": []
    },
    {
      "cell_type": "code",
      "source": [
        "#Calculate the true theta_Jpsi\n",
        "df[\"theta_Jpsi_true\"] = calc_theta_Jpsi(df, \"true\")\n",
        "df[\"costheta_Jpsi_true\"] = np.cos(df[\"theta_Jpsi_true\"])"
      ],
      "metadata": {
        "id": "u1XxfBWERld2"
      },
      "execution_count": 11,
      "outputs": []
    },
    {
      "cell_type": "code",
      "source": [
        "plt.hist(df[\"costheta_Jpsi_true\"],bins=100)\n",
        "plt.show();"
      ],
      "metadata": {
        "colab": {
          "base_uri": "https://localhost:8080/",
          "height": 265
        },
        "id": "jJHh6qLLR2NZ",
        "outputId": "b3288592-6e2d-441b-cb63-17aa1bada41c"
      },
      "execution_count": 12,
      "outputs": [
        {
          "output_type": "display_data",
          "data": {
            "image/png": "[encoded data removed]",
            "text/plain": [
              "<Figure size 432x288 with 1 Axes>"
            ]
          },
          "metadata": {
            "needs_background": "light"
          }
        }
      ]
    },
    {
      "cell_type": "code",
      "source": [
        "def calc_theta_W(df, var_type):\n",
        "  \"\"\"\n",
        "  Calculate the decay angle theta_W.\n",
        "\n",
        "    Parameters:\n",
        "      df -- input DataFrame (must containin the TRUE PX, PY, PZ, E values for each particle)\n",
        "      var_type -- whether to calculate true or reconstructed value of the angle\n",
        "    \n",
        "    Returns:\n",
        "      theta_W -- decay angle values as a numpy array, which can be added to user DataFrame as a new column\n",
        "  \"\"\"\n",
        "\n",
        "  if(var_type==\"true\"):\n",
        "    var_suff = \"_TRUE\"\n",
        "  else:\n",
        "    var_suff = \"_RECO\"\n",
        "  \n",
        "  #Muon from the Bc decay\n",
        "  Mu_vars = {\"px\": f\"Mu_PX{var_suff}\",\n",
        "             \"py\": f\"Mu_PY{var_suff}\",\n",
        "             \"pz\": f\"Mu_PZ{var_suff}\",\n",
        "             \"e\": f\"Mu_E{var_suff}\"}\n",
        "  \n",
        "  #Muon from the J/psi with the same charge as the Bc\n",
        "  Jpsi_Mu_vars = {\"px\": f\"Jpsi_Mu0_PX{var_suff}\",\n",
        "                  \"py\": f\"Jpsi_Mu0_PY{var_suff}\",\n",
        "                  \"pz\": f\"Jpsi_Mu0_PZ{var_suff}\",\n",
        "                  \"e\": f\"Jpsi_Mu0_E{var_suff}\"}\n",
        "  \n",
        "  #J/psi\n",
        "  Jpsi_vars = {\"px\": f\"Jpsi_PX{var_suff}\",\n",
        "               \"py\": f\"Jpsi_PY{var_suff}\",\n",
        "               \"pz\": f\"Jpsi_PZ{var_suff}\",\n",
        "               \"e\": f\"Jpsi_E{var_suff}\"}\n",
        "  \n",
        "  #Bc\n",
        "  Bc_vars = {\"px\": f\"Bc_PX{var_suff}\",\n",
        "             \"py\": f\"Bc_PY{var_suff}\",\n",
        "             \"pz\": f\"Bc_PZ{var_suff}\",\n",
        "             \"e\": f\"Bc_E{var_suff}\"}\n",
        "  \n",
        "  #4-vectors\n",
        "  v_Mu = vector.obj(x=df[Mu_vars[\"px\"]],\n",
        "                    y=df[Mu_vars[\"py\"]],\n",
        "                    z=df[Mu_vars[\"pz\"]],\n",
        "                    t=df[Mu_vars[\"e\"]])\n",
        "  \n",
        "  v_Jpsi = vector.obj(x=df[Jpsi_vars[\"px\"]],\n",
        "                      y=df[Jpsi_vars[\"py\"]],\n",
        "                      z=df[Jpsi_vars[\"pz\"]],\n",
        "                      t=df[Jpsi_vars[\"e\"]])\n",
        "  \n",
        "  v_Bc = vector.obj(x=df[Bc_vars[\"px\"]],\n",
        "                    y=df[Bc_vars[\"py\"]],\n",
        "                    z=df[Bc_vars[\"pz\"]],\n",
        "                    t=df[Bc_vars[\"e\"]])\n",
        "  \n",
        "  #W 4-vector = v_Bc - v_Jpsi\n",
        "  v_W = v_Bc - v_Jpsi\n",
        "\n",
        "  #Boost to Bc rest frame\n",
        "  Bc_boost_vec = -(v_Bc.to_beta3())\n",
        "  v_Mu = v_Mu.boost_beta3(Bc_boost_vec)\n",
        "  v_W = v_W.boost_beta3(Bc_boost_vec)\n",
        "  v_Bc = v_Bc.boost_beta3(Bc_boost_vec)\n",
        "\n",
        "  #Boost to W rest frame\n",
        "  W_boost_vec = -(v_W.to_beta3())\n",
        "  v_Mu = v_Mu.boost_beta3(W_boost_vec)\n",
        "  v_Bc = v_Bc.boost_beta3(W_boost_vec)\n",
        "  \n",
        "  #3-vectors\n",
        "  v3_Mu = v_Mu.to_beta3()\n",
        "  v3_Bc = v_Bc.to_beta3()\n",
        "  #Unit vectors\n",
        "  v3_Mu = v3_Mu / v3_Mu.mag\n",
        "  v3_Bc = v3_Bc / v3_Bc.mag\n",
        "\n",
        "  #Angle\n",
        "  theta_W = v3_Mu.deltaangle(-v3_Bc)\n",
        "\n",
        "  return theta_W"
      ],
      "metadata": {
        "id": "irjpdU1dR6EH"
      },
      "execution_count": 13,
      "outputs": []
    },
    {
      "cell_type": "code",
      "source": [
        "#Calculate the true theta_W\n",
        "df[\"theta_W_true\"] = calc_theta_W(df, \"true\")\n",
        "df[\"costheta_W_true\"] = np.cos(df[\"theta_W_true\"])"
      ],
      "metadata": {
        "id": "Lwkd9E6YSXhA"
      },
      "execution_count": 14,
      "outputs": []
    },
    {
      "cell_type": "code",
      "source": [
        "plt.hist(df[\"costheta_W_true\"],bins=100)\n",
        "plt.show();"
      ],
      "metadata": {
        "colab": {
          "base_uri": "https://localhost:8080/",
          "height": 267
        },
        "id": "EsRsHqncSb97",
        "outputId": "3e5a7202-e019-4c77-af5b-bcd2b5cfbc4d"
      },
      "execution_count": 15,
      "outputs": [
        {
          "output_type": "display_data",
          "data": {
            "image/png": "[encoded data removed]",
            "text/plain": [
              "<Figure size 432x288 with 1 Axes>"
            ]
          },
          "metadata": {
            "needs_background": "light"
          }
        }
      ]
    },
    {
      "cell_type": "code",
      "source": [
        "def calc_chi(df, var_type):\n",
        "  \"\"\"\n",
        "  Calculate the decay angle chi.\n",
        "\n",
        "    Parameters:\n",
        "      df -- input DataFrame (must containin the TRUE PX, PY, PZ, E values for each particle)\n",
        "      var_type -- whether to calculate true or reconstructed value of the angle\n",
        "    \n",
        "    Returns:\n",
        "      chi -- decay angle values as a numpy array, which can be added to user DataFrame as a new column\n",
        "  \"\"\"\n",
        "\n",
        "  if(var_type==\"true\"):\n",
        "    var_suff = \"_TRUE\"\n",
        "  else:\n",
        "    var_suff = \"_RECO\"\n",
        "  \n",
        "  #Muon from the Bc decay\n",
        "  Mu_vars = {\"px\": f\"Mu_PX{var_suff}\",\n",
        "             \"py\": f\"Mu_PY{var_suff}\",\n",
        "             \"pz\": f\"Mu_PZ{var_suff}\",\n",
        "             \"e\": f\"Mu_E{var_suff}\"}\n",
        "  \n",
        "  #Muon from the J/psi with the same charge as the Bc\n",
        "  Jpsi_Mu_vars = {\"px\": f\"Jpsi_Mu0_PX{var_suff}\",\n",
        "                  \"py\": f\"Jpsi_Mu0_PY{var_suff}\",\n",
        "                  \"pz\": f\"Jpsi_Mu0_PZ{var_suff}\",\n",
        "                  \"e\": f\"Jpsi_Mu0_E{var_suff}\"}\n",
        "  \n",
        "  #J/psi\n",
        "  Jpsi_vars = {\"px\": f\"Jpsi_PX{var_suff}\",\n",
        "               \"py\": f\"Jpsi_PY{var_suff}\",\n",
        "               \"pz\": f\"Jpsi_PZ{var_suff}\",\n",
        "               \"e\": f\"Jpsi_E{var_suff}\"}\n",
        "  \n",
        "  #Bc\n",
        "  Bc_vars = {\"px\": f\"Bc_PX{var_suff}\",\n",
        "             \"py\": f\"Bc_PY{var_suff}\",\n",
        "             \"pz\": f\"Bc_PZ{var_suff}\",\n",
        "             \"e\": f\"Bc_E{var_suff}\"}\n",
        "  \n",
        "  #4-vectors\n",
        "  v_Mu = vector.obj(x=df[Mu_vars[\"px\"]],\n",
        "                    y=df[Mu_vars[\"py\"]],\n",
        "                    z=df[Mu_vars[\"pz\"]],\n",
        "                    t=df[Mu_vars[\"e\"]])\n",
        "  \n",
        "  v_Jpsi_Mu = vector.obj(x=df[Jpsi_Mu_vars[\"px\"]],\n",
        "                         y=df[Jpsi_Mu_vars[\"py\"]],\n",
        "                         z=df[Jpsi_Mu_vars[\"pz\"]],\n",
        "                         t=df[Jpsi_Mu_vars[\"e\"]])\n",
        "  \n",
        "  v_Jpsi = vector.obj(x=df[Jpsi_vars[\"px\"]],\n",
        "                      y=df[Jpsi_vars[\"py\"]],\n",
        "                      z=df[Jpsi_vars[\"pz\"]],\n",
        "                      t=df[Jpsi_vars[\"e\"]])\n",
        "  \n",
        "  v_Bc = vector.obj(x=df[Bc_vars[\"px\"]],\n",
        "                    y=df[Bc_vars[\"py\"]],\n",
        "                    z=df[Bc_vars[\"pz\"]],\n",
        "                    t=df[Bc_vars[\"e\"]])\n",
        "  \n",
        "  #W 4-vector = v_Bc - v_Jpsi\n",
        "  v_W = v_Bc - v_Jpsi\n",
        "  \n",
        "  #Boost to Bc rest frame\n",
        "  Bc_boost_vec = -(v_Bc.to_beta3())\n",
        "  v_Mu = v_Mu.boost_beta3(Bc_boost_vec)\n",
        "  v_Jpsi_Mu = v_Jpsi_Mu.boost_beta3(Bc_boost_vec)\n",
        "  v_Jpsi = v_Jpsi.boost_beta3(Bc_boost_vec)\n",
        "  v_W = v_W.boost_beta3(Bc_boost_vec)\n",
        "  v_Bc = v_Bc.boost_beta3(Bc_boost_vec)\n",
        "\n",
        "  v3_Jpsi = v_Jpsi.to_beta3()\n",
        "  v3_Jpsi = v3_Jpsi / v3_Jpsi.mag\n",
        "\n",
        "  v3_Jpsi_Mu = v_Jpsi_Mu.to_beta3()\n",
        "  v3_Jpsi_Mu = v3_Jpsi_Mu / v3_Jpsi_Mu.mag\n",
        "\n",
        "  v3_Jpsi_Jpsi_Mu = v3_Jpsi.cross(v3_Jpsi_Mu)\n",
        "\n",
        "  v3_W = v_W.to_beta3()\n",
        "  v3_W = v3_W / v3_W.mag\n",
        "\n",
        "  v3_Mu = v_Mu.to_beta3()\n",
        "  v3_Mu = v3_Mu / v3_Mu.mag\n",
        "\n",
        "  v3_W_Mu = v3_W.cross(v3_Mu)\n",
        "\n",
        "  v3_x = v3_Jpsi_Jpsi_Mu / v3_Jpsi_Jpsi_Mu.mag\n",
        "  v3_z = v3_Jpsi\n",
        "  v3_y = v3_z.cross(v3_x)\n",
        "  v3_y = v3_y / v3_y.mag\n",
        "\n",
        "  C = v3_W_Mu.dot(v3_x)\n",
        "  S = v3_W_Mu.dot(v3_y)\n",
        "\n",
        "  chi = np.arctan2(C,S)\n",
        "\n",
        "  return chi"
      ],
      "metadata": {
        "id": "YTR2rn0USfZD"
      },
      "execution_count": 16,
      "outputs": []
    },
    {
      "cell_type": "code",
      "source": [
        "#Calculate the true chi\n",
        "df[\"chi_true\"] = calc_chi(df, \"true\")"
      ],
      "metadata": {
        "id": "s7cbAOzkYLde"
      },
      "execution_count": 17,
      "outputs": []
    },
    {
      "cell_type": "code",
      "source": [
        "plt.hist(df[\"chi_true\"],bins=100)\n",
        "plt.show();"
      ],
      "metadata": {
        "colab": {
          "base_uri": "https://localhost:8080/",
          "height": 265
        },
        "id": "KGfErHrZYRHR",
        "outputId": "02cb07d4-766c-431b-b163-b3716a2c8309"
      },
      "execution_count": 18,
      "outputs": [
        {
          "output_type": "display_data",
          "data": {
            "image/png": "[encoded data removed]",
            "text/plain": [
              "<Figure size 432x288 with 1 Axes>"
            ]
          },
          "metadata": {
            "needs_background": "light"
          }
        }
      ]
    },
    {
      "cell_type": "code",
      "source": [
        "def calc_q2(df, var_type):\n",
        "  \"\"\"\n",
        "  Calculate the decay angle chi.\n",
        "\n",
        "    Parameters:\n",
        "      df -- input DataFrame (must containin the TRUE PX, PY, PZ, E values for each particle)\n",
        "      var_type -- whether to calculate true or reconstructed value of the q2\n",
        "    \n",
        "    Returns:\n",
        "      q2 -- momentum transfer as a numpy array, which can be added to user DataFrame as a new column\n",
        "  \"\"\"\n",
        "\n",
        "  if(var_type==\"true\"):\n",
        "    var_suff = \"_TRUE\"\n",
        "  else:\n",
        "    var_suff = \"_RECO\"\n",
        "\n",
        "  #J/psi\n",
        "  Jpsi_vars = {\"px\": f\"Jpsi_PX{var_suff}\",\n",
        "               \"py\": f\"Jpsi_PY{var_suff}\",\n",
        "               \"pz\": f\"Jpsi_PZ{var_suff}\",\n",
        "               \"e\": f\"Jpsi_E{var_suff}\"}\n",
        "  \n",
        "  #Bc\n",
        "  Bc_vars = {\"px\": f\"Bc_PX{var_suff}\",\n",
        "             \"py\": f\"Bc_PY{var_suff}\",\n",
        "             \"pz\": f\"Bc_PZ{var_suff}\",\n",
        "             \"e\": f\"Bc_E{var_suff}\"}\n",
        "\n",
        "  v_Jpsi = vector.array({\n",
        "      \"px\": df[Jpsi_vars[\"px\"]],\n",
        "      \"py\": df[Jpsi_vars[\"py\"]],\n",
        "      \"pz\": df[Jpsi_vars[\"pz\"]],\n",
        "      \"E\": df[Jpsi_vars[\"e\"]]})\n",
        "\n",
        "  v_Bc = vector.array({\n",
        "      \"px\": df[Bc_vars[\"px\"]],\n",
        "      \"py\": df[Bc_vars[\"py\"]],\n",
        "      \"pz\": df[Bc_vars[\"pz\"]],\n",
        "      \"E\": df[Bc_vars[\"e\"]]})\n",
        "\n",
        "  v_q = v_Bc - v_Jpsi\n",
        "  q2 = v_q.mass2\n",
        "  \n",
        "  return q2"
      ],
      "metadata": {
        "id": "f8BEarhSYUzY"
      },
      "execution_count": 19,
      "outputs": []
    },
    {
      "cell_type": "code",
      "source": [
        "#Add true q2 to our DataFrame\n",
        "df[\"q2_true\"] = calc_q2(df, \"true\")"
      ],
      "metadata": {
        "id": "rRc-menpYmwR"
      },
      "execution_count": 20,
      "outputs": []
    },
    {
      "cell_type": "code",
      "source": [
        "plt.hist(df[\"q2_true\"],bins=100)\n",
        "plt.show();"
      ],
      "metadata": {
        "colab": {
          "base_uri": "https://localhost:8080/",
          "height": 265
        },
        "id": "hYMlM3kuYr_F",
        "outputId": "44c1ac06-d872-4adb-fffc-687f990301be"
      },
      "execution_count": 21,
      "outputs": [
        {
          "output_type": "display_data",
          "data": {
            "image/png": "[encoded data removed]",
            "text/plain": [
              "<Figure size 432x288 with 1 Axes>"
            ]
          },
          "metadata": {
            "needs_background": "light"
          }
        }
      ]
    },
    {
      "cell_type": "markdown",
      "source": [
        "So far we have just recalculated the true angles and $q^2$ like in our first notebook. But we tell our functions, based on passing `true` as an argument, to use the variables with `_TRUE` in their name to do the calculations. \n",
        "\n",
        "To calculate the reconstructed quantities, we need to point our functions at reconstructed values of the particle momenta. In our ROOT, file, these variables have names for a particle `X`:\n",
        " - `X_PX`\n",
        " - `X_PY`\n",
        " - `X_PZ`\n",
        " - `X_E`\n",
        "\n",
        "Let's rename them to have `_RECO` in their name, to make the distinction between `_TRUE` and `_RECO` clearer.\n",
        " "
      ],
      "metadata": {
        "id": "dMnVASsXYx81"
      }
    },
    {
      "cell_type": "code",
      "source": [
        "#Rename the reconstructed momenta to have _RECO in their name\n",
        "for particle in [\"Bc\",\"Jpsi\",\"Jpsi_Mu0\",\"Jpsi_Mu1\",\"Mu\"]:\n",
        "  for var in [\"PX\",\"PY\",\"PZ\",\"E\"]:\n",
        "    #Rename the branch to have _RECO in the name\n",
        "    df[f\"{particle}_{var}_RECO\"] = df[f\"{particle}_{var}\"]\n",
        "    #Drop the original column name\n",
        "    df = df.drop(columns=[f\"{particle}_{var}\"])"
      ],
      "metadata": {
        "id": "94fgw6cvYu6i"
      },
      "execution_count": 22,
      "outputs": []
    },
    {
      "cell_type": "code",
      "source": [
        "#Check we have the right names\n",
        "all_vars = df.columns\n",
        "for x in all_vars:\n",
        "  if(\"_RECO\" in x):\n",
        "    print(x)"
      ],
      "metadata": {
        "colab": {
          "base_uri": "https://localhost:8080/"
        },
        "id": "QyyTGZ6ZZsQ1",
        "outputId": "e48c822f-87ce-4315-97ef-1ce6be384883"
      },
      "execution_count": 23,
      "outputs": [
        {
          "output_type": "stream",
          "name": "stdout",
          "text": [
            "Bc_PX_RECO\n",
            "Bc_PY_RECO\n",
            "Bc_PZ_RECO\n",
            "Bc_E_RECO\n",
            "Jpsi_PX_RECO\n",
            "Jpsi_PY_RECO\n",
            "Jpsi_PZ_RECO\n",
            "Jpsi_E_RECO\n",
            "Jpsi_Mu0_PX_RECO\n",
            "Jpsi_Mu0_PY_RECO\n",
            "Jpsi_Mu0_PZ_RECO\n",
            "Jpsi_Mu0_E_RECO\n",
            "Jpsi_Mu1_PX_RECO\n",
            "Jpsi_Mu1_PY_RECO\n",
            "Jpsi_Mu1_PZ_RECO\n",
            "Jpsi_Mu1_E_RECO\n",
            "Mu_PX_RECO\n",
            "Mu_PY_RECO\n",
            "Mu_PZ_RECO\n",
            "Mu_E_RECO\n"
          ]
        }
      ]
    },
    {
      "cell_type": "markdown",
      "source": [
        "Before we move on to calculating reconstructed angles and $q^2$, we should note that the `Bc` kinematic variables here are quite far in value from the true `Bc` kinematics. This is because these variables do not include the missing neutrino, and so highly underestimate the true 4-momentum of the $B_c^+$. We want to try and improve our estimates for the reconstructed $B_c^+$ momentum, so that we can use those values in our angle and $q^2$ calculations. This will be the subject of our next notebook. \n",
        "\n",
        "For now, lets write our latest DataFrame to a new ROOT file."
      ],
      "metadata": {
        "id": "1olh-XPocF_o"
      }
    },
    {
      "cell_type": "code",
      "source": [
        "#Make a new file in our Google Drive, with the same name as our input file but with _Vars added to the end\n",
        "out_file_path = f\"{file_path}_Vars\"\n",
        "outfile = uproot.recreate(f\"{out_file_path}.root\")"
      ],
      "metadata": {
        "id": "NQdPLnXMZ3FR"
      },
      "execution_count": 24,
      "outputs": []
    },
    {
      "cell_type": "code",
      "source": [
        "#Add our DataFrame to the file as a TTree with the same name as our input file TTree name\n",
        "#This might take a little while to run as our DataFrame is quite big\n",
        "outfile[tree_name] = df"
      ],
      "metadata": {
        "id": "ZmYbN_zUdCFP"
      },
      "execution_count": 25,
      "outputs": []
    },
    {
      "cell_type": "code",
      "source": [
        "#Close the file to finalise things\n",
        "outfile.close()"
      ],
      "metadata": {
        "id": "jm_bfb-8dDLe"
      },
      "execution_count": 26,
      "outputs": []
    }
  ]
}