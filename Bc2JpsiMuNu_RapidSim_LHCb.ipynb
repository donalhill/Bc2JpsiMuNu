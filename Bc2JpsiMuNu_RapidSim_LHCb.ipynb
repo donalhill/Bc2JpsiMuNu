{
  "nbformat": 4,
  "nbformat_minor": 0,
  "metadata": {
    "colab": {
      "name": "Bc2JpsiMuNu_RapidSim_LHCb.ipynb",
      "provenance": [],
      "mount_file_id": "1JKfxh_I6zFWYr8Z0eQ0Pqreyrj6Ix50Z",
      "authorship_tag": "ABX9TyNh688MSl+jXOWzo20mxDCu",
      "include_colab_link": true
    },
    "kernelspec": {
      "name": "python3",
      "display_name": "Python 3"
    },
    "language_info": {
      "name": "python"
    }
  },
  "cells": [
    {
      "cell_type": "markdown",
      "metadata": {
        "id": "view-in-github",
        "colab_type": "text"
      },
      "source": [
        "<a href=\"https://colab.research.google.com/github/donalrinho/Bc2JpsiMuNu/blob/main/Bc2JpsiMuNu_RapidSim_LHCb.ipynb\" target=\"_parent\"><img src=\"https://colab.research.google.com/assets/colab-badge.svg\" alt=\"Open In Colab\"/></a>"
      ]
    },
    {
      "cell_type": "markdown",
      "source": [
        "# Analyse $B_c^+ \\to J/\\psi \\mu^+ \\nu_\\mu$ RapidSim MC which was generated inside LHCb detector acceptance\n",
        "\n",
        "In this notebook, we study RapidSim MC which was generated with all particles falling inside the LHCb detector coverage. Instead of looking only at the MC-truth angles, we will also look at the `reconstructed` values - these represent what we would be able to measure in real-life LHCb data. Quite a few aspects of this notebook are similar to those in [Bc2JpsiMuNu_RapidSim.ipynb](https://github.com/donalrinho/Bc2JpsiMuNu/blob/main/Bc2JpsiMuNu_RapidSim.ipynb), where we looked at a generator-level sample of decays from RapidSim to study MC-truth variables."
      ],
      "metadata": {
        "id": "W7xu3wUYOa_c"
      }
    },
    {
      "cell_type": "code",
      "execution_count": 3,
      "metadata": {
        "colab": {
          "base_uri": "https://localhost:8080/"
        },
        "id": "irCpH9UbOVze",
        "outputId": "b7d8ad4b-a92b-4b09-b1ed-c8a39d578249"
      },
      "outputs": [
        {
          "output_type": "stream",
          "name": "stdout",
          "text": [
            "Collecting uproot\n",
            "  Downloading uproot-4.1.9-py2.py3-none-any.whl (301 kB)\n",
            "\u001b[?25l\r\u001b[K     |█                               | 10 kB 25.3 MB/s eta 0:00:01\r\u001b[K     |██▏                             | 20 kB 12.8 MB/s eta 0:00:01\r\u001b[K     |███▎                            | 30 kB 9.5 MB/s eta 0:00:01\r\u001b[K     |████▍                           | 40 kB 8.6 MB/s eta 0:00:01\r\u001b[K     |█████▍                          | 51 kB 5.0 MB/s eta 0:00:01\r\u001b[K     |██████▌                         | 61 kB 5.2 MB/s eta 0:00:01\r\u001b[K     |███████▋                        | 71 kB 5.3 MB/s eta 0:00:01\r\u001b[K     |████████▊                       | 81 kB 5.9 MB/s eta 0:00:01\r\u001b[K     |█████████▉                      | 92 kB 4.7 MB/s eta 0:00:01\r\u001b[K     |██████████▉                     | 102 kB 5.1 MB/s eta 0:00:01\r\u001b[K     |████████████                    | 112 kB 5.1 MB/s eta 0:00:01\r\u001b[K     |█████████████                   | 122 kB 5.1 MB/s eta 0:00:01\r\u001b[K     |██████████████▏                 | 133 kB 5.1 MB/s eta 0:00:01\r\u001b[K     |███████████████▏                | 143 kB 5.1 MB/s eta 0:00:01\r\u001b[K     |████████████████▎               | 153 kB 5.1 MB/s eta 0:00:01\r\u001b[K     |█████████████████▍              | 163 kB 5.1 MB/s eta 0:00:01\r\u001b[K     |██████████████████▌             | 174 kB 5.1 MB/s eta 0:00:01\r\u001b[K     |███████████████████▋            | 184 kB 5.1 MB/s eta 0:00:01\r\u001b[K     |████████████████████▋           | 194 kB 5.1 MB/s eta 0:00:01\r\u001b[K     |█████████████████████▊          | 204 kB 5.1 MB/s eta 0:00:01\r\u001b[K     |██████████████████████▉         | 215 kB 5.1 MB/s eta 0:00:01\r\u001b[K     |████████████████████████        | 225 kB 5.1 MB/s eta 0:00:01\r\u001b[K     |█████████████████████████       | 235 kB 5.1 MB/s eta 0:00:01\r\u001b[K     |██████████████████████████      | 245 kB 5.1 MB/s eta 0:00:01\r\u001b[K     |███████████████████████████▏    | 256 kB 5.1 MB/s eta 0:00:01\r\u001b[K     |████████████████████████████▎   | 266 kB 5.1 MB/s eta 0:00:01\r\u001b[K     |█████████████████████████████▍  | 276 kB 5.1 MB/s eta 0:00:01\r\u001b[K     |██████████████████████████████▍ | 286 kB 5.1 MB/s eta 0:00:01\r\u001b[K     |███████████████████████████████▌| 296 kB 5.1 MB/s eta 0:00:01\r\u001b[K     |████████████████████████████████| 301 kB 5.1 MB/s \n",
            "\u001b[?25hRequirement already satisfied: numpy in /usr/local/lib/python3.7/dist-packages (from uproot) (1.19.5)\n",
            "Requirement already satisfied: setuptools in /usr/local/lib/python3.7/dist-packages (from uproot) (57.4.0)\n",
            "Installing collected packages: uproot\n",
            "Successfully installed uproot-4.1.9\n",
            "Collecting vector\n",
            "  Downloading vector-0.8.4-py3-none-any.whl (155 kB)\n",
            "\u001b[K     |████████████████████████████████| 155 kB 5.1 MB/s \n",
            "\u001b[?25hRequirement already satisfied: importlib-metadata>=0.22 in /usr/local/lib/python3.7/dist-packages (from vector) (4.10.0)\n",
            "Requirement already satisfied: typing-extensions in /usr/local/lib/python3.7/dist-packages (from vector) (3.10.0.2)\n",
            "Requirement already satisfied: numpy>=1.13.3 in /usr/local/lib/python3.7/dist-packages (from vector) (1.19.5)\n",
            "Requirement already satisfied: packaging>=19.0 in /usr/local/lib/python3.7/dist-packages (from vector) (21.3)\n",
            "Requirement already satisfied: zipp>=0.5 in /usr/local/lib/python3.7/dist-packages (from importlib-metadata>=0.22->vector) (3.7.0)\n",
            "Requirement already satisfied: pyparsing!=3.0.5,>=2.0.2 in /usr/local/lib/python3.7/dist-packages (from packaging>=19.0->vector) (3.0.6)\n",
            "Installing collected packages: vector\n",
            "Successfully installed vector-0.8.4\n"
          ]
        }
      ],
      "source": [
        "#Install uproot for ROOT file loading\n",
        "!pip install uproot\n",
        "#We use the vector package to make 4-vectors and manipulate them to calculate the decay angles\n",
        "!pip install vector"
      ]
    },
    {
      "cell_type": "code",
      "source": [
        "#Import some useful packages\n",
        "import uproot\n",
        "import vector\n",
        "import numpy as np\n",
        "import matplotlib\n",
        "from matplotlib import rc\n",
        "import matplotlib.pyplot as plt\n",
        "%matplotlib inline"
      ],
      "metadata": {
        "id": "6P_RGNqhPWel"
      },
      "execution_count": 4,
      "outputs": []
    },
    {
      "cell_type": "code",
      "source": [
        "#Path to RapidSim Bc -> J/psi mu nu file, with events generated inside the LHCb detector\n",
        "drive_dir = \"/content/drive/MyDrive/Bc2JpsiMuNu_ROOT_files\"\n",
        "file_path = f\"{drive_dir}/Bc2JpsiMuNu_RapidSim_LHCb\"\n",
        "print(f\"Loading ROOT file {file_path}.root\")\n",
        "tree_name = \"DecayTree\"\n",
        "events = uproot.open(f\"{file_path}.root:{tree_name}\")\n",
        "events"
      ],
      "metadata": {
        "colab": {
          "base_uri": "https://localhost:8080/"
        },
        "id": "fAxK2rtTPc6b",
        "outputId": "f5b1310c-933b-4866-a825-c01ef811edf7"
      },
      "execution_count": 5,
      "outputs": [
        {
          "output_type": "stream",
          "name": "stdout",
          "text": [
            "Loading ROOT file /content/drive/MyDrive/Bc2JpsiMuNu_ROOT_files/Bc2JpsiMuNu_RapidSim_LHCb.root\n"
          ]
        },
        {
          "output_type": "execute_result",
          "data": {
            "text/plain": [
              "<TTree 'DecayTree' (136 branches) at 0x7f6aee083dd0>"
            ]
          },
          "metadata": {},
          "execution_count": 5
        }
      ]
    },
    {
      "cell_type": "code",
      "source": [
        "#Make pandas DataFrame\n",
        "df = events.arrays(library=\"pd\")"
      ],
      "metadata": {
        "id": "HEyQwJ9ZPkSy"
      },
      "execution_count": 6,
      "outputs": []
    },
    {
      "cell_type": "code",
      "source": [
        "#Check how many events we have in our DataFrame (same as the number of events in the ROOT TTree)\n",
        "len(df)"
      ],
      "metadata": {
        "colab": {
          "base_uri": "https://localhost:8080/"
        },
        "id": "WxNHO0OWPq1E",
        "outputId": "da809e34-ded0-4954-c2fd-709be1e4fbfa"
      },
      "execution_count": 7,
      "outputs": [
        {
          "output_type": "execute_result",
          "data": {
            "text/plain": [
              "912284"
            ]
          },
          "metadata": {},
          "execution_count": 7
        }
      ]
    },
    {
      "cell_type": "markdown",
      "source": [
        "Here we have close to 1 million events in our DataFrame. We actually generated 3 million in RapidSim, but only those events falling inside the LHCb detector acceptance are stored in the ROOT file.\n",
        "\n",
        "\n",
        "## Calculating decay angles and $q^2$\n",
        "\n",
        "In this notebook, we are going to calculate the true decay angles and $q^2$ like we did in an earlier notebook. But in addition, we also want to calculate these quantities using the information we would actually have available to us in a real data analysis. Because of the missing neutrino, we don't reconstruct the full 4-momentum of our $B_c^+$ particle, and we have to operate with estimates for this quantity.\n",
        "\n",
        "Let's not worry about the reconstructed angles and $q^2$ for now. But we can still rewrite our angle and $q^2$ calculator functions a little, to anticipate that we want to be able to calculate either true or reconstructed quantities."
      ],
      "metadata": {
        "id": "286URc0VPvh7"
      }
    },
    {
      "cell_type": "code",
      "source": [
        "def calc_theta_Jpsi(df, var_type):\n",
        "  \"\"\"\n",
        "  Calculate the decay angle theta_Jpsi.\n",
        "\n",
        "    Parameters:\n",
        "      df -- input DataFrame (must containin the TRUE PX, PY, PZ, E values for each particle)\n",
        "      var_type -- whether to calculate true or reconstructed value of the angle\n",
        "    \n",
        "    Returns:\n",
        "      theta_Jpsi -- decay angle values as a numpy array, which can be added to user DataFrame as a new column\n",
        "  \"\"\"\n",
        "  \n",
        "  if(var_type==\"true\"):\n",
        "    var_suff = \"TRUE\"\n",
        "  else:\n",
        "    var_suff = \"RECO\"\n",
        "\n",
        "  #Muon from the J/psi with the same charge as the Bc\n",
        "  Jpsi_Mu_vars = {\"px\": f\"Jpsi_Mu0_PX_{var_suff}\",\n",
        "                  \"py\": f\"Jpsi_Mu0_PY_{var_suff}\",\n",
        "                  \"pz\": f\"Jpsi_Mu0_PZ_{var_suff}\",\n",
        "                  \"e\": f\"Jpsi_Mu0_E_{var_suff}\"}\n",
        "  \n",
        "  #J/psi\n",
        "  Jpsi_vars = {\"px\": f\"Jpsi_PX_{var_suff}\",\n",
        "               \"py\": f\"Jpsi_PY_{var_suff}\",\n",
        "               \"pz\": f\"Jpsi_PZ_{var_suff}\",\n",
        "               \"e\": f\"Jpsi_E_{var_suff}\"}\n",
        "  \n",
        "  #Bc\n",
        "  var_suff_Bc = var_suff\n",
        "  if(var_type==\"reco\"):\n",
        "    var_suff_Bc = var_suff_Bc.lower() #lowercase to use our estimates for the Bc 4-momentum i.e. reco instead of RECO\n",
        "  Bc_vars = {\"px\": f\"Bc_PX_{var_suff_Bc}\",\n",
        "             \"py\": f\"Bc_PY_{var_suff_Bc}\",\n",
        "             \"pz\": f\"Bc_PZ_{var_suff_Bc}\",\n",
        "             \"e\": f\"Bc_E_{var_suff_Bc}\"}\n",
        "  \n",
        "  #4-vectors\n",
        "  v_Jpsi_Mu = vector.obj(x=df[Jpsi_Mu_vars[\"px\"]],\n",
        "                         y=df[Jpsi_Mu_vars[\"py\"]],\n",
        "                         z=df[Jpsi_Mu_vars[\"pz\"]],\n",
        "                         t=df[Jpsi_Mu_vars[\"e\"]])\n",
        "  \n",
        "  v_Jpsi = vector.obj(x=df[Jpsi_vars[\"px\"]],\n",
        "                      y=df[Jpsi_vars[\"py\"]],\n",
        "                      z=df[Jpsi_vars[\"pz\"]],\n",
        "                      t=df[Jpsi_vars[\"e\"]])\n",
        "  \n",
        "  v_Bc = vector.obj(x=df[Bc_vars[\"px\"]],\n",
        "                    y=df[Bc_vars[\"py\"]],\n",
        "                    z=df[Bc_vars[\"pz\"]],\n",
        "                    t=df[Bc_vars[\"e\"]])\n",
        "  \n",
        "  #Boost to Bc rest frame\n",
        "  Bc_boost_vec = -(v_Bc.to_beta3())\n",
        "  v_Jpsi_Mu = v_Jpsi_Mu.boost_beta3(Bc_boost_vec)\n",
        "  v_Jpsi = v_Jpsi.boost_beta3(Bc_boost_vec)\n",
        "  v_Bc = v_Bc.boost_beta3(Bc_boost_vec)\n",
        "\n",
        "  #Boost to J/psi rest frame\n",
        "  Jpsi_boost_vec = -(v_Jpsi.to_beta3())\n",
        "  v_Jpsi_Mu = v_Jpsi_Mu.boost_beta3(Jpsi_boost_vec)\n",
        "  v_Bc = v_Bc.boost_beta3(Jpsi_boost_vec)\n",
        "  \n",
        "  #3-vectors\n",
        "  v3_Jpsi_Mu = v_Jpsi_Mu.to_beta3()\n",
        "  v3_Bc = v_Bc.to_beta3()\n",
        "  #Unit vectors\n",
        "  v3_Jpsi_Mu = v3_Jpsi_Mu / v3_Jpsi_Mu.mag\n",
        "  v3_Bc = v3_Bc / v3_Bc.mag\n",
        "\n",
        "  #Angle\n",
        "  theta_Jpsi = v3_Jpsi_Mu.deltaangle(-v3_Bc)\n",
        "\n",
        "  return theta_Jpsi"
      ],
      "metadata": {
        "id": "ltycP1BLP4dC"
      },
      "execution_count": 8,
      "outputs": []
    },
    {
      "cell_type": "code",
      "source": [
        "#Calculate the true theta_Jpsi\n",
        "df[\"theta_Jpsi_true\"] = calc_theta_Jpsi(df, \"true\")\n",
        "df[\"costheta_Jpsi_true\"] = np.cos(df[\"theta_Jpsi_true\"])"
      ],
      "metadata": {
        "id": "u1XxfBWERld2"
      },
      "execution_count": 9,
      "outputs": []
    },
    {
      "cell_type": "code",
      "source": [
        "plt.hist(df[\"costheta_Jpsi_true\"],bins=100)\n",
        "plt.show();"
      ],
      "metadata": {
        "colab": {
          "base_uri": "https://localhost:8080/",
          "height": 265
        },
        "id": "jJHh6qLLR2NZ",
        "outputId": "f5466812-67c6-4683-c765-9d2d67a5248e"
      },
      "execution_count": 10,
      "outputs": [
        {
          "output_type": "display_data",
          "data": {
            "image/png": "[encoded data removed]",
            "text/plain": [
              "<Figure size 432x288 with 1 Axes>"
            ]
          },
          "metadata": {
            "needs_background": "light"
          }
        }
      ]
    },
    {
      "cell_type": "code",
      "source": [
        "def calc_theta_W(df, var_type):\n",
        "  \"\"\"\n",
        "  Calculate the decay angle theta_W.\n",
        "\n",
        "    Parameters:\n",
        "      df -- input DataFrame (must containin the TRUE PX, PY, PZ, E values for each particle)\n",
        "      var_type -- whether to calculate true or reconstructed value of the angle\n",
        "    \n",
        "    Returns:\n",
        "      theta_W -- decay angle values as a numpy array, which can be added to user DataFrame as a new column\n",
        "  \"\"\"\n",
        "\n",
        "  if(var_type==\"true\"):\n",
        "    var_suff = \"TRUE\"\n",
        "  else:\n",
        "    var_suff = \"RECO\"\n",
        "  \n",
        "  #Muon from the Bc decay\n",
        "  Mu_vars = {\"px\": f\"Mu_PX_{var_suff}\",\n",
        "             \"py\": f\"Mu_PY_{var_suff}\",\n",
        "             \"pz\": f\"Mu_PZ_{var_suff}\",\n",
        "             \"e\": f\"Mu_E_{var_suff}\"}\n",
        "  \n",
        "  #Muon from the J/psi with the same charge as the Bc\n",
        "  Jpsi_Mu_vars = {\"px\": f\"Jpsi_Mu0_PX_{var_suff}\",\n",
        "                  \"py\": f\"Jpsi_Mu0_PY_{var_suff}\",\n",
        "                  \"pz\": f\"Jpsi_Mu0_PZ_{var_suff}\",\n",
        "                  \"e\": f\"Jpsi_Mu0_E_{var_suff}\"}\n",
        "  \n",
        "  #J/psi\n",
        "  Jpsi_vars = {\"px\": f\"Jpsi_PX_{var_suff}\",\n",
        "               \"py\": f\"Jpsi_PY_{var_suff}\",\n",
        "               \"pz\": f\"Jpsi_PZ_{var_suff}\",\n",
        "               \"e\": f\"Jpsi_E_{var_suff}\"}\n",
        "  \n",
        "  #Bc\n",
        "  var_suff_Bc = var_suff\n",
        "  if(var_type==\"reco\"):\n",
        "    var_suff_Bc = var_suff_Bc.lower() #lowercase to use our estimates for the Bc 4-momentum i.e. reco instead of RECO\n",
        "  Bc_vars = {\"px\": f\"Bc_PX_{var_suff_Bc}\",\n",
        "             \"py\": f\"Bc_PY_{var_suff_Bc}\",\n",
        "             \"pz\": f\"Bc_PZ_{var_suff_Bc}\",\n",
        "             \"e\": f\"Bc_E_{var_suff_Bc}\"}\n",
        "  \n",
        "  #4-vectors\n",
        "  v_Mu = vector.obj(x=df[Mu_vars[\"px\"]],\n",
        "                    y=df[Mu_vars[\"py\"]],\n",
        "                    z=df[Mu_vars[\"pz\"]],\n",
        "                    t=df[Mu_vars[\"e\"]])\n",
        "  \n",
        "  v_Jpsi = vector.obj(x=df[Jpsi_vars[\"px\"]],\n",
        "                      y=df[Jpsi_vars[\"py\"]],\n",
        "                      z=df[Jpsi_vars[\"pz\"]],\n",
        "                      t=df[Jpsi_vars[\"e\"]])\n",
        "  \n",
        "  v_Bc = vector.obj(x=df[Bc_vars[\"px\"]],\n",
        "                    y=df[Bc_vars[\"py\"]],\n",
        "                    z=df[Bc_vars[\"pz\"]],\n",
        "                    t=df[Bc_vars[\"e\"]])\n",
        "  \n",
        "  #W 4-vector = v_Bc - v_Jpsi\n",
        "  v_W = v_Bc - v_Jpsi\n",
        "\n",
        "  #Boost to Bc rest frame\n",
        "  Bc_boost_vec = -(v_Bc.to_beta3())\n",
        "  v_Mu = v_Mu.boost_beta3(Bc_boost_vec)\n",
        "  v_W = v_W.boost_beta3(Bc_boost_vec)\n",
        "  v_Bc = v_Bc.boost_beta3(Bc_boost_vec)\n",
        "\n",
        "  #Boost to W rest frame\n",
        "  W_boost_vec = -(v_W.to_beta3())\n",
        "  v_Mu = v_Mu.boost_beta3(W_boost_vec)\n",
        "  v_Bc = v_Bc.boost_beta3(W_boost_vec)\n",
        "  \n",
        "  #3-vectors\n",
        "  v3_Mu = v_Mu.to_beta3()\n",
        "  v3_Bc = v_Bc.to_beta3()\n",
        "  #Unit vectors\n",
        "  v3_Mu = v3_Mu / v3_Mu.mag\n",
        "  v3_Bc = v3_Bc / v3_Bc.mag\n",
        "\n",
        "  #Angle\n",
        "  theta_W = v3_Mu.deltaangle(-v3_Bc)\n",
        "\n",
        "  return theta_W"
      ],
      "metadata": {
        "id": "irjpdU1dR6EH"
      },
      "execution_count": 11,
      "outputs": []
    },
    {
      "cell_type": "code",
      "source": [
        "#Calculate the true theta_W\n",
        "df[\"theta_W_true\"] = calc_theta_W(df, \"true\")\n",
        "df[\"costheta_W_true\"] = np.cos(df[\"theta_W_true\"])"
      ],
      "metadata": {
        "id": "Lwkd9E6YSXhA"
      },
      "execution_count": 12,
      "outputs": []
    },
    {
      "cell_type": "code",
      "source": [
        "plt.hist(df[\"costheta_W_true\"],bins=100)\n",
        "plt.show();"
      ],
      "metadata": {
        "colab": {
          "base_uri": "https://localhost:8080/",
          "height": 267
        },
        "id": "EsRsHqncSb97",
        "outputId": "ec2b3262-7e91-48d8-c222-8a06570402ba"
      },
      "execution_count": 13,
      "outputs": [
        {
          "output_type": "display_data",
          "data": {
            "image/png": "[encoded data removed]",
            "text/plain": [
              "<Figure size 432x288 with 1 Axes>"
            ]
          },
          "metadata": {
            "needs_background": "light"
          }
        }
      ]
    },
    {
      "cell_type": "code",
      "source": [
        "def calc_chi(df, var_type):\n",
        "  \"\"\"\n",
        "  Calculate the decay angle chi.\n",
        "\n",
        "    Parameters:\n",
        "      df -- input DataFrame (must containin the TRUE PX, PY, PZ, E values for each particle)\n",
        "      var_type -- whether to calculate true or reconstructed value of the angle\n",
        "    \n",
        "    Returns:\n",
        "      chi -- decay angle values as a numpy array, which can be added to user DataFrame as a new column\n",
        "  \"\"\"\n",
        "\n",
        "  if(var_type==\"true\"):\n",
        "    var_suff = \"TRUE\"\n",
        "  else:\n",
        "    var_suff = \"RECO\"\n",
        "  \n",
        "  #Muon from the Bc decay\n",
        "  Mu_vars = {\"px\": f\"Mu_PX_{var_suff}\",\n",
        "             \"py\": f\"Mu_PY_{var_suff}\",\n",
        "             \"pz\": f\"Mu_PZ_{var_suff}\",\n",
        "             \"e\": f\"Mu_E_{var_suff}\"}\n",
        "  \n",
        "  #Muon from the J/psi with the same charge as the Bc\n",
        "  Jpsi_Mu_vars = {\"px\": f\"Jpsi_Mu0_PX_{var_suff}\",\n",
        "                  \"py\": f\"Jpsi_Mu0_PY_{var_suff}\",\n",
        "                  \"pz\": f\"Jpsi_Mu0_PZ_{var_suff}\",\n",
        "                  \"e\": f\"Jpsi_Mu0_E_{var_suff}\"}\n",
        "  \n",
        "  #J/psi\n",
        "  Jpsi_vars = {\"px\": f\"Jpsi_PX_{var_suff}\",\n",
        "               \"py\": f\"Jpsi_PY_{var_suff}\",\n",
        "               \"pz\": f\"Jpsi_PZ_{var_suff}\",\n",
        "               \"e\": f\"Jpsi_E_{var_suff}\"}\n",
        "  \n",
        "  #Bc\n",
        "  var_suff_Bc = var_suff\n",
        "  if(var_type==\"reco\"):\n",
        "    var_suff_Bc = var_suff_Bc.lower() #lowercase to use our estimates for the Bc 4-momentum i.e. reco instead of RECO\n",
        "  Bc_vars = {\"px\": f\"Bc_PX_{var_suff_Bc}\",\n",
        "             \"py\": f\"Bc_PY_{var_suff_Bc}\",\n",
        "             \"pz\": f\"Bc_PZ_{var_suff_Bc}\",\n",
        "             \"e\": f\"Bc_E_{var_suff_Bc}\"}\n",
        "  \n",
        "  #4-vectors\n",
        "  v_Mu = vector.obj(x=df[Mu_vars[\"px\"]],\n",
        "                    y=df[Mu_vars[\"py\"]],\n",
        "                    z=df[Mu_vars[\"pz\"]],\n",
        "                    t=df[Mu_vars[\"e\"]])\n",
        "  \n",
        "  v_Jpsi_Mu = vector.obj(x=df[Jpsi_Mu_vars[\"px\"]],\n",
        "                         y=df[Jpsi_Mu_vars[\"py\"]],\n",
        "                         z=df[Jpsi_Mu_vars[\"pz\"]],\n",
        "                         t=df[Jpsi_Mu_vars[\"e\"]])\n",
        "  \n",
        "  v_Jpsi = vector.obj(x=df[Jpsi_vars[\"px\"]],\n",
        "                      y=df[Jpsi_vars[\"py\"]],\n",
        "                      z=df[Jpsi_vars[\"pz\"]],\n",
        "                      t=df[Jpsi_vars[\"e\"]])\n",
        "  \n",
        "  v_Bc = vector.obj(x=df[Bc_vars[\"px\"]],\n",
        "                    y=df[Bc_vars[\"py\"]],\n",
        "                    z=df[Bc_vars[\"pz\"]],\n",
        "                    t=df[Bc_vars[\"e\"]])\n",
        "  \n",
        "  #W 4-vector = v_Bc - v_Jpsi\n",
        "  v_W = v_Bc - v_Jpsi\n",
        "  \n",
        "  #Boost to Bc rest frame\n",
        "  Bc_boost_vec = -(v_Bc.to_beta3())\n",
        "  v_Mu = v_Mu.boost_beta3(Bc_boost_vec)\n",
        "  v_Jpsi_Mu = v_Jpsi_Mu.boost_beta3(Bc_boost_vec)\n",
        "  v_Jpsi = v_Jpsi.boost_beta3(Bc_boost_vec)\n",
        "  v_W = v_W.boost_beta3(Bc_boost_vec)\n",
        "  v_Bc = v_Bc.boost_beta3(Bc_boost_vec)\n",
        "\n",
        "  v3_Jpsi = v_Jpsi.to_beta3()\n",
        "  v3_Jpsi = v3_Jpsi / v3_Jpsi.mag\n",
        "\n",
        "  v3_Jpsi_Mu = v_Jpsi_Mu.to_beta3()\n",
        "  v3_Jpsi_Mu = v3_Jpsi_Mu / v3_Jpsi_Mu.mag\n",
        "\n",
        "  v3_Jpsi_Jpsi_Mu = v3_Jpsi.cross(v3_Jpsi_Mu)\n",
        "\n",
        "  v3_W = v_W.to_beta3()\n",
        "  v3_W = v3_W / v3_W.mag\n",
        "\n",
        "  v3_Mu = v_Mu.to_beta3()\n",
        "  v3_Mu = v3_Mu / v3_Mu.mag\n",
        "\n",
        "  v3_W_Mu = v3_W.cross(v3_Mu)\n",
        "\n",
        "  v3_x = v3_Jpsi_Jpsi_Mu / v3_Jpsi_Jpsi_Mu.mag\n",
        "  v3_z = v3_Jpsi\n",
        "  v3_y = v3_z.cross(v3_x)\n",
        "  v3_y = v3_y / v3_y.mag\n",
        "\n",
        "  C = v3_W_Mu.dot(v3_x)\n",
        "  S = v3_W_Mu.dot(v3_y)\n",
        "\n",
        "  chi = np.arctan2(C,S)\n",
        "\n",
        "  return chi"
      ],
      "metadata": {
        "id": "YTR2rn0USfZD"
      },
      "execution_count": 14,
      "outputs": []
    },
    {
      "cell_type": "code",
      "source": [
        "#Calculate the true chi\n",
        "df[\"chi_true\"] = calc_chi(df, \"true\")"
      ],
      "metadata": {
        "id": "s7cbAOzkYLde"
      },
      "execution_count": 15,
      "outputs": []
    },
    {
      "cell_type": "code",
      "source": [
        "plt.hist(df[\"chi_true\"],bins=100)\n",
        "plt.show();"
      ],
      "metadata": {
        "colab": {
          "base_uri": "https://localhost:8080/",
          "height": 265
        },
        "id": "KGfErHrZYRHR",
        "outputId": "5a5b7810-3778-430a-aedc-0e21fa964fe1"
      },
      "execution_count": 16,
      "outputs": [
        {
          "output_type": "display_data",
          "data": {
            "image/png": "[encoded data removed]",
            "text/plain": [
              "<Figure size 432x288 with 1 Axes>"
            ]
          },
          "metadata": {
            "needs_background": "light"
          }
        }
      ]
    },
    {
      "cell_type": "code",
      "source": [
        "def calc_q2(df, var_type):\n",
        "  \"\"\"\n",
        "  Calculate the decay angle chi.\n",
        "\n",
        "    Parameters:\n",
        "      df -- input DataFrame (must containin the TRUE PX, PY, PZ, E values for each particle)\n",
        "      var_type -- whether to calculate true or reconstructed value of the q2\n",
        "    \n",
        "    Returns:\n",
        "      q2 -- momentum transfer as a numpy array, which can be added to user DataFrame as a new column\n",
        "  \"\"\"\n",
        "\n",
        "  if(var_type==\"true\"):\n",
        "    var_suff = \"TRUE\"\n",
        "  else:\n",
        "    var_suff = \"RECO\"\n",
        "\n",
        "  #J/psi\n",
        "  Jpsi_vars = {\"px\": f\"Jpsi_PX_{var_suff}\",\n",
        "               \"py\": f\"Jpsi_PY_{var_suff}\",\n",
        "               \"pz\": f\"Jpsi_PZ_{var_suff}\",\n",
        "               \"e\": f\"Jpsi_E_{var_suff}\"}\n",
        "  \n",
        "  #Bc\n",
        "  var_suff_Bc = var_suff\n",
        "  if(var_type==\"reco\"):\n",
        "    var_suff_Bc = var_suff_Bc.lower() #lowercase to use our estimates for the Bc 4-momentum i.e. reco instead of RECO\n",
        "  Bc_vars = {\"px\": f\"Bc_PX_{var_suff_Bc}\",\n",
        "             \"py\": f\"Bc_PY_{var_suff_Bc}\",\n",
        "             \"pz\": f\"Bc_PZ_{var_suff_Bc}\",\n",
        "             \"e\": f\"Bc_E_{var_suff_Bc}\"}\n",
        "\n",
        "  v_Jpsi = vector.array({\n",
        "      \"px\": df[Jpsi_vars[\"px\"]],\n",
        "      \"py\": df[Jpsi_vars[\"py\"]],\n",
        "      \"pz\": df[Jpsi_vars[\"pz\"]],\n",
        "      \"E\": df[Jpsi_vars[\"e\"]]})\n",
        "\n",
        "  v_Bc = vector.array({\n",
        "      \"px\": df[Bc_vars[\"px\"]],\n",
        "      \"py\": df[Bc_vars[\"py\"]],\n",
        "      \"pz\": df[Bc_vars[\"pz\"]],\n",
        "      \"E\": df[Bc_vars[\"e\"]]})\n",
        "\n",
        "  v_q = v_Bc - v_Jpsi\n",
        "  q2 = v_q.mass2\n",
        "  \n",
        "  return q2"
      ],
      "metadata": {
        "id": "f8BEarhSYUzY"
      },
      "execution_count": 17,
      "outputs": []
    },
    {
      "cell_type": "code",
      "source": [
        "#Add true q2 to our DataFrame\n",
        "df[\"q2_true\"] = calc_q2(df, \"true\")"
      ],
      "metadata": {
        "id": "rRc-menpYmwR"
      },
      "execution_count": 18,
      "outputs": []
    },
    {
      "cell_type": "code",
      "source": [
        "plt.hist(df[\"q2_true\"],bins=100)\n",
        "plt.show();"
      ],
      "metadata": {
        "colab": {
          "base_uri": "https://localhost:8080/",
          "height": 265
        },
        "id": "hYMlM3kuYr_F",
        "outputId": "75101dde-ac68-4f53-e02a-7f9a4ecae7b1"
      },
      "execution_count": 19,
      "outputs": [
        {
          "output_type": "display_data",
          "data": {
            "image/png": "[encoded data removed]",
            "text/plain": [
              "<Figure size 432x288 with 1 Axes>"
            ]
          },
          "metadata": {
            "needs_background": "light"
          }
        }
      ]
    },
    {
      "cell_type": "markdown",
      "source": [
        "## Dealing with reconstructed quantities rather than true\n",
        "\n",
        "So far we have just recalculated the true angles and $q^2$ like in our first notebook. But we tell our functions, based on passing `true` as an argument, to use the variables with `_TRUE` in their name to do the calculations. \n",
        "\n",
        "To calculate the reconstructed quantities, we need to point our functions at reconstructed values of the particle momenta. In our ROOT, file, these variables have names for a particle `X`:\n",
        " - `X_PX`\n",
        " - `X_PY`\n",
        " - `X_PZ`\n",
        " - `X_E`\n",
        "\n",
        "Let's rename them to have `_RECO` in their name, to make the distinction between `_TRUE` and `_RECO` clearer.\n",
        " "
      ],
      "metadata": {
        "id": "dMnVASsXYx81"
      }
    },
    {
      "cell_type": "code",
      "source": [
        "#Rename the reconstructed momenta to have _RECO in their name\n",
        "for particle in [\"Bc\",\"Jpsi\",\"Jpsi_Mu0\",\"Jpsi_Mu1\",\"Mu\"]:\n",
        "  for var in [\"PX\",\"PY\",\"PZ\",\"E\"]:\n",
        "    #Rename the branch to have _RECO in the name\n",
        "    df[f\"{particle}_{var}_RECO\"] = df[f\"{particle}_{var}\"]\n",
        "    #Drop the original column name\n",
        "    df = df.drop(columns=[f\"{particle}_{var}\"])"
      ],
      "metadata": {
        "id": "94fgw6cvYu6i"
      },
      "execution_count": 20,
      "outputs": []
    },
    {
      "cell_type": "code",
      "source": [
        "#Check we have the right names\n",
        "all_vars = df.columns\n",
        "for x in all_vars:\n",
        "  if(\"_RECO\" in x):\n",
        "    print(x)"
      ],
      "metadata": {
        "colab": {
          "base_uri": "https://localhost:8080/"
        },
        "id": "QyyTGZ6ZZsQ1",
        "outputId": "1fe51eea-e246-4275-c34b-e73fce0f7824"
      },
      "execution_count": 21,
      "outputs": [
        {
          "output_type": "stream",
          "name": "stdout",
          "text": [
            "Bc_PX_RECO\n",
            "Bc_PY_RECO\n",
            "Bc_PZ_RECO\n",
            "Bc_E_RECO\n",
            "Jpsi_PX_RECO\n",
            "Jpsi_PY_RECO\n",
            "Jpsi_PZ_RECO\n",
            "Jpsi_E_RECO\n",
            "Jpsi_Mu0_PX_RECO\n",
            "Jpsi_Mu0_PY_RECO\n",
            "Jpsi_Mu0_PZ_RECO\n",
            "Jpsi_Mu0_E_RECO\n",
            "Jpsi_Mu1_PX_RECO\n",
            "Jpsi_Mu1_PY_RECO\n",
            "Jpsi_Mu1_PZ_RECO\n",
            "Jpsi_Mu1_E_RECO\n",
            "Mu_PX_RECO\n",
            "Mu_PY_RECO\n",
            "Mu_PZ_RECO\n",
            "Mu_E_RECO\n"
          ]
        }
      ]
    },
    {
      "cell_type": "markdown",
      "source": [
        "Before we move on to calculating reconstructed angles and $q^2$, we should note that the `Bc` kinematic variables here are quite far in value from the true `Bc` kinematics. This is because these variables do not include the missing neutrino, and so highly underestimate the true 4-momentum of the $B_c^+$. We want to try and improve our estimates for the reconstructed $B_c^+$ momentum, so that we can use those values in our angle and $q^2$ calculations.\n",
        "\n",
        "The first thing we can do is estimate the z component of the $B_c^+$ momentum using the expression $p(B_c^+)_z = \\frac{m_{B_c}}{m^{reco}} \\times p_z^{reco}$, where $m_{B_c} = 6.27447$ GeV (see [here](https://pdglive.lbl.gov/Particle.action?init=0&node=S091&home=MXXX049)) is the measured $B_c^+$ meson mass, $m^{reco}$ is the mass we reconstruct in the absence of the neutrino ($m^{reco} = m(J/\\psi \\mu^+)$), and $p_z^{reco}$ is the z component of the momentum we reconstruct. Let's calculate this in our DataFrame:"
      ],
      "metadata": {
        "id": "1olh-XPocF_o"
      }
    },
    {
      "cell_type": "code",
      "source": [
        "m_Bc = 6.27447\n",
        "df[\"Bc_PZ_reco\"] = (m_Bc / df[\"Bc_M\"]) * df[\"Bc_PZ_RECO\"]"
      ],
      "metadata": {
        "id": "macXLGNBl5rU"
      },
      "execution_count": 22,
      "outputs": []
    },
    {
      "cell_type": "markdown",
      "source": [
        "Here, we use `_reco` to differentiate our new estimated $B_c^+$ z-momentum from the measured z-momentum which has `_RECO` in the name. The measured z-momentum is simply the z-momentum of the $J/\\psi \\mu^+$ system.\n",
        "\n",
        "The next thing we can do is estimate the total $B_c^+$ momentum from our $p(B_c^+)_z$ estimate. To do this, we exploit the relation $|p(B_c^+)| = p(B_c^+)_z \\times \\sqrt{1 + tan^2({\\alpha})}$. Here, $\\alpha$ is the angle between the z-axis and the flight direction of our $B_c^+$. We can determine the flight direction of the $B_c^+$ using two points in 3D space:\n",
        " - The primary vertex (PV), which is the point where the proton-proton collision occurs. This is where the $B_c^+$ is initially created. \n",
        " - The decay vertex (DV), which is the point where the $B_c^+$ decays to a $J/\\psi$, a muon, and a neutrino. The $J/\\psi$ also immediately decays to two muons, so we have a well-measured point in space where three muons originate. This enables the LHCb detector to reconsruct the DV.\n",
        "\n",
        "The flight direction of the $B_c^+$ is given by the vector joining the PV and DV."
      ],
      "metadata": {
        "id": "IhsGqDl-mPM1"
      }
    },
    {
      "cell_type": "markdown",
      "source": [
        "In our DataFrame, we have values for the flight distance of the $B_c^+$ along the x, y, and z directions. These are:\n",
        " - `BC_FD_x`\n",
        " - `Bc_FD_y`\n",
        " - `Bc_FD_z`\n",
        "\n",
        "We can use these to create a flight vector for the $B_c^+$, and calculate the angle $\\alpha$ it makes to the z-axis. Because the three-muon vertex and primary vertex should be very well reconstructed at LHCb, we can use the `_TRUE` versions of these flight distances, which assumes that the PV and DV have no measurement uncertainties."
      ],
      "metadata": {
        "id": "3zYskPhSoyLS"
      }
    },
    {
      "cell_type": "code",
      "source": [
        "def calc_alpha(df, var_type):\n",
        "  \"\"\"\n",
        "  Calculate the angle between the Bc flight vector and the z-axis\n",
        "    \n",
        "    Parameters:\n",
        "      df -- input DataFrame\n",
        "      var_type -- whether to calculate true or reconstructed value of the q2\n",
        "    \n",
        "    Returns:\n",
        "      alpha -- angle between the Bc flight vector and the z-axis\n",
        "  \"\"\"\n",
        "\n",
        "  if(var_type==\"true\"):\n",
        "    var_suff = \"_TRUE\"\n",
        "  else:\n",
        "    var_suff = \"\"\n",
        "\n",
        "  Bc_vars = {\"FD_x\": f\"Bc_FD_x{var_suff}\",\n",
        "             \"FD_y\": f\"Bc_FD_y{var_suff}\",\n",
        "             \"FD_z\": f\"Bc_FD_z{var_suff}\"}\n",
        "  \n",
        "  #Flight vector\n",
        "  v_FD = vector.obj(x=df[Bc_vars[\"FD_x\"]], \n",
        "                    y=df[Bc_vars[\"FD_y\"]], \n",
        "                    z=df[Bc_vars[\"FD_z\"]])\n",
        "  #Unit vector\n",
        "  v_FD = v_FD / v_FD.mag\n",
        "  \n",
        "  #z-axis vector\n",
        "  v_z = vector.obj(x=0., \n",
        "                   y=0., \n",
        "                   z=1.)\n",
        "  #Unit vector\n",
        "  v_z = v_z / v_z.mag\n",
        "\n",
        "  #Angle between Bc flight and the z-axis\n",
        "  alpha = v_FD.deltaangle(v_z)\n",
        "\n",
        "  return alpha"
      ],
      "metadata": {
        "id": "M8XhzbGOocqU"
      },
      "execution_count": 23,
      "outputs": []
    },
    {
      "cell_type": "code",
      "source": [
        "#Calculate alpha angle for each Bc in our DataFrame, using the true flight vectors\n",
        "df[\"Bc_alpha\"] = calc_alpha(df, \"true\")"
      ],
      "metadata": {
        "id": "dPuWooBTqsSE"
      },
      "execution_count": 24,
      "outputs": []
    },
    {
      "cell_type": "code",
      "source": [
        "#Calculate the magnitude of the total B momentum, given our angle alpha and estimate for the z momentum\n",
        "df[\"Bc_P_reco\"] = df[\"Bc_PZ_reco\"] * np.sqrt(1. + np.tan(df[\"Bc_alpha\"])**2)"
      ],
      "metadata": {
        "id": "SK-FHhjiqytD"
      },
      "execution_count": 25,
      "outputs": []
    },
    {
      "cell_type": "markdown",
      "source": [
        "Now we have an estimate for the magnitude of the total $B_c^+$ momentum. We can split this into x, y, and z components by again using our $B_c^+$ flight vector.\n",
        "\n",
        "The total flight of the $B_c^+$ is $f(B_c^+) = \\sqrt{f(B_c^+)_x^2 + f(B_c^+)_y^2 + f(B_c^+)_z^2}$. The component of the momentum in the x-direction is then $p(B_c^+)_x = |p(B_c^+)| \\times \\frac{f(B_c^+)_x}{f(B_c^+)}$. Here, we are projecting the total momentum of the $B_c^+$ onto the x-axis, using the x-component of the $B_c^+$ flight vector. This works because the direction we measure the $B_c^+$ to travel in should align with its momentum direction."
      ],
      "metadata": {
        "id": "4uyau1TXrL9D"
      }
    },
    {
      "cell_type": "code",
      "source": [
        "df[\"Bc_FD_TRUE\"] = np.sqrt(df[\"Bc_FD_x_TRUE\"]**2 + df[\"Bc_FD_y_TRUE\"]**2 + df[\"Bc_FD_z_TRUE\"]**2)\n",
        "df[\"Bc_PX_reco\"] = df[\"Bc_P_reco\"] * (df[\"Bc_FD_x_TRUE\"] / df[\"Bc_FD_TRUE\"])\n",
        "df[\"Bc_PY_reco\"] = df[\"Bc_P_reco\"] * (df[\"Bc_FD_y_TRUE\"] / df[\"Bc_FD_TRUE\"])\n",
        "df[\"Bc_PZ_reco\"] = df[\"Bc_P_reco\"] * (df[\"Bc_FD_z_TRUE\"] / df[\"Bc_FD_TRUE\"])"
      ],
      "metadata": {
        "id": "lIw6xWJUq1vf"
      },
      "execution_count": 26,
      "outputs": []
    },
    {
      "cell_type": "markdown",
      "source": [
        "Now we have our 3-momentum component estimates for the $B_c^+$. The last step is to calculate the energy of the $B_c^+$, the final component of our 4-vector. In the above procedure, we have actually assumed that our $B_c^+$ has the mass of the $B_c^+$ meson - we are using this as a fixed constraint in our system. So to calculate the energy, we have $E(B_c^+) = \\sqrt{m(B_c^+)^2 + |p(B_c^+)|^2}$, where $m(B_c^+) = 6.27447$ GeV as above, and $|p(B_c^+)|$ is our estimate for the $B_c^+$ total momentum magnitude. "
      ],
      "metadata": {
        "id": "aNM1wRf_sU1T"
      }
    },
    {
      "cell_type": "code",
      "source": [
        "df[\"Bc_E_reco\"] = np.sqrt(m_Bc**2 + df[\"Bc_P_reco\"]**2)"
      ],
      "metadata": {
        "id": "5RR_jt9csT0w"
      },
      "execution_count": 27,
      "outputs": []
    },
    {
      "cell_type": "markdown",
      "source": [
        "## Calculating the reconstructed decay angles and $q^2$, and comparing them to the their true counterparts\n",
        "\n",
        "Armed with our new estimate for the $B_c^+$ 4-momentum, we can now calculate reconstructed values for the decay angles and the $q^2$. You should carefully study the functions we use to calculate the angles and $q^2$ above, and how we have adjusted them since our previous notebook to handle reconsructed calculations. In particular, notice that we are using `_reco` variables for the $B_c^+$ (as we have just calculated), and `_RECO` values for the other particles as they are measured in LHCb."
      ],
      "metadata": {
        "id": "y8DOay1YuDRx"
      }
    },
    {
      "cell_type": "code",
      "source": [
        "df[\"theta_Jpsi_reco\"] = calc_theta_Jpsi(df, \"reco\")\n",
        "df[\"costheta_Jpsi_reco\"] = np.cos(df[\"theta_Jpsi_reco\"])"
      ],
      "metadata": {
        "id": "Kvnz1aazuCSB"
      },
      "execution_count": 28,
      "outputs": []
    },
    {
      "cell_type": "code",
      "source": [
        "fig, ax = plt.subplots(figsize=(10,7))\n",
        "plt.hist(df[\"costheta_Jpsi_reco\"], bins=100, color=\"crimson\", histtype=\"step\", linewidth=2, label=\"Reco.\")\n",
        "plt.hist(df[\"costheta_Jpsi_true\"], bins=100, color=\"navy\", histtype=\"step\", linewidth=2, label=\"True\")\n",
        "plt.xlabel(\"$\\cos(\\\\theta_{J/\\psi})$\",fontsize=30)\n",
        "ax.tick_params(axis='both', which='both', labelsize=25)\n",
        "plt.legend(fontsize=20,loc=\"lower center\")\n",
        "plt.show();"
      ],
      "metadata": {
        "colab": {
          "base_uri": "https://localhost:8080/",
          "height": 482
        },
        "id": "zjkNsir3ug2B",
        "outputId": "9fc421e6-074c-4d48-efc6-d4745d1331e9"
      },
      "execution_count": 29,
      "outputs": [
        {
          "output_type": "display_data",
          "data": {
            "image/png": "[encoded data removed]",
            "text/plain": [
              "<Figure size 720x504 with 1 Axes>"
            ]
          },
          "metadata": {
            "needs_background": "light"
          }
        }
      ]
    },
    {
      "cell_type": "markdown",
      "source": [
        "Here we can see both the true decay angle and the reconstructed version. Because of the missing neutrino, which means we have to estimate the $B_c^+$ 4-momentum, and the fact that the muons we reconsruct are not perfectly measured, the reconstructed angle is smeared out compared to the true angle. \n",
        "\n",
        "Another way to visualise this is by plotting the difference between the true and reconstructed angles. This is known as the **resolution**."
      ],
      "metadata": {
        "id": "-fFpPFUyvvTS"
      }
    },
    {
      "cell_type": "code",
      "source": [
        "df[\"costheta_Jpsi_res\"] = df[\"costheta_Jpsi_reco\"] - df[\"costheta_Jpsi_true\"]"
      ],
      "metadata": {
        "id": "F20RnN-uwDIp"
      },
      "execution_count": 30,
      "outputs": []
    },
    {
      "cell_type": "code",
      "source": [
        "plt.hist(df[\"costheta_Jpsi_res\"], bins=100)\n",
        "plt.show();"
      ],
      "metadata": {
        "colab": {
          "base_uri": "https://localhost:8080/",
          "height": 265
        },
        "id": "hBTGShDLwLWw",
        "outputId": "0de1e1ea-015c-42e4-df2b-6748a467532f"
      },
      "execution_count": 31,
      "outputs": [
        {
          "output_type": "display_data",
          "data": {
            "image/png": "[encoded data removed]",
            "text/plain": [
              "<Figure size 432x288 with 1 Axes>"
            ]
          },
          "metadata": {
            "needs_background": "light"
          }
        }
      ]
    },
    {
      "cell_type": "markdown",
      "source": [
        "Let's calculate the other angles and $q^2$."
      ],
      "metadata": {
        "id": "UflJ-nW7wd7w"
      }
    },
    {
      "cell_type": "code",
      "source": [
        "df[\"theta_W_reco\"] = calc_theta_W(df, \"reco\")\n",
        "df[\"costheta_W_reco\"] = np.cos(df[\"theta_W_reco\"])"
      ],
      "metadata": {
        "id": "m9ascM6HwPvf"
      },
      "execution_count": 32,
      "outputs": []
    },
    {
      "cell_type": "code",
      "source": [
        "fig, ax = plt.subplots(figsize=(10,7))\n",
        "plt.hist(df[\"costheta_W_reco\"], bins=100, color=\"crimson\", histtype=\"step\", linewidth=2, label=\"Reco.\")\n",
        "plt.hist(df[\"costheta_W_true\"], bins=100, color=\"navy\", histtype=\"step\", linewidth=2, label=\"True\")\n",
        "plt.xlabel(\"$\\cos(\\\\theta_W)$\",fontsize=30)\n",
        "ax.tick_params(axis='both', which='both', labelsize=25)\n",
        "plt.legend(fontsize=20,loc=\"upper left\")\n",
        "plt.show();"
      ],
      "metadata": {
        "colab": {
          "base_uri": "https://localhost:8080/",
          "height": 479
        },
        "id": "Z4BocCShwnKa",
        "outputId": "071140f3-b470-4748-f4c6-94ff75e38de6"
      },
      "execution_count": 33,
      "outputs": [
        {
          "output_type": "display_data",
          "data": {
            "image/png": "[encoded data removed]",
            "text/plain": [
              "<Figure size 720x504 with 1 Axes>"
            ]
          },
          "metadata": {
            "needs_background": "light"
          }
        }
      ]
    },
    {
      "cell_type": "code",
      "source": [
        "df[\"costheta_W_res\"] = df[\"costheta_W_reco\"] - df[\"costheta_W_true\"]"
      ],
      "metadata": {
        "id": "R-h7feA8w85N"
      },
      "execution_count": 34,
      "outputs": []
    },
    {
      "cell_type": "code",
      "source": [
        "plt.hist(df[\"costheta_W_res\"], bins=100)\n",
        "plt.show();"
      ],
      "metadata": {
        "colab": {
          "base_uri": "https://localhost:8080/",
          "height": 265
        },
        "id": "H0i3A-QJxDMY",
        "outputId": "cce21f6b-facf-4cff-a4f3-2f0c3f2cfdd2"
      },
      "execution_count": 35,
      "outputs": [
        {
          "output_type": "display_data",
          "data": {
            "image/png": "[encoded data removed]",
            "text/plain": [
              "<Figure size 432x288 with 1 Axes>"
            ]
          },
          "metadata": {
            "needs_background": "light"
          }
        }
      ]
    },
    {
      "cell_type": "code",
      "source": [
        "df[\"chi_reco\"] = calc_chi(df, \"reco\")"
      ],
      "metadata": {
        "id": "VpNp5Z8iwryx"
      },
      "execution_count": 36,
      "outputs": []
    },
    {
      "cell_type": "code",
      "source": [
        "fig, ax = plt.subplots(figsize=(10,7))\n",
        "plt.hist(df[\"chi_reco\"], bins=100, color=\"crimson\", histtype=\"step\", linewidth=2, label=\"Reco.\")\n",
        "plt.hist(df[\"chi_true\"], bins=100, color=\"navy\", histtype=\"step\", linewidth=2, label=\"True\")\n",
        "plt.xlabel(\"$\\\\chi$ [rad]\",fontsize=30)\n",
        "ax.tick_params(axis='both', which='both', labelsize=25)\n",
        "plt.legend(fontsize=20,loc=\"lower center\")\n",
        "plt.show();"
      ],
      "metadata": {
        "colab": {
          "base_uri": "https://localhost:8080/",
          "height": 479
        },
        "id": "SrfRk81WwzP2",
        "outputId": "7f78ada3-24b6-47b9-cdee-f9212b16becc"
      },
      "execution_count": 37,
      "outputs": [
        {
          "output_type": "display_data",
          "data": {
            "image/png": "[encoded data removed]",
            "text/plain": [
              "<Figure size 720x504 with 1 Axes>"
            ]
          },
          "metadata": {
            "needs_background": "light"
          }
        }
      ]
    },
    {
      "cell_type": "code",
      "source": [
        "df[\"chi_res\"] = df[\"chi_reco\"] - df[\"chi_true\"]"
      ],
      "metadata": {
        "id": "-6AY1-0vw4jg"
      },
      "execution_count": 38,
      "outputs": []
    },
    {
      "cell_type": "code",
      "source": [
        "plt.hist(df[\"chi_res\"], bins=100)\n",
        "plt.show();"
      ],
      "metadata": {
        "colab": {
          "base_uri": "https://localhost:8080/",
          "height": 265
        },
        "id": "l3VDb6sxxMYz",
        "outputId": "42a461b8-5c48-44b2-c2b4-8733910343e3"
      },
      "execution_count": 39,
      "outputs": [
        {
          "output_type": "display_data",
          "data": {
            "image/png": "[encoded data removed]",
            "text/plain": [
              "<Figure size 432x288 with 1 Axes>"
            ]
          },
          "metadata": {
            "needs_background": "light"
          }
        }
      ]
    },
    {
      "cell_type": "code",
      "source": [
        "df[\"q2_reco\"] = calc_q2(df, \"reco\")"
      ],
      "metadata": {
        "id": "ONP0In1Tyikg"
      },
      "execution_count": 40,
      "outputs": []
    },
    {
      "cell_type": "code",
      "source": [
        "fig, ax = plt.subplots(figsize=(10,7))\n",
        "plt.hist(df[\"q2_reco\"], bins=100, range=(-1,11), color=\"crimson\", histtype=\"step\", linewidth=2, label=\"Reco.\")\n",
        "plt.hist(df[\"q2_true\"], bins=100, range=(-1,11), color=\"navy\", histtype=\"step\", linewidth=2, label=\"True\")\n",
        "plt.xlabel(\"$q^2$ [GeV$^2$]\",fontsize=30)\n",
        "ax.tick_params(axis='both', which='both', labelsize=25)\n",
        "plt.legend(fontsize=20,loc=\"upper left\")\n",
        "plt.show();"
      ],
      "metadata": {
        "colab": {
          "base_uri": "https://localhost:8080/",
          "height": 485
        },
        "id": "tpasocy0yleQ",
        "outputId": "f8a2eca0-04ab-4e4a-c5ab-4a6c766d53f2"
      },
      "execution_count": 41,
      "outputs": [
        {
          "output_type": "display_data",
          "data": {
            "image/png": "[encoded data removed]",
            "text/plain": [
              "<Figure size 720x504 with 1 Axes>"
            ]
          },
          "metadata": {
            "needs_background": "light"
          }
        }
      ]
    },
    {
      "cell_type": "code",
      "source": [
        "df[\"q2_res\"] = df[\"q2_reco\"] - df[\"q2_true\"]"
      ],
      "metadata": {
        "id": "03xuLaLU2mcp"
      },
      "execution_count": 42,
      "outputs": []
    },
    {
      "cell_type": "code",
      "source": [
        "plt.hist(df[\"q2_res\"], bins=100, range=(-4,8))\n",
        "plt.show();"
      ],
      "metadata": {
        "colab": {
          "base_uri": "https://localhost:8080/",
          "height": 265
        },
        "id": "ZXRm6e8w3LQU",
        "outputId": "ab7cd113-d476-495f-e7ff-fcf80d8abd76"
      },
      "execution_count": 43,
      "outputs": [
        {
          "output_type": "display_data",
          "data": {
            "image/png": "[encoded data removed]",
            "text/plain": [
              "<Figure size 432x288 with 1 Axes>"
            ]
          },
          "metadata": {
            "needs_background": "light"
          }
        }
      ]
    },
    {
      "cell_type": "markdown",
      "source": [
        "Now we have reconsructed values for the decay angles and $q^2$, and compared them to the truth-level versions. The reconstructed variables resemble what we might expect to measure in real LHCb data. \n",
        "\n",
        "Because the reconstructed decay angles differ in shape compared to the true angles, we cannot simply fit their distribution to measure the helicity ampltiudes (like we did with our truth-level RapidSim in a previous notebook). To measure the helicity amplitudes, we must take into account the resolution effects which alter the shapes of the decay angles. We will move onto this in our next notebook, but a primer can be found in [this paper](https://arxiv.org/abs/1908.04643)."
      ],
      "metadata": {
        "id": "awt0smhB3Xv5"
      }
    },
    {
      "cell_type": "code",
      "source": [
        "#Save our ROOT file with the new variables for use in further analysis\n",
        "\n",
        "#Make a new file in our Google Drive, with the same name as our input file but with _Vars added to the end\n",
        "out_file_path = f\"{file_path}_Vars\"\n",
        "outfile = uproot.recreate(f\"{out_file_path}.root\")"
      ],
      "metadata": {
        "id": "GtmAmbeJPrTh"
      },
      "execution_count": 44,
      "outputs": []
    },
    {
      "cell_type": "code",
      "source": [
        "#Add our DataFrame to the file as a TTree with the same name as our input file TTree name\n",
        "#This might take a little while to run as our DataFrame is quite big\n",
        "outfile[tree_name] = df"
      ],
      "metadata": {
        "id": "HTEfqy2JP6B2"
      },
      "execution_count": 45,
      "outputs": []
    },
    {
      "cell_type": "code",
      "source": [
        "#Close the file to finalise things\n",
        "outfile.close()"
      ],
      "metadata": {
        "id": "6rKJSoAkP8GD"
      },
      "execution_count": 46,
      "outputs": []
    }
  ]
}