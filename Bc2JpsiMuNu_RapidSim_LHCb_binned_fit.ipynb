{
  "nbformat": 4,
  "nbformat_minor": 0,
  "metadata": {
    "colab": {
      "name": "Bc2JpsiMuNu_RapidSim_LHCb_binned_fit.ipynb",
      "provenance": [],
      "mount_file_id": "1vf5CvxgaNy5XeAOYAaBC6nGaBVVkKk2L",
      "authorship_tag": "ABX9TyOxEGR4QgtCtvws+0nr9rM/",
      "include_colab_link": true
    },
    "kernelspec": {
      "name": "python3",
      "display_name": "Python 3"
    },
    "language_info": {
      "name": "python"
    }
  },
  "cells": [
    {
      "cell_type": "markdown",
      "metadata": {
        "id": "view-in-github",
        "colab_type": "text"
      },
      "source": [
        "<a href=\"https://colab.research.google.com/github/donalrinho/Bc2JpsiMuNu/blob/main/Bc2JpsiMuNu_RapidSim_LHCb_binned_fit.ipynb\" target=\"_parent\"><img src=\"https://colab.research.google.com/assets/colab-badge.svg\" alt=\"Open In Colab\"/></a>"
      ]
    },
    {
      "cell_type": "code",
      "source": [
        "!pip install uproot\n",
        "!pip install tensorflow==2.6.2 #specific versions for compatability with zfit\n",
        "!pip install hist\n",
        "!pip install mplhep\n",
        "!pip install git+https://github.com/zfit/zfit #development version of zfit needed to get binned fit tools\n",
        "!pip install uncertainties"
      ],
      "metadata": {
        "colab": {
          "base_uri": "https://localhost:8080/"
        },
        "id": "bFIaN_bQTnRv",
        "outputId": "ca93937d-e5ce-4600-f3c2-5a64fc432ae6"
      },
      "execution_count": 3,
      "outputs": [
        {
          "output_type": "stream",
          "name": "stdout",
          "text": [
            "Requirement already satisfied: uproot in /usr/local/lib/python3.7/dist-packages (4.1.9)\n",
            "Requirement already satisfied: setuptools in /usr/local/lib/python3.7/dist-packages (from uproot) (57.4.0)\n",
            "Requirement already satisfied: numpy in /usr/local/lib/python3.7/dist-packages (from uproot) (1.19.5)\n",
            "Requirement already satisfied: tensorflow==2.6.2 in /usr/local/lib/python3.7/dist-packages (2.6.2)\n",
            "Requirement already satisfied: typing-extensions~=3.7.4 in /usr/local/lib/python3.7/dist-packages (from tensorflow==2.6.2) (3.7.4.3)\n",
            "Requirement already satisfied: absl-py~=0.10 in /usr/local/lib/python3.7/dist-packages (from tensorflow==2.6.2) (0.12.0)\n",
            "Requirement already satisfied: wheel~=0.35 in /usr/local/lib/python3.7/dist-packages (from tensorflow==2.6.2) (0.37.1)\n",
            "Requirement already satisfied: google-pasta~=0.2 in /usr/local/lib/python3.7/dist-packages (from tensorflow==2.6.2) (0.2.0)\n",
            "Requirement already satisfied: numpy~=1.19.2 in /usr/local/lib/python3.7/dist-packages (from tensorflow==2.6.2) (1.19.5)\n",
            "Requirement already satisfied: h5py~=3.1.0 in /usr/local/lib/python3.7/dist-packages (from tensorflow==2.6.2) (3.1.0)\n",
            "Requirement already satisfied: protobuf>=3.9.2 in /usr/local/lib/python3.7/dist-packages (from tensorflow==2.6.2) (3.17.3)\n",
            "Requirement already satisfied: clang~=5.0 in /usr/local/lib/python3.7/dist-packages (from tensorflow==2.6.2) (5.0)\n",
            "Requirement already satisfied: astunparse~=1.6.3 in /usr/local/lib/python3.7/dist-packages (from tensorflow==2.6.2) (1.6.3)\n",
            "Requirement already satisfied: flatbuffers~=1.12.0 in /usr/local/lib/python3.7/dist-packages (from tensorflow==2.6.2) (1.12)\n",
            "Requirement already satisfied: keras<2.7,>=2.6.0 in /usr/local/lib/python3.7/dist-packages (from tensorflow==2.6.2) (2.6.0)\n",
            "Requirement already satisfied: tensorboard<2.7,>=2.6.0 in /usr/local/lib/python3.7/dist-packages (from tensorflow==2.6.2) (2.6.0)\n",
            "Requirement already satisfied: keras-preprocessing~=1.1.2 in /usr/local/lib/python3.7/dist-packages (from tensorflow==2.6.2) (1.1.2)\n",
            "Requirement already satisfied: gast==0.4.0 in /usr/local/lib/python3.7/dist-packages (from tensorflow==2.6.2) (0.4.0)\n",
            "Requirement already satisfied: termcolor~=1.1.0 in /usr/local/lib/python3.7/dist-packages (from tensorflow==2.6.2) (1.1.0)\n",
            "Requirement already satisfied: tensorflow-estimator<2.7,>=2.6.0 in /usr/local/lib/python3.7/dist-packages (from tensorflow==2.6.2) (2.6.0)\n",
            "Requirement already satisfied: wrapt~=1.12.1 in /usr/local/lib/python3.7/dist-packages (from tensorflow==2.6.2) (1.12.1)\n",
            "Requirement already satisfied: grpcio<2.0,>=1.37.0 in /usr/local/lib/python3.7/dist-packages (from tensorflow==2.6.2) (1.43.0)\n",
            "Requirement already satisfied: six~=1.15.0 in /usr/local/lib/python3.7/dist-packages (from tensorflow==2.6.2) (1.15.0)\n",
            "Requirement already satisfied: opt-einsum~=3.3.0 in /usr/local/lib/python3.7/dist-packages (from tensorflow==2.6.2) (3.3.0)\n",
            "Requirement already satisfied: cached-property in /usr/local/lib/python3.7/dist-packages (from h5py~=3.1.0->tensorflow==2.6.2) (1.5.2)\n",
            "Requirement already satisfied: tensorboard-plugin-wit>=1.6.0 in /usr/local/lib/python3.7/dist-packages (from tensorboard<2.7,>=2.6.0->tensorflow==2.6.2) (1.8.1)\n",
            "Requirement already satisfied: markdown>=2.6.8 in /usr/local/lib/python3.7/dist-packages (from tensorboard<2.7,>=2.6.0->tensorflow==2.6.2) (3.3.6)\n",
            "Requirement already satisfied: google-auth<2,>=1.6.3 in /usr/local/lib/python3.7/dist-packages (from tensorboard<2.7,>=2.6.0->tensorflow==2.6.2) (1.35.0)\n",
            "Requirement already satisfied: requests<3,>=2.21.0 in /usr/local/lib/python3.7/dist-packages (from tensorboard<2.7,>=2.6.0->tensorflow==2.6.2) (2.23.0)\n",
            "Requirement already satisfied: setuptools>=41.0.0 in /usr/local/lib/python3.7/dist-packages (from tensorboard<2.7,>=2.6.0->tensorflow==2.6.2) (57.4.0)\n",
            "Requirement already satisfied: tensorboard-data-server<0.7.0,>=0.6.0 in /usr/local/lib/python3.7/dist-packages (from tensorboard<2.7,>=2.6.0->tensorflow==2.6.2) (0.6.1)\n",
            "Requirement already satisfied: google-auth-oauthlib<0.5,>=0.4.1 in /usr/local/lib/python3.7/dist-packages (from tensorboard<2.7,>=2.6.0->tensorflow==2.6.2) (0.4.6)\n",
            "Requirement already satisfied: werkzeug>=0.11.15 in /usr/local/lib/python3.7/dist-packages (from tensorboard<2.7,>=2.6.0->tensorflow==2.6.2) (1.0.1)\n",
            "Requirement already satisfied: rsa<5,>=3.1.4 in /usr/local/lib/python3.7/dist-packages (from google-auth<2,>=1.6.3->tensorboard<2.7,>=2.6.0->tensorflow==2.6.2) (4.8)\n",
            "Requirement already satisfied: pyasn1-modules>=0.2.1 in /usr/local/lib/python3.7/dist-packages (from google-auth<2,>=1.6.3->tensorboard<2.7,>=2.6.0->tensorflow==2.6.2) (0.2.8)\n",
            "Requirement already satisfied: cachetools<5.0,>=2.0.0 in /usr/local/lib/python3.7/dist-packages (from google-auth<2,>=1.6.3->tensorboard<2.7,>=2.6.0->tensorflow==2.6.2) (4.2.4)\n",
            "Requirement already satisfied: requests-oauthlib>=0.7.0 in /usr/local/lib/python3.7/dist-packages (from google-auth-oauthlib<0.5,>=0.4.1->tensorboard<2.7,>=2.6.0->tensorflow==2.6.2) (1.3.0)\n",
            "Requirement already satisfied: importlib-metadata>=4.4 in /usr/local/lib/python3.7/dist-packages (from markdown>=2.6.8->tensorboard<2.7,>=2.6.0->tensorflow==2.6.2) (4.10.0)\n",
            "Requirement already satisfied: zipp>=0.5 in /usr/local/lib/python3.7/dist-packages (from importlib-metadata>=4.4->markdown>=2.6.8->tensorboard<2.7,>=2.6.0->tensorflow==2.6.2) (3.7.0)\n",
            "Requirement already satisfied: pyasn1<0.5.0,>=0.4.6 in /usr/local/lib/python3.7/dist-packages (from pyasn1-modules>=0.2.1->google-auth<2,>=1.6.3->tensorboard<2.7,>=2.6.0->tensorflow==2.6.2) (0.4.8)\n",
            "Requirement already satisfied: idna<3,>=2.5 in /usr/local/lib/python3.7/dist-packages (from requests<3,>=2.21.0->tensorboard<2.7,>=2.6.0->tensorflow==2.6.2) (2.10)\n",
            "Requirement already satisfied: certifi>=2017.4.17 in /usr/local/lib/python3.7/dist-packages (from requests<3,>=2.21.0->tensorboard<2.7,>=2.6.0->tensorflow==2.6.2) (2021.10.8)\n",
            "Requirement already satisfied: chardet<4,>=3.0.2 in /usr/local/lib/python3.7/dist-packages (from requests<3,>=2.21.0->tensorboard<2.7,>=2.6.0->tensorflow==2.6.2) (3.0.4)\n",
            "Requirement already satisfied: urllib3!=1.25.0,!=1.25.1,<1.26,>=1.21.1 in /usr/local/lib/python3.7/dist-packages (from requests<3,>=2.21.0->tensorboard<2.7,>=2.6.0->tensorflow==2.6.2) (1.24.3)\n",
            "Requirement already satisfied: oauthlib>=3.0.0 in /usr/local/lib/python3.7/dist-packages (from requests-oauthlib>=0.7.0->google-auth-oauthlib<0.5,>=0.4.1->tensorboard<2.7,>=2.6.0->tensorflow==2.6.2) (3.1.1)\n",
            "Requirement already satisfied: hist in /usr/local/lib/python3.7/dist-packages (2.5.2)\n",
            "Requirement already satisfied: histoprint>=2.2.0 in /usr/local/lib/python3.7/dist-packages (from hist) (2.2.1)\n",
            "Requirement already satisfied: typing-extensions>=3.7 in /usr/local/lib/python3.7/dist-packages (from hist) (3.7.4.3)\n",
            "Requirement already satisfied: boost-histogram~=1.2.0 in /usr/local/lib/python3.7/dist-packages (from hist) (1.2.1)\n",
            "Requirement already satisfied: numpy>=1.14.5 in /usr/local/lib/python3.7/dist-packages (from hist) (1.19.5)\n",
            "Requirement already satisfied: click>=7.0.0 in /usr/local/lib/python3.7/dist-packages (from histoprint>=2.2.0->hist) (7.1.2)\n",
            "Requirement already satisfied: uhi>=0.2.1 in /usr/local/lib/python3.7/dist-packages (from histoprint>=2.2.0->hist) (0.3.1)\n",
            "Requirement already satisfied: mplhep in /usr/local/lib/python3.7/dist-packages (0.3.20)\n",
            "Requirement already satisfied: mplhep-data in /usr/local/lib/python3.7/dist-packages (from mplhep) (0.0.3)\n",
            "Requirement already satisfied: uhi>=0.2.0 in /usr/local/lib/python3.7/dist-packages (from mplhep) (0.3.1)\n",
            "Requirement already satisfied: matplotlib>=3.4 in /usr/local/lib/python3.7/dist-packages (from mplhep) (3.5.1)\n",
            "Requirement already satisfied: packaging in /usr/local/lib/python3.7/dist-packages (from mplhep) (21.3)\n",
            "Requirement already satisfied: numpy>=1.16.0 in /usr/local/lib/python3.7/dist-packages (from mplhep) (1.19.5)\n",
            "Requirement already satisfied: kiwisolver>=1.0.1 in /usr/local/lib/python3.7/dist-packages (from matplotlib>=3.4->mplhep) (1.3.2)\n",
            "Requirement already satisfied: pillow>=6.2.0 in /usr/local/lib/python3.7/dist-packages (from matplotlib>=3.4->mplhep) (7.1.2)\n",
            "Requirement already satisfied: python-dateutil>=2.7 in /usr/local/lib/python3.7/dist-packages (from matplotlib>=3.4->mplhep) (2.8.2)\n",
            "Requirement already satisfied: pyparsing>=2.2.1 in /usr/local/lib/python3.7/dist-packages (from matplotlib>=3.4->mplhep) (3.0.6)\n",
            "Requirement already satisfied: cycler>=0.10 in /usr/local/lib/python3.7/dist-packages (from matplotlib>=3.4->mplhep) (0.11.0)\n",
            "Requirement already satisfied: fonttools>=4.22.0 in /usr/local/lib/python3.7/dist-packages (from matplotlib>=3.4->mplhep) (4.29.0)\n",
            "Requirement already satisfied: six>=1.5 in /usr/local/lib/python3.7/dist-packages (from python-dateutil>=2.7->matplotlib>=3.4->mplhep) (1.15.0)\n",
            "Requirement already satisfied: typing-extensions>=3.7 in /usr/local/lib/python3.7/dist-packages (from uhi>=0.2.0->mplhep) (3.7.4.3)\n",
            "Collecting git+https://github.com/zfit/zfit\n",
            "  Cloning https://github.com/zfit/zfit to /tmp/pip-req-build-2xez7i4t\n",
            "  Running command git clone -q https://github.com/zfit/zfit /tmp/pip-req-build-2xez7i4t\n",
            "  Installing build dependencies ... \u001b[?25l\u001b[?25hdone\n",
            "  Getting requirements to build wheel ... \u001b[?25l\u001b[?25hdone\n",
            "    Preparing wheel metadata ... \u001b[?25l\u001b[?25hdone\n",
            "Requirement already satisfied: tensorflow-addons in /usr/local/lib/python3.7/dist-packages (from zfit==0.9.0a2.dev28+gfd22e4d0) (0.15.0)\n",
            "Requirement already satisfied: numdifftools in /usr/local/lib/python3.7/dist-packages (from zfit==0.9.0a2.dev28+gfd22e4d0) (0.9.40)\n",
            "Requirement already satisfied: boost-histogram in /usr/local/lib/python3.7/dist-packages (from zfit==0.9.0a2.dev28+gfd22e4d0) (1.2.1)\n",
            "Requirement already satisfied: tf-quant-finance>=v0.0.1-dev24 in /usr/local/lib/python3.7/dist-packages (from zfit==0.9.0a2.dev28+gfd22e4d0) (0.0.1.dev30)\n",
            "Requirement already satisfied: ipyopt<0.12 in /usr/local/lib/python3.7/dist-packages (from zfit==0.9.0a2.dev28+gfd22e4d0) (0.11.0)\n",
            "Requirement already satisfied: dotmap in /usr/local/lib/python3.7/dist-packages (from zfit==0.9.0a2.dev28+gfd22e4d0) (1.3.26)\n",
            "Requirement already satisfied: ordered-set in /usr/local/lib/python3.7/dist-packages (from zfit==0.9.0a2.dev28+gfd22e4d0) (4.0.2)\n",
            "Requirement already satisfied: uproot<5,>=4 in /usr/local/lib/python3.7/dist-packages (from zfit==0.9.0a2.dev28+gfd22e4d0) (4.1.9)\n",
            "Requirement already satisfied: tabulate in /usr/local/lib/python3.7/dist-packages (from zfit==0.9.0a2.dev28+gfd22e4d0) (0.8.9)\n",
            "Requirement already satisfied: colorama in /usr/local/lib/python3.7/dist-packages (from zfit==0.9.0a2.dev28+gfd22e4d0) (0.4.4)\n",
            "Requirement already satisfied: colorlog in /usr/local/lib/python3.7/dist-packages (from zfit==0.9.0a2.dev28+gfd22e4d0) (6.6.0)\n",
            "Requirement already satisfied: hist in /usr/local/lib/python3.7/dist-packages (from zfit==0.9.0a2.dev28+gfd22e4d0) (2.5.2)\n",
            "Requirement already satisfied: pydantic in /usr/local/lib/python3.7/dist-packages (from zfit==0.9.0a2.dev28+gfd22e4d0) (1.9.0)\n",
            "Requirement already satisfied: deprecated in /usr/local/lib/python3.7/dist-packages (from zfit==0.9.0a2.dev28+gfd22e4d0) (1.2.13)\n",
            "Requirement already satisfied: numpy>=1.16 in /usr/local/lib/python3.7/dist-packages (from zfit==0.9.0a2.dev28+gfd22e4d0) (1.19.5)\n",
            "Requirement already satisfied: zfit-interface in /usr/local/lib/python3.7/dist-packages (from zfit==0.9.0a2.dev28+gfd22e4d0) (0.0.3)\n",
            "Requirement already satisfied: texttable in /usr/local/lib/python3.7/dist-packages (from zfit==0.9.0a2.dev28+gfd22e4d0) (1.6.4)\n",
            "Requirement already satisfied: colored in /usr/local/lib/python3.7/dist-packages (from zfit==0.9.0a2.dev28+gfd22e4d0) (1.4.3)\n",
            "Requirement already satisfied: tensorflow-probability<0.14,>=0.12 in /usr/local/lib/python3.7/dist-packages (from zfit==0.9.0a2.dev28+gfd22e4d0) (0.13.0)\n",
            "Requirement already satisfied: iminuit>=2.3 in /usr/local/lib/python3.7/dist-packages (from zfit==0.9.0a2.dev28+gfd22e4d0) (2.9.0)\n",
            "Requirement already satisfied: nlopt in /usr/local/lib/python3.7/dist-packages (from zfit==0.9.0a2.dev28+gfd22e4d0) (2.7.0)\n",
            "Requirement already satisfied: tensorflow<2.7,>=2.6 in /usr/local/lib/python3.7/dist-packages (from zfit==0.9.0a2.dev28+gfd22e4d0) (2.6.2)\n",
            "Requirement already satisfied: pandas in /usr/local/lib/python3.7/dist-packages (from zfit==0.9.0a2.dev28+gfd22e4d0) (1.1.5)\n",
            "Requirement already satisfied: scipy>=1.2 in /usr/local/lib/python3.7/dist-packages (from zfit==0.9.0a2.dev28+gfd22e4d0) (1.4.1)\n",
            "Requirement already satisfied: protobuf>=3.9.2 in /usr/local/lib/python3.7/dist-packages (from tensorflow<2.7,>=2.6->zfit==0.9.0a2.dev28+gfd22e4d0) (3.17.3)\n",
            "Requirement already satisfied: tensorboard<2.7,>=2.6.0 in /usr/local/lib/python3.7/dist-packages (from tensorflow<2.7,>=2.6->zfit==0.9.0a2.dev28+gfd22e4d0) (2.6.0)\n",
            "Requirement already satisfied: six~=1.15.0 in /usr/local/lib/python3.7/dist-packages (from tensorflow<2.7,>=2.6->zfit==0.9.0a2.dev28+gfd22e4d0) (1.15.0)\n",
            "Requirement already satisfied: tensorflow-estimator<2.7,>=2.6.0 in /usr/local/lib/python3.7/dist-packages (from tensorflow<2.7,>=2.6->zfit==0.9.0a2.dev28+gfd22e4d0) (2.6.0)\n",
            "Requirement already satisfied: h5py~=3.1.0 in /usr/local/lib/python3.7/dist-packages (from tensorflow<2.7,>=2.6->zfit==0.9.0a2.dev28+gfd22e4d0) (3.1.0)\n",
            "Requirement already satisfied: wrapt~=1.12.1 in /usr/local/lib/python3.7/dist-packages (from tensorflow<2.7,>=2.6->zfit==0.9.0a2.dev28+gfd22e4d0) (1.12.1)\n",
            "Requirement already satisfied: wheel~=0.35 in /usr/local/lib/python3.7/dist-packages (from tensorflow<2.7,>=2.6->zfit==0.9.0a2.dev28+gfd22e4d0) (0.37.1)\n",
            "Requirement already satisfied: google-pasta~=0.2 in /usr/local/lib/python3.7/dist-packages (from tensorflow<2.7,>=2.6->zfit==0.9.0a2.dev28+gfd22e4d0) (0.2.0)\n",
            "Requirement already satisfied: typing-extensions~=3.7.4 in /usr/local/lib/python3.7/dist-packages (from tensorflow<2.7,>=2.6->zfit==0.9.0a2.dev28+gfd22e4d0) (3.7.4.3)\n",
            "Requirement already satisfied: keras<2.7,>=2.6.0 in /usr/local/lib/python3.7/dist-packages (from tensorflow<2.7,>=2.6->zfit==0.9.0a2.dev28+gfd22e4d0) (2.6.0)\n",
            "Requirement already satisfied: grpcio<2.0,>=1.37.0 in /usr/local/lib/python3.7/dist-packages (from tensorflow<2.7,>=2.6->zfit==0.9.0a2.dev28+gfd22e4d0) (1.43.0)\n",
            "Requirement already satisfied: gast==0.4.0 in /usr/local/lib/python3.7/dist-packages (from tensorflow<2.7,>=2.6->zfit==0.9.0a2.dev28+gfd22e4d0) (0.4.0)\n",
            "Requirement already satisfied: opt-einsum~=3.3.0 in /usr/local/lib/python3.7/dist-packages (from tensorflow<2.7,>=2.6->zfit==0.9.0a2.dev28+gfd22e4d0) (3.3.0)\n",
            "Requirement already satisfied: absl-py~=0.10 in /usr/local/lib/python3.7/dist-packages (from tensorflow<2.7,>=2.6->zfit==0.9.0a2.dev28+gfd22e4d0) (0.12.0)\n",
            "Requirement already satisfied: termcolor~=1.1.0 in /usr/local/lib/python3.7/dist-packages (from tensorflow<2.7,>=2.6->zfit==0.9.0a2.dev28+gfd22e4d0) (1.1.0)\n",
            "Requirement already satisfied: keras-preprocessing~=1.1.2 in /usr/local/lib/python3.7/dist-packages (from tensorflow<2.7,>=2.6->zfit==0.9.0a2.dev28+gfd22e4d0) (1.1.2)\n",
            "Requirement already satisfied: astunparse~=1.6.3 in /usr/local/lib/python3.7/dist-packages (from tensorflow<2.7,>=2.6->zfit==0.9.0a2.dev28+gfd22e4d0) (1.6.3)\n",
            "Requirement already satisfied: clang~=5.0 in /usr/local/lib/python3.7/dist-packages (from tensorflow<2.7,>=2.6->zfit==0.9.0a2.dev28+gfd22e4d0) (5.0)\n",
            "Requirement already satisfied: flatbuffers~=1.12.0 in /usr/local/lib/python3.7/dist-packages (from tensorflow<2.7,>=2.6->zfit==0.9.0a2.dev28+gfd22e4d0) (1.12)\n",
            "Requirement already satisfied: cached-property in /usr/local/lib/python3.7/dist-packages (from h5py~=3.1.0->tensorflow<2.7,>=2.6->zfit==0.9.0a2.dev28+gfd22e4d0) (1.5.2)\n",
            "Requirement already satisfied: tensorboard-data-server<0.7.0,>=0.6.0 in /usr/local/lib/python3.7/dist-packages (from tensorboard<2.7,>=2.6.0->tensorflow<2.7,>=2.6->zfit==0.9.0a2.dev28+gfd22e4d0) (0.6.1)\n",
            "Requirement already satisfied: requests<3,>=2.21.0 in /usr/local/lib/python3.7/dist-packages (from tensorboard<2.7,>=2.6.0->tensorflow<2.7,>=2.6->zfit==0.9.0a2.dev28+gfd22e4d0) (2.23.0)\n",
            "Requirement already satisfied: google-auth-oauthlib<0.5,>=0.4.1 in /usr/local/lib/python3.7/dist-packages (from tensorboard<2.7,>=2.6.0->tensorflow<2.7,>=2.6->zfit==0.9.0a2.dev28+gfd22e4d0) (0.4.6)\n",
            "Requirement already satisfied: markdown>=2.6.8 in /usr/local/lib/python3.7/dist-packages (from tensorboard<2.7,>=2.6.0->tensorflow<2.7,>=2.6->zfit==0.9.0a2.dev28+gfd22e4d0) (3.3.6)\n",
            "Requirement already satisfied: google-auth<2,>=1.6.3 in /usr/local/lib/python3.7/dist-packages (from tensorboard<2.7,>=2.6.0->tensorflow<2.7,>=2.6->zfit==0.9.0a2.dev28+gfd22e4d0) (1.35.0)\n",
            "Requirement already satisfied: tensorboard-plugin-wit>=1.6.0 in /usr/local/lib/python3.7/dist-packages (from tensorboard<2.7,>=2.6.0->tensorflow<2.7,>=2.6->zfit==0.9.0a2.dev28+gfd22e4d0) (1.8.1)\n",
            "Requirement already satisfied: setuptools>=41.0.0 in /usr/local/lib/python3.7/dist-packages (from tensorboard<2.7,>=2.6.0->tensorflow<2.7,>=2.6->zfit==0.9.0a2.dev28+gfd22e4d0) (57.4.0)\n",
            "Requirement already satisfied: werkzeug>=0.11.15 in /usr/local/lib/python3.7/dist-packages (from tensorboard<2.7,>=2.6.0->tensorflow<2.7,>=2.6->zfit==0.9.0a2.dev28+gfd22e4d0) (1.0.1)\n",
            "Requirement already satisfied: pyasn1-modules>=0.2.1 in /usr/local/lib/python3.7/dist-packages (from google-auth<2,>=1.6.3->tensorboard<2.7,>=2.6.0->tensorflow<2.7,>=2.6->zfit==0.9.0a2.dev28+gfd22e4d0) (0.2.8)\n",
            "Requirement already satisfied: cachetools<5.0,>=2.0.0 in /usr/local/lib/python3.7/dist-packages (from google-auth<2,>=1.6.3->tensorboard<2.7,>=2.6.0->tensorflow<2.7,>=2.6->zfit==0.9.0a2.dev28+gfd22e4d0) (4.2.4)\n",
            "Requirement already satisfied: rsa<5,>=3.1.4 in /usr/local/lib/python3.7/dist-packages (from google-auth<2,>=1.6.3->tensorboard<2.7,>=2.6.0->tensorflow<2.7,>=2.6->zfit==0.9.0a2.dev28+gfd22e4d0) (4.8)\n",
            "Requirement already satisfied: requests-oauthlib>=0.7.0 in /usr/local/lib/python3.7/dist-packages (from google-auth-oauthlib<0.5,>=0.4.1->tensorboard<2.7,>=2.6.0->tensorflow<2.7,>=2.6->zfit==0.9.0a2.dev28+gfd22e4d0) (1.3.0)\n",
            "Requirement already satisfied: importlib-metadata>=4.4 in /usr/local/lib/python3.7/dist-packages (from markdown>=2.6.8->tensorboard<2.7,>=2.6.0->tensorflow<2.7,>=2.6->zfit==0.9.0a2.dev28+gfd22e4d0) (4.10.0)\n",
            "Requirement already satisfied: zipp>=0.5 in /usr/local/lib/python3.7/dist-packages (from importlib-metadata>=4.4->markdown>=2.6.8->tensorboard<2.7,>=2.6.0->tensorflow<2.7,>=2.6->zfit==0.9.0a2.dev28+gfd22e4d0) (3.7.0)\n",
            "Requirement already satisfied: pyasn1<0.5.0,>=0.4.6 in /usr/local/lib/python3.7/dist-packages (from pyasn1-modules>=0.2.1->google-auth<2,>=1.6.3->tensorboard<2.7,>=2.6.0->tensorflow<2.7,>=2.6->zfit==0.9.0a2.dev28+gfd22e4d0) (0.4.8)\n",
            "Requirement already satisfied: urllib3!=1.25.0,!=1.25.1,<1.26,>=1.21.1 in /usr/local/lib/python3.7/dist-packages (from requests<3,>=2.21.0->tensorboard<2.7,>=2.6.0->tensorflow<2.7,>=2.6->zfit==0.9.0a2.dev28+gfd22e4d0) (1.24.3)\n",
            "Requirement already satisfied: certifi>=2017.4.17 in /usr/local/lib/python3.7/dist-packages (from requests<3,>=2.21.0->tensorboard<2.7,>=2.6.0->tensorflow<2.7,>=2.6->zfit==0.9.0a2.dev28+gfd22e4d0) (2021.10.8)\n",
            "Requirement already satisfied: idna<3,>=2.5 in /usr/local/lib/python3.7/dist-packages (from requests<3,>=2.21.0->tensorboard<2.7,>=2.6.0->tensorflow<2.7,>=2.6->zfit==0.9.0a2.dev28+gfd22e4d0) (2.10)\n",
            "Requirement already satisfied: chardet<4,>=3.0.2 in /usr/local/lib/python3.7/dist-packages (from requests<3,>=2.21.0->tensorboard<2.7,>=2.6.0->tensorflow<2.7,>=2.6->zfit==0.9.0a2.dev28+gfd22e4d0) (3.0.4)\n",
            "Requirement already satisfied: oauthlib>=3.0.0 in /usr/local/lib/python3.7/dist-packages (from requests-oauthlib>=0.7.0->google-auth-oauthlib<0.5,>=0.4.1->tensorboard<2.7,>=2.6.0->tensorflow<2.7,>=2.6->zfit==0.9.0a2.dev28+gfd22e4d0) (3.1.1)\n",
            "Requirement already satisfied: decorator in /usr/local/lib/python3.7/dist-packages (from tensorflow-probability<0.14,>=0.12->zfit==0.9.0a2.dev28+gfd22e4d0) (4.4.2)\n",
            "Requirement already satisfied: dm-tree in /usr/local/lib/python3.7/dist-packages (from tensorflow-probability<0.14,>=0.12->zfit==0.9.0a2.dev28+gfd22e4d0) (0.1.6)\n",
            "Requirement already satisfied: cloudpickle>=1.3 in /usr/local/lib/python3.7/dist-packages (from tensorflow-probability<0.14,>=0.12->zfit==0.9.0a2.dev28+gfd22e4d0) (1.3.0)\n",
            "Requirement already satisfied: attrs>=18.2.0 in /usr/local/lib/python3.7/dist-packages (from tf-quant-finance>=v0.0.1-dev24->zfit==0.9.0a2.dev28+gfd22e4d0) (21.4.0)\n",
            "Requirement already satisfied: histoprint>=2.2.0 in /usr/local/lib/python3.7/dist-packages (from hist->zfit==0.9.0a2.dev28+gfd22e4d0) (2.2.1)\n",
            "Requirement already satisfied: click>=7.0.0 in /usr/local/lib/python3.7/dist-packages (from histoprint>=2.2.0->hist->zfit==0.9.0a2.dev28+gfd22e4d0) (7.1.2)\n",
            "Requirement already satisfied: uhi>=0.2.1 in /usr/local/lib/python3.7/dist-packages (from histoprint>=2.2.0->hist->zfit==0.9.0a2.dev28+gfd22e4d0) (0.3.1)\n",
            "Requirement already satisfied: algopy>=0.4 in /usr/local/lib/python3.7/dist-packages (from numdifftools->zfit==0.9.0a2.dev28+gfd22e4d0) (0.5.7)\n",
            "Requirement already satisfied: statsmodels>=0.6 in /usr/local/lib/python3.7/dist-packages (from numdifftools->zfit==0.9.0a2.dev28+gfd22e4d0) (0.10.2)\n",
            "Requirement already satisfied: patsy>=0.4.0 in /usr/local/lib/python3.7/dist-packages (from statsmodels>=0.6->numdifftools->zfit==0.9.0a2.dev28+gfd22e4d0) (0.5.2)\n",
            "Requirement already satisfied: pytz>=2017.2 in /usr/local/lib/python3.7/dist-packages (from pandas->zfit==0.9.0a2.dev28+gfd22e4d0) (2018.9)\n",
            "Requirement already satisfied: python-dateutil>=2.7.3 in /usr/local/lib/python3.7/dist-packages (from pandas->zfit==0.9.0a2.dev28+gfd22e4d0) (2.8.2)\n",
            "Requirement already satisfied: typeguard>=2.7 in /usr/local/lib/python3.7/dist-packages (from tensorflow-addons->zfit==0.9.0a2.dev28+gfd22e4d0) (2.7.1)\n",
            "Requirement already satisfied: uncertainties in /usr/local/lib/python3.7/dist-packages (3.1.6)\n",
            "Requirement already satisfied: future in /usr/local/lib/python3.7/dist-packages (from uncertainties) (0.16.0)\n"
          ]
        }
      ]
    },
    {
      "cell_type": "code",
      "source": [
        "import uproot\n",
        "import numpy as np\n",
        "import tensorflow as tf\n",
        "import zfit\n",
        "import hist\n",
        "from hist import Hist\n",
        "import mplhep\n",
        "import pandas as pd\n",
        "import pickle\n",
        "import json\n",
        "import random"
      ],
      "metadata": {
        "id": "NH6Qj7zOT7S_"
      },
      "execution_count": 16,
      "outputs": []
    },
    {
      "cell_type": "code",
      "execution_count": 5,
      "metadata": {
        "colab": {
          "base_uri": "https://localhost:8080/"
        },
        "id": "OLxdqDy5TedV",
        "outputId": "f26102b7-ba0a-4982-9a10-5cc7cff8673b"
      },
      "outputs": [
        {
          "output_type": "execute_result",
          "data": {
            "text/plain": [
              "{0: Hist(\n",
              "   Variable([-1, -0.79216, -0.58822, -0.38891, -0.19395, 0.00055617, 0.19486, 0.39035, 0.5888, 0.79242, 1], name='costheta_Jpsi_reco', label='costheta_Jpsi_reco'),\n",
              "   Variable([-1, -0.46394, -0.12545, 0.13095, 0.33459, 0.50304, 0.64358, 0.76183, 0.861, 0.94157, 1], name='costheta_W_reco', label='costheta_W_reco'),\n",
              "   Variable([-3.14159, -2.42962, -1.84089, -1.30021, -0.71122, 0.0043844, 0.71329, 1.29936, 1.83985, 2.42724, 3.14159], name='chi_reco', label='chi_reco'),\n",
              "   storage=Weight()) # Sum: WeightedSum(value=1, variance=1.42964e-06) (WeightedSum(value=1.0012, variance=1.43138e-06) with flow),\n",
              " 1: Hist(\n",
              "   Variable([-1, -0.79216, -0.58822, -0.38891, -0.19395, 0.00055617, 0.19486, 0.39035, 0.5888, 0.79242, 1], name='costheta_Jpsi_reco', label='costheta_Jpsi_reco'),\n",
              "   Variable([-1, -0.46394, -0.12545, 0.13095, 0.33459, 0.50304, 0.64358, 0.76183, 0.861, 0.94157, 1], name='costheta_W_reco', label='costheta_W_reco'),\n",
              "   Variable([-3.14159, -2.42962, -1.84089, -1.30021, -0.71122, 0.0043844, 0.71329, 1.29936, 1.83985, 2.42724, 3.14159], name='chi_reco', label='chi_reco'),\n",
              "   storage=Weight()) # Sum: WeightedSum(value=1.03717, variance=3.93622e-06) (WeightedSum(value=1.03979, variance=3.94894e-06) with flow),\n",
              " 2: Hist(\n",
              "   Variable([-1, -0.79216, -0.58822, -0.38891, -0.19395, 0.00055617, 0.19486, 0.39035, 0.5888, 0.79242, 1], name='costheta_Jpsi_reco', label='costheta_Jpsi_reco'),\n",
              "   Variable([-1, -0.46394, -0.12545, 0.13095, 0.33459, 0.50304, 0.64358, 0.76183, 0.861, 0.94157, 1], name='costheta_W_reco', label='costheta_W_reco'),\n",
              "   Variable([-3.14159, -2.42962, -1.84089, -1.30021, -0.71122, 0.0043844, 0.71329, 1.29936, 1.83985, 2.42724, 3.14159], name='chi_reco', label='chi_reco'),\n",
              "   storage=Weight()) # Sum: WeightedSum(value=0.995984, variance=1.71242e-06) (WeightedSum(value=0.996516, variance=1.71316e-06) with flow),\n",
              " 3: Hist(\n",
              "   Variable([-1, -0.79216, -0.58822, -0.38891, -0.19395, 0.00055617, 0.19486, 0.39035, 0.5888, 0.79242, 1], name='costheta_Jpsi_reco', label='costheta_Jpsi_reco'),\n",
              "   Variable([-1, -0.46394, -0.12545, 0.13095, 0.33459, 0.50304, 0.64358, 0.76183, 0.861, 0.94157, 1], name='costheta_W_reco', label='costheta_W_reco'),\n",
              "   Variable([-3.14159, -2.42962, -1.84089, -1.30021, -0.71122, 0.0043844, 0.71329, 1.29936, 1.83985, 2.42724, 3.14159], name='chi_reco', label='chi_reco'),\n",
              "   storage=Weight()) # Sum: WeightedSum(value=0.00271295, variance=4.22558e-07) (WeightedSum(value=0.00277219, variance=4.23508e-07) with flow),\n",
              " 4: Hist(\n",
              "   Variable([-1, -0.79216, -0.58822, -0.38891, -0.19395, 0.00055617, 0.19486, 0.39035, 0.5888, 0.79242, 1], name='costheta_Jpsi_reco', label='costheta_Jpsi_reco'),\n",
              "   Variable([-1, -0.46394, -0.12545, 0.13095, 0.33459, 0.50304, 0.64358, 0.76183, 0.861, 0.94157, 1], name='costheta_W_reco', label='costheta_W_reco'),\n",
              "   Variable([-3.14159, -2.42962, -1.84089, -1.30021, -0.71122, 0.0043844, 0.71329, 1.29936, 1.83985, 2.42724, 3.14159], name='chi_reco', label='chi_reco'),\n",
              "   storage=Weight()) # Sum: WeightedSum(value=-0.00389627, variance=2.81891e-07) (WeightedSum(value=-0.0039107, variance=2.821e-07) with flow),\n",
              " 5: Hist(\n",
              "   Variable([-1, -0.79216, -0.58822, -0.38891, -0.19395, 0.00055617, 0.19486, 0.39035, 0.5888, 0.79242, 1], name='costheta_Jpsi_reco', label='costheta_Jpsi_reco'),\n",
              "   Variable([-1, -0.46394, -0.12545, 0.13095, 0.33459, 0.50304, 0.64358, 0.76183, 0.861, 0.94157, 1], name='costheta_W_reco', label='costheta_W_reco'),\n",
              "   Variable([-3.14159, -2.42962, -1.84089, -1.30021, -0.71122, 0.0043844, 0.71329, 1.29936, 1.83985, 2.42724, 3.14159], name='chi_reco', label='chi_reco'),\n",
              "   storage=Weight()) # Sum: WeightedSum(value=-0.00423976, variance=1.79778e-07) (WeightedSum(value=-0.00420689, variance=1.79997e-07) with flow)}"
            ]
          },
          "metadata": {},
          "execution_count": 5
        }
      ],
      "source": [
        "#Load our histogram templates from previous notebook\n",
        "all_h_norm = {}\n",
        "hist_path = \"/content/drive/MyDrive/Bc2JpsiMuNu_Analysis/pickle\"\n",
        "for i in range(0,6):\n",
        "  with open(f\"{hist_path}/hist_{i}.pkl\", \"rb\") as f:\n",
        "    all_h_norm[i] = pickle.load(f)\n",
        "all_h_norm"
      ]
    },
    {
      "cell_type": "code",
      "source": [
        "#Load our ROOT file containing the MC we want to fit\n",
        "drive_dir = \"/content/drive/MyDrive/Bc2JpsiMuNu_ROOT_files\"\n",
        "file_path = f\"{drive_dir}/Bc2JpsiMuNu_RapidSim_LHCb_Vars_Weights\"\n",
        "print(f\"Loading ROOT file {file_path}.root\")\n",
        "tree_name = \"DecayTree\"\n",
        "events = uproot.open(f\"{file_path}.root:{tree_name}\")\n",
        "events"
      ],
      "metadata": {
        "colab": {
          "base_uri": "https://localhost:8080/"
        },
        "id": "UgRE659WU719",
        "outputId": "331fe3f7-c0c7-410f-ad82-dd3d443e9237"
      },
      "execution_count": 6,
      "outputs": [
        {
          "output_type": "stream",
          "name": "stdout",
          "text": [
            "Loading ROOT file /content/drive/MyDrive/Bc2JpsiMuNu_ROOT_files/Bc2JpsiMuNu_RapidSim_LHCb_Vars_Weights.root\n"
          ]
        },
        {
          "output_type": "execute_result",
          "data": {
            "text/plain": [
              "<TTree 'DecayTree' (172 branches) at 0x7fa002818150>"
            ]
          },
          "metadata": {},
          "execution_count": 6
        }
      ]
    },
    {
      "cell_type": "code",
      "source": [
        "#Make pandas DataFrame\n",
        "df = events.arrays(library=\"pd\")"
      ],
      "metadata": {
        "id": "V8sDq4CFWMZ2"
      },
      "execution_count": 7,
      "outputs": []
    },
    {
      "cell_type": "code",
      "source": [
        "#Downsample to DataFrame to 100k events, which will act as our fit dataset\n",
        "df_fit = df.sample(n=100000, random_state=42)\n",
        "len(df_fit)"
      ],
      "metadata": {
        "colab": {
          "base_uri": "https://localhost:8080/"
        },
        "id": "cPD_mu6iWODp",
        "outputId": "e2e7479d-7138-4039-ed8f-f9b8e314cc4a"
      },
      "execution_count": 8,
      "outputs": [
        {
          "output_type": "execute_result",
          "data": {
            "text/plain": [
              "100000"
            ]
          },
          "metadata": {},
          "execution_count": 8
        }
      ]
    },
    {
      "cell_type": "code",
      "source": [
        "#Define fit variables\n",
        "vars = {}\n",
        "vars[\"x_var\"] = {\"name\": \"costheta_Jpsi_reco\", \"min\": -1., \"max\": 1., \"bins\": 10, \"latex\": \"$\\\\cos(\\\\theta_{J/\\\\psi})$\"}\n",
        "vars[\"y_var\"] = {\"name\": \"costheta_W_reco\", \"min\": -1., \"max\": 1., \"bins\": 10, \"latex\": \"$\\\\cos(\\\\theta_{W})$\"}\n",
        "vars[\"z_var\"] = {\"name\": \"chi_reco\", \"min\": -np.pi, \"max\": np.pi, \"bins\": 10, \"latex\": \"$\\\\chi$ [rad]\"}"
      ],
      "metadata": {
        "id": "PsKnkUwQWmX2"
      },
      "execution_count": 9,
      "outputs": []
    },
    {
      "cell_type": "code",
      "source": [
        "#Get the binning schemes we used to make our templates (we saved them into a JSON file)\n",
        "json_path = \"/content/drive/MyDrive/Bc2JpsiMuNu_Analysis/json\"\n",
        "with open(f\"{json_path}/binnings.json\") as json_file:\n",
        "  binnings = json.load(json_file)\n",
        "binnings"
      ],
      "metadata": {
        "colab": {
          "base_uri": "https://localhost:8080/"
        },
        "id": "rXqp1fSCXFUK",
        "outputId": "e594fd8f-8bb6-4be6-cb9f-1e90e4509545"
      },
      "execution_count": 10,
      "outputs": [
        {
          "output_type": "execute_result",
          "data": {
            "text/plain": [
              "{'x_var': [-1.0,\n",
              "  -0.79216,\n",
              "  -0.58822,\n",
              "  -0.38891,\n",
              "  -0.19395,\n",
              "  0.00055617,\n",
              "  0.19486,\n",
              "  0.39035,\n",
              "  0.5888,\n",
              "  0.79242,\n",
              "  1.0],\n",
              " 'y_var': [-1.0,\n",
              "  -0.46394,\n",
              "  -0.12545,\n",
              "  0.13095,\n",
              "  0.33459,\n",
              "  0.50304,\n",
              "  0.64358,\n",
              "  0.76183,\n",
              "  0.861,\n",
              "  0.94157,\n",
              "  1.0],\n",
              " 'z_var': [-3.141592653589793,\n",
              "  -2.42962,\n",
              "  -1.84089,\n",
              "  -1.30021,\n",
              "  -0.71122,\n",
              "  0.0043844,\n",
              "  0.71329,\n",
              "  1.29936,\n",
              "  1.83985,\n",
              "  2.42724,\n",
              "  3.141592653589793]}"
            ]
          },
          "metadata": {},
          "execution_count": 10
        }
      ]
    },
    {
      "cell_type": "code",
      "source": [
        "#Define a 3D histogram of the data, with the same binning we used to make our templates\n",
        "data_hist = (\n",
        "    Hist.new\n",
        "    .Variable(binnings[\"x_var\"], name=vars[\"x_var\"][\"name\"])\n",
        "    .Variable(binnings[\"y_var\"], name=vars[\"y_var\"][\"name\"])\n",
        "    .Variable(binnings[\"z_var\"], name=vars[\"z_var\"][\"name\"])\n",
        "    .Weight()\n",
        "    )\n",
        "\n",
        "data_hist.fill(df_fit[vars[\"x_var\"][\"name\"]], \n",
        "               df_fit[vars[\"y_var\"][\"name\"]], \n",
        "               df_fit[vars[\"z_var\"][\"name\"]])"
      ],
      "metadata": {
        "colab": {
          "base_uri": "https://localhost:8080/",
          "height": 265
        },
        "id": "eHTWVwLfX7cB",
        "outputId": "e857577f-7dcb-4be4-c0be-f034629847cb"
      },
      "execution_count": 11,
      "outputs": [
        {
          "output_type": "execute_result",
          "data": {
            "text/html": [
              "<html>\n",
              "<div style=\"display:flex; align-items:center;\">\n",
              "<div style=\"width:290px;\">\n",
              "<svg xmlns=\"http://www.w3.org/2000/svg\" viewBox=\"-10 -10 220 220\">\n",
              "<rect x=\"0\" y=\"0\" width=\"160\" height=\"160\" style=\"fill:white;opacity:.5;stroke-width:2;stroke:currentColor;\"/>\n",
              "<rect x=\"20\" y=\"20\" width=\"160\" height=\"160\" style=\"fill:white;opacity:.5;stroke-width:2;stroke:currentColor;\"/>\n",
              "<rect x=\"40\" y=\"40\" width=\"160\" height=\"160\" style=\"fill:white;opacity:.5;stroke-width:2;stroke:currentColor;\"/>\n",
              "<text x=\"120.0\" y=\"120.0\" style=\"font-size: 26pt; font-family: verdana; font-style: bold; fill: black;\" text-anchor=\"middle\" alignment-baseline=\"middle\">\n",
              "3D\n",
              "</text>\n",
              "</svg>\n",
              "</div>\n",
              "<div style=\"flex=grow:1;\">\n",
              "Variable([-1, -0.79216, -0.58822, -0.38891, -0.19395, 0.00055617, 0.19486, 0.39035, 0.5888, 0.79242, 1], name='costheta_Jpsi_reco', label='costheta_Jpsi_reco')<br/>\n",
              "Variable([-1, -0.46394, -0.12545, 0.13095, 0.33459, 0.50304, 0.64358, 0.76183, 0.861, 0.94157, 1], name='costheta_W_reco', label='costheta_W_reco')<br/>\n",
              "Variable([-3.14159, -2.42962, -1.84089, -1.30021, -0.71122, 0.0043844, 0.71329, 1.29936, 1.83985, 2.42724, 3.14159], name='chi_reco', label='chi_reco')<br/>\n",
              "<hr style=\"margin-top:.2em; margin-bottom:.2em;\"/>\n",
              "Weight() Σ=WeightedSum(value=99897, variance=99897) <em>(WeightedSum(value=100000, variance=100000) with flow)</em>\n",
              "\n",
              "</div>\n",
              "</div>\n",
              "</html>"
            ],
            "text/plain": [
              "Hist(\n",
              "  Variable([-1, -0.79216, -0.58822, -0.38891, -0.19395, 0.00055617, 0.19486, 0.39035, 0.5888, 0.79242, 1], name='costheta_Jpsi_reco', label='costheta_Jpsi_reco'),\n",
              "  Variable([-1, -0.46394, -0.12545, 0.13095, 0.33459, 0.50304, 0.64358, 0.76183, 0.861, 0.94157, 1], name='costheta_W_reco', label='costheta_W_reco'),\n",
              "  Variable([-3.14159, -2.42962, -1.84089, -1.30021, -0.71122, 0.0043844, 0.71329, 1.29936, 1.83985, 2.42724, 3.14159], name='chi_reco', label='chi_reco'),\n",
              "  storage=Weight()) # Sum: WeightedSum(value=99897, variance=99897) (WeightedSum(value=100000, variance=100000) with flow)"
            ]
          },
          "metadata": {},
          "execution_count": 11
        }
      ]
    },
    {
      "cell_type": "code",
      "source": [
        "#Create a zfit dataset of the data\n",
        "binned_data = zfit.data.BinnedData.from_hist(data_hist)\n",
        "binned_data"
      ],
      "metadata": {
        "colab": {
          "base_uri": "https://localhost:8080/",
          "height": 230
        },
        "id": "ec5b-1M1YaBa",
        "outputId": "410f6822-faca-4967-c006-6bf40246be27"
      },
      "execution_count": 12,
      "outputs": [
        {
          "output_type": "execute_result",
          "data": {
            "text/html": [
              "<html>\n",
              "<div style=\"display:flex; align-items:center;\">\n",
              "<div style=\"width:290px;\">\n",
              "<svg xmlns=\"http://www.w3.org/2000/svg\" viewBox=\"-10 -10 220 220\">\n",
              "<rect x=\"0\" y=\"0\" width=\"160\" height=\"160\" style=\"fill:white;opacity:.5;stroke-width:2;stroke:currentColor;\"/>\n",
              "<rect x=\"20\" y=\"20\" width=\"160\" height=\"160\" style=\"fill:white;opacity:.5;stroke-width:2;stroke:currentColor;\"/>\n",
              "<rect x=\"40\" y=\"40\" width=\"160\" height=\"160\" style=\"fill:white;opacity:.5;stroke-width:2;stroke:currentColor;\"/>\n",
              "<text x=\"120.0\" y=\"120.0\" style=\"font-size: 26pt; font-family: verdana; font-style: bold; fill: black;\" text-anchor=\"middle\" alignment-baseline=\"middle\">\n",
              "3D\n",
              "</text>\n",
              "</svg>\n",
              "</div>\n",
              "<div style=\"flex=grow:1;\">\n",
              "Variable([-1, -0.79216, -0.58822, -0.38891, -0.19395, 0.00055617, 0.19486, 0.39035, 0.5888, 0.79242, 1], underflow=False, overflow=False, name='costheta_Jpsi_reco', label='costheta_Jpsi_reco')<br/>\n",
              "Variable([-1, -0.46394, -0.12545, 0.13095, 0.33459, 0.50304, 0.64358, 0.76183, 0.861, 0.94157, 1], underflow=False, overflow=False, name='costheta_W_reco', label='costheta_W_reco')<br/>\n",
              "Variable([-3.14159, -2.42962, -1.84089, -1.30021, -0.71122, 0.0043844, 0.71329, 1.29936, 1.83985, 2.42724, 3.14159], underflow=False, overflow=False, name='chi_reco', label='chi_reco')<br/>\n",
              "<hr style=\"margin-top:.2em; margin-bottom:.2em;\"/>\n",
              "Weight() Σ=WeightedSum(value=99897, variance=99897)\n",
              "\n",
              "</div>\n",
              "</div>\n",
              "</html>"
            ],
            "text/plain": [
              "<zfit._data.binneddatav1.BinnedData at 0x7fa003045250>"
            ]
          },
          "metadata": {},
          "execution_count": 12
        }
      ]
    },
    {
      "cell_type": "code",
      "source": [
        "#Create zfit PDFs from each of our templates\n",
        "hist_pdf = {}\n",
        "for h in all_h_norm:\n",
        "  hist_pdf[h] = zfit.pdf.HistogramPDF(all_h_norm[h])\n",
        "hist_pdf"
      ],
      "metadata": {
        "colab": {
          "base_uri": "https://localhost:8080/"
        },
        "id": "EAm8yfZqYuo7",
        "outputId": "257cd8c2-5ceb-4e5a-e916-f21aa65e3e9d"
      },
      "execution_count": 14,
      "outputs": [
        {
          "output_type": "execute_result",
          "data": {
            "text/plain": [
              "{0: <zfit.models.histogram.HistogramPDF at 0x7f9fc4ea26d0>,\n",
              " 1: <zfit.models.histogram.HistogramPDF at 0x7f9fbe6dbfd0>,\n",
              " 2: <zfit.models.histogram.HistogramPDF at 0x7f9fc4f20e90>,\n",
              " 3: <zfit.models.histogram.HistogramPDF at 0x7fa002820c90>,\n",
              " 4: <zfit.models.histogram.HistogramPDF at 0x7fa0028211d0>,\n",
              " 5: <zfit.models.histogram.HistogramPDF at 0x7f9fc1e4d1d0>}"
            ]
          },
          "metadata": {},
          "execution_count": 14
        }
      ]
    },
    {
      "cell_type": "code",
      "source": [
        "#Helicity amplitude parameters\n",
        "#Random number to use in the param names, so we can run the fit lots of times\n",
        "rand = random.randint(0,100000)\n",
        "H0_amp = zfit.Parameter(f\"H0_amp_{rand}\", 0.7, 0., 1.)\n",
        "Hm_amp = zfit.Parameter(f\"Hm_amp_{rand}\", 0.6, 0., 1.)\n",
        "#One helicity amplitude is fixed by the fact that their squares must sum to 1\n",
        "def Hp_amp_func(H0_amp, Hm_amp):\n",
        "  return tf.sqrt(1. - H0_amp**2 - Hm_amp**2)\n",
        "Hp_amp = zfit.ComposedParameter(f\"Hp_amp_{rand}\", Hp_amp_func, params=[H0_amp, Hm_amp])\n",
        "\n",
        "#Phases - H0 phase is fixed to zero by convention\n",
        "H0_phi =  zfit.Parameter(f\"H0_phi_{rand}\", 0., floating=False)\n",
        "Hp_phi =  zfit.Parameter(f\"Hp_phi_{rand}\", 1.5, -2*np.pi, 2*np.pi)\n",
        "Hm_phi =  zfit.Parameter(f\"Hm_phi_{rand}\", -1.5,-2*np.pi, 2*np.pi)"
      ],
      "metadata": {
        "id": "WDZnsUrrbO9m"
      },
      "execution_count": 17,
      "outputs": []
    },
    {
      "cell_type": "markdown",
      "source": [
        "Where to go from here?"
      ],
      "metadata": {
        "id": "OTX4QwYHd6Jh"
      }
    }
  ]
}