{
  "cells": [
    {
      "cell_type": "markdown",
      "metadata": {
        "id": "view-in-github",
        "colab_type": "text"
      },
      "source": [
        "<a href=\"https://colab.research.google.com/github/donalrinho/Bc2JpsiMuNu/blob/main/Bc2JpsiMuNu_RapidSim_LHCb_binned_fit_new.ipynb\" target=\"_parent\"><img src=\"https://colab.research.google.com/assets/colab-badge.svg\" alt=\"Open In Colab\"/></a>"
      ]
    },
    {
      "cell_type": "code",
      "execution_count": 1,
      "metadata": {
        "colab": {
          "base_uri": "https://localhost:8080/"
        },
        "id": "bFIaN_bQTnRv",
        "outputId": "789685f2-e6e7-4f8b-8574-a41dc0ee12dc"
      },
      "outputs": [
        {
          "output_type": "stream",
          "name": "stdout",
          "text": [
            "\u001b[K     |████████████████████████████████| 301 kB 9.2 MB/s \n",
            "\u001b[K     |████████████████████████████████| 458.3 MB 12 kB/s \n",
            "\u001b[K     |████████████████████████████████| 5.6 MB 22.8 MB/s \n",
            "\u001b[K     |████████████████████████████████| 1.3 MB 37.3 MB/s \n",
            "\u001b[K     |████████████████████████████████| 132 kB 55.5 MB/s \n",
            "\u001b[K     |████████████████████████████████| 462 kB 60.0 MB/s \n",
            "\u001b[?25h  Building wheel for clang (setup.py) ... \u001b[?25l\u001b[?25hdone\n",
            "  Building wheel for wrapt (setup.py) ... \u001b[?25l\u001b[?25hdone\n",
            "\u001b[K     |████████████████████████████████| 1.4 MB 12.6 MB/s \n",
            "\u001b[K     |████████████████████████████████| 5.8 MB 14.1 MB/s \n",
            "\u001b[K     |████████████████████████████████| 11.2 MB 44.2 MB/s \n",
            "\u001b[K     |████████████████████████████████| 895 kB 55.9 MB/s \n",
            "\u001b[31mERROR: pip's dependency resolver does not currently take into account all the packages that are installed. This behaviour is the source of the following dependency conflicts.\n",
            "albumentations 0.1.12 requires imgaug<0.2.7,>=0.2.5, but you have imgaug 0.2.9 which is incompatible.\u001b[0m\n",
            "\u001b[K     |████████████████████████████████| 396 kB 8.3 MB/s \n",
            "\u001b[K     |████████████████████████████████| 420 kB 77.5 MB/s \n",
            "\u001b[K     |████████████████████████████████| 1.4 MB 61.3 MB/s \n",
            "\u001b[K     |████████████████████████████████| 339 kB 57.6 MB/s \n",
            "\u001b[K     |████████████████████████████████| 99 kB 10.1 MB/s \n",
            "\u001b[K     |████████████████████████████████| 5.4 MB 17.2 MB/s \n",
            "\u001b[K     |████████████████████████████████| 4.9 MB 42.6 MB/s \n",
            "\u001b[K     |████████████████████████████████| 10.9 MB 45.6 MB/s \n",
            "\u001b[K     |████████████████████████████████| 1.1 MB 62.8 MB/s \n",
            "\u001b[K     |████████████████████████████████| 189 kB 72.2 MB/s \n",
            "\u001b[?25h  Building wheel for colored (setup.py) ... \u001b[?25l\u001b[?25hdone\n",
            "  Building wheel for algopy (setup.py) ... \u001b[?25l\u001b[?25hdone\n",
            "\u001b[K     |████████████████████████████████| 98 kB 4.2 MB/s \n",
            "\u001b[?25h"
          ]
        }
      ],
      "source": [
        "!pip install -q uproot\n",
        "!pip install -q tensorflow==2.6.2 #specific versions for compatability with zfit\n",
        "!pip install -q hist\n",
        "!pip install -q mplhep\n",
        "#!pip install -q git+https://github.com/zfit/zfit #development version of zfit needed to get binned fit tools\n",
        "!pip install -q zfit --pre\n",
        "!pip install -q uncertainties"
      ]
    },
    {
      "cell_type": "code",
      "execution_count": 62,
      "metadata": {
        "id": "NH6Qj7zOT7S_"
      },
      "outputs": [],
      "source": [
        "import uproot\n",
        "import numpy as np\n",
        "import tensorflow as tf\n",
        "import zfit\n",
        "import hist\n",
        "from hist import Hist\n",
        "import mplhep\n",
        "import pandas as pd\n",
        "import pickle\n",
        "import json\n",
        "import random\n",
        "from typing import Optional\n",
        "from zfit.core.space import supports\n",
        "import zfit.z.numpy as znp"
      ]
    },
    {
      "cell_type": "code",
      "execution_count": 2,
      "metadata": {
        "colab": {
          "base_uri": "https://localhost:8080/"
        },
        "id": "OLxdqDy5TedV",
        "outputId": "32dc6dca-3dec-488f-a6b6-f2ce88a9e0ae"
      },
      "outputs": [
        {
          "output_type": "execute_result",
          "data": {
            "text/plain": [
              "{0: Hist(\n",
              "   Variable([-1, -0.79216, -0.58822, -0.38891, -0.19395, 0.00055617, 0.19486, 0.39035, 0.5888, 0.79242, 1], name='costheta_Jpsi_reco', label='costheta_Jpsi_reco'),\n",
              "   Variable([-1, -0.46394, -0.12545, 0.13095, 0.33459, 0.50304, 0.64358, 0.76183, 0.861, 0.94157, 1], name='costheta_W_reco', label='costheta_W_reco'),\n",
              "   Variable([-3.14159, -2.42962, -1.84089, -1.30021, -0.71122, 0.0043844, 0.71329, 1.29936, 1.83985, 2.42724, 3.14159], name='chi_reco', label='chi_reco'),\n",
              "   storage=Weight()) # Sum: WeightedSum(value=1, variance=1.42964e-06) (WeightedSum(value=1.0012, variance=1.43138e-06) with flow),\n",
              " 1: Hist(\n",
              "   Variable([-1, -0.79216, -0.58822, -0.38891, -0.19395, 0.00055617, 0.19486, 0.39035, 0.5888, 0.79242, 1], name='costheta_Jpsi_reco', label='costheta_Jpsi_reco'),\n",
              "   Variable([-1, -0.46394, -0.12545, 0.13095, 0.33459, 0.50304, 0.64358, 0.76183, 0.861, 0.94157, 1], name='costheta_W_reco', label='costheta_W_reco'),\n",
              "   Variable([-3.14159, -2.42962, -1.84089, -1.30021, -0.71122, 0.0043844, 0.71329, 1.29936, 1.83985, 2.42724, 3.14159], name='chi_reco', label='chi_reco'),\n",
              "   storage=Weight()) # Sum: WeightedSum(value=4.14867, variance=6.29795e-05) (WeightedSum(value=4.15916, variance=6.3183e-05) with flow),\n",
              " 2: Hist(\n",
              "   Variable([-1, -0.79216, -0.58822, -0.38891, -0.19395, 0.00055617, 0.19486, 0.39035, 0.5888, 0.79242, 1], name='costheta_Jpsi_reco', label='costheta_Jpsi_reco'),\n",
              "   Variable([-1, -0.46394, -0.12545, 0.13095, 0.33459, 0.50304, 0.64358, 0.76183, 0.861, 0.94157, 1], name='costheta_W_reco', label='costheta_W_reco'),\n",
              "   Variable([-3.14159, -2.42962, -1.84089, -1.30021, -0.71122, 0.0043844, 0.71329, 1.29936, 1.83985, 2.42724, 3.14159], name='chi_reco', label='chi_reco'),\n",
              "   storage=Weight()) # Sum: WeightedSum(value=3.98394, variance=2.73988e-05) (WeightedSum(value=3.98606, variance=2.74106e-05) with flow),\n",
              " 3: Hist(\n",
              "   Variable([-1, -0.79216, -0.58822, -0.38891, -0.19395, 0.00055617, 0.19486, 0.39035, 0.5888, 0.79242, 1], name='costheta_Jpsi_reco', label='costheta_Jpsi_reco'),\n",
              "   Variable([-1, -0.46394, -0.12545, 0.13095, 0.33459, 0.50304, 0.64358, 0.76183, 0.861, 0.94157, 1], name='costheta_W_reco', label='costheta_W_reco'),\n",
              "   Variable([-3.14159, -2.42962, -1.84089, -1.30021, -0.71122, 0.0043844, 0.71329, 1.29936, 1.83985, 2.42724, 3.14159], name='chi_reco', label='chi_reco'),\n",
              "   storage=Weight()) # Sum: WeightedSum(value=0.00542589, variance=1.69023e-06) (WeightedSum(value=0.00554438, variance=1.69403e-06) with flow),\n",
              " 4: Hist(\n",
              "   Variable([-1, -0.79216, -0.58822, -0.38891, -0.19395, 0.00055617, 0.19486, 0.39035, 0.5888, 0.79242, 1], name='costheta_Jpsi_reco', label='costheta_Jpsi_reco'),\n",
              "   Variable([-1, -0.46394, -0.12545, 0.13095, 0.33459, 0.50304, 0.64358, 0.76183, 0.861, 0.94157, 1], name='costheta_W_reco', label='costheta_W_reco'),\n",
              "   Variable([-3.14159, -2.42962, -1.84089, -1.30021, -0.71122, 0.0043844, 0.71329, 1.29936, 1.83985, 2.42724, 3.14159], name='chi_reco', label='chi_reco'),\n",
              "   storage=Weight()) # Sum: WeightedSum(value=0.00779255, variance=1.12757e-06) (WeightedSum(value=0.0078214, variance=1.1284e-06) with flow),\n",
              " 5: Hist(\n",
              "   Variable([-1, -0.79216, -0.58822, -0.38891, -0.19395, 0.00055617, 0.19486, 0.39035, 0.5888, 0.79242, 1], name='costheta_Jpsi_reco', label='costheta_Jpsi_reco'),\n",
              "   Variable([-1, -0.46394, -0.12545, 0.13095, 0.33459, 0.50304, 0.64358, 0.76183, 0.861, 0.94157, 1], name='costheta_W_reco', label='costheta_W_reco'),\n",
              "   Variable([-3.14159, -2.42962, -1.84089, -1.30021, -0.71122, 0.0043844, 0.71329, 1.29936, 1.83985, 2.42724, 3.14159], name='chi_reco', label='chi_reco'),\n",
              "   storage=Weight()) # Sum: WeightedSum(value=-0.00847952, variance=7.19112e-07) (WeightedSum(value=-0.00841377, variance=7.19988e-07) with flow)}"
            ]
          },
          "metadata": {},
          "execution_count": 2
        }
      ],
      "source": [
        "#Load our histogram templates from previous notebook\n",
        "all_h_norm = {}\n",
        "hist_path = \"/content/drive/MyDrive/Bc2JpsiMuNu_Analysis/pickle\"\n",
        "for i in range(0,6):\n",
        "  with open(f\"{hist_path}/hist_{i}.pkl\", \"rb\") as f:\n",
        "    all_h_norm[i] = pickle.load(f)\n",
        "all_h_norm"
      ]
    },
    {
      "cell_type": "code",
      "execution_count": 3,
      "metadata": {
        "colab": {
          "base_uri": "https://localhost:8080/"
        },
        "id": "UgRE659WU719",
        "outputId": "47b493fa-9e15-4206-e07c-a96eb18177ff"
      },
      "outputs": [
        {
          "output_type": "stream",
          "name": "stdout",
          "text": [
            "Loading ROOT file /content/drive/MyDrive/Bc2JpsiMuNu_ROOT_files/Bc2JpsiMuNu_RapidSim_LHCb_Vars_Weights.root\n"
          ]
        },
        {
          "output_type": "execute_result",
          "data": {
            "text/plain": [
              "<TTree 'DecayTree' (172 branches) at 0x7f42ea6ca810>"
            ]
          },
          "metadata": {},
          "execution_count": 3
        }
      ],
      "source": [
        "#Load our ROOT file containing the MC we want to fit\n",
        "drive_dir = \"/content/drive/MyDrive/Bc2JpsiMuNu_ROOT_files\"\n",
        "file_path = f\"{drive_dir}/Bc2JpsiMuNu_RapidSim_LHCb_Vars_Weights\"\n",
        "print(f\"Loading ROOT file {file_path}.root\")\n",
        "tree_name = \"DecayTree\"\n",
        "events = uproot.open(f\"{file_path}.root:{tree_name}\")\n",
        "events"
      ]
    },
    {
      "cell_type": "code",
      "execution_count": 4,
      "metadata": {
        "id": "V8sDq4CFWMZ2",
        "colab": {
          "base_uri": "https://localhost:8080/"
        },
        "outputId": "57d11c28-b01e-4a4a-fbd4-b575177d7f4b"
      },
      "outputs": [
        {
          "output_type": "stream",
          "name": "stderr",
          "text": [
            "/usr/local/lib/python3.7/dist-packages/uproot/interpretation/library.py:806: PerformanceWarning: DataFrame is highly fragmented.  This is usually the result of calling `frame.insert` many times, which has poor performance.  Consider joining all columns at once using pd.concat(axis=1) instead.  To get a de-fragmented frame, use `newframe = frame.copy()`\n",
            "  out[name] = series[name]\n"
          ]
        }
      ],
      "source": [
        "#Make pandas DataFrame\n",
        "df = events.arrays(library=\"pd\")"
      ]
    },
    {
      "cell_type": "code",
      "execution_count": 5,
      "metadata": {
        "colab": {
          "base_uri": "https://localhost:8080/"
        },
        "id": "cPD_mu6iWODp",
        "outputId": "35f1a881-dc5f-43ae-f0c4-50dc2c925b79"
      },
      "outputs": [
        {
          "output_type": "execute_result",
          "data": {
            "text/plain": [
              "100000"
            ]
          },
          "metadata": {},
          "execution_count": 5
        }
      ],
      "source": [
        "#Downsample to DataFrame to 100k events, which will act as our fit dataset\n",
        "df_fit = df.sample(n=100000, random_state=42)\n",
        "len(df_fit)"
      ]
    },
    {
      "cell_type": "code",
      "execution_count": 6,
      "metadata": {
        "id": "PsKnkUwQWmX2"
      },
      "outputs": [],
      "source": [
        "#Define fit variables\n",
        "vars = {}\n",
        "vars[\"x_var\"] = {\"name\": \"costheta_Jpsi_reco\", \"min\": -1., \"max\": 1., \"bins\": 10, \"latex\": \"$\\\\cos(\\\\theta_{J/\\\\psi})$\"}\n",
        "vars[\"y_var\"] = {\"name\": \"costheta_W_reco\", \"min\": -1., \"max\": 1., \"bins\": 10, \"latex\": \"$\\\\cos(\\\\theta_{W})$\"}\n",
        "vars[\"z_var\"] = {\"name\": \"chi_reco\", \"min\": -np.pi, \"max\": np.pi, \"bins\": 10, \"latex\": \"$\\\\chi$ [rad]\"}"
      ]
    },
    {
      "cell_type": "code",
      "execution_count": 7,
      "metadata": {
        "colab": {
          "base_uri": "https://localhost:8080/"
        },
        "id": "rXqp1fSCXFUK",
        "outputId": "6dc7e122-2d5b-4e2e-f090-c65834818787"
      },
      "outputs": [
        {
          "output_type": "execute_result",
          "data": {
            "text/plain": [
              "{'x_var': [-1.0,\n",
              "  -0.79216,\n",
              "  -0.58822,\n",
              "  -0.38891,\n",
              "  -0.19395,\n",
              "  0.00055617,\n",
              "  0.19486,\n",
              "  0.39035,\n",
              "  0.5888,\n",
              "  0.79242,\n",
              "  1.0],\n",
              " 'y_var': [-1.0,\n",
              "  -0.46394,\n",
              "  -0.12545,\n",
              "  0.13095,\n",
              "  0.33459,\n",
              "  0.50304,\n",
              "  0.64358,\n",
              "  0.76183,\n",
              "  0.861,\n",
              "  0.94157,\n",
              "  1.0],\n",
              " 'z_var': [-3.141592653589793,\n",
              "  -2.42962,\n",
              "  -1.84089,\n",
              "  -1.30021,\n",
              "  -0.71122,\n",
              "  0.0043844,\n",
              "  0.71329,\n",
              "  1.29936,\n",
              "  1.83985,\n",
              "  2.42724,\n",
              "  3.141592653589793]}"
            ]
          },
          "metadata": {},
          "execution_count": 7
        }
      ],
      "source": [
        "#Get the binning schemes we used to make our templates (we saved them into a JSON file)\n",
        "json_path = \"/content/drive/MyDrive/Bc2JpsiMuNu_Analysis/json\"\n",
        "with open(f\"{json_path}/binnings.json\") as json_file:\n",
        "  binnings = json.load(json_file)\n",
        "binnings"
      ]
    },
    {
      "cell_type": "code",
      "execution_count": 23,
      "metadata": {
        "colab": {
          "base_uri": "https://localhost:8080/"
        },
        "id": "ec5b-1M1YaBa",
        "outputId": "9886c764-ad97-4216-b129-bf8315c93165"
      },
      "outputs": [
        {
          "output_type": "stream",
          "name": "stderr",
          "text": [
            "/usr/local/lib/python3.7/dist-packages/tensorflow/python/ops/script_ops.py:626: VisibleDeprecationWarning: Creating an ndarray from ragged nested sequences (which is a list-or-tuple of lists-or-tuples-or ndarrays with different lengths or shapes) is deprecated. If you meant to do this, you must specify 'dtype=object' when creating the ndarray\n",
            "  result = func(*[np.array(x) for x in inp])\n"
          ]
        }
      ],
      "source": [
        "#Create a zfit binned dataset of the data, using the same binning as our templates (above)\n",
        "binning_x = zfit.binned.VariableBinning(binnings[\"x_var\"], name=vars[\"x_var\"][\"name\"])\n",
        "obs_x = zfit.Space(vars[\"x_var\"][\"name\"], binning=binning_x)\n",
        "\n",
        "binning_y = zfit.binned.VariableBinning(binnings[\"y_var\"], name=vars[\"y_var\"][\"name\"])\n",
        "obs_y = zfit.Space(vars[\"y_var\"][\"name\"], binning=binning_y)\n",
        "\n",
        "binning_z = zfit.binned.VariableBinning(binnings[\"z_var\"], name=vars[\"z_var\"][\"name\"])\n",
        "obs_z = zfit.Space(vars[\"z_var\"][\"name\"], binning=binning_z)\n",
        "\n",
        "obs = obs_x * obs_y * obs_z\n",
        "\n",
        "df_fit = df_fit[[\"costheta_Jpsi_reco\",\"costheta_W_reco\",\"chi_reco\"]]\n",
        "\n",
        "unbinned_data = zfit.Data.from_pandas(df_fit, obs=obs)\n",
        "\n",
        "binned_data = unbinned_data.to_binned(obs)"
      ]
    },
    {
      "cell_type": "code",
      "source": [
        "#Make a hist of the dataset we will fit, filling it with our MC\n",
        "#data_h = (\n",
        "#    Hist.new\n",
        "#    .Variable(binnings[\"x_var\"], name=vars[\"x_var\"][\"name\"])\n",
        "#    .Variable(binnings[\"y_var\"], name=vars[\"y_var\"][\"name\"])\n",
        "#    .Variable(binnings[\"z_var\"], name=vars[\"z_var\"][\"name\"])\n",
        "#    .Weight()\n",
        "#    )\n",
        "#Fill the histogram with the sampled MC DataFrame of 100k events\n",
        "#data_h.fill(df_fit[vars[\"x_var\"][\"name\"]], \n",
        "#            df_fit[vars[\"y_var\"][\"name\"]], \n",
        "#            df_fit[vars[\"z_var\"][\"name\"]])\n",
        "\n",
        "#binned_data = zfit.data.BinnedData.from_hist(data_h)\n",
        "#binned_data"
      ],
      "metadata": {
        "colab": {
          "base_uri": "https://localhost:8080/",
          "height": 230
        },
        "id": "q70iJj9DQd2k",
        "outputId": "01ac2850-a9ae-4996-dc1a-4c6150a4c49f"
      },
      "execution_count": 12,
      "outputs": [
        {
          "output_type": "execute_result",
          "data": {
            "text/html": [
              "<html>\n",
              "<div style=\"display:flex; align-items:center;\">\n",
              "<div style=\"width:290px;\">\n",
              "<svg xmlns=\"http://www.w3.org/2000/svg\" viewBox=\"-10 -10 220 220\">\n",
              "<rect x=\"0\" y=\"0\" width=\"160\" height=\"160\" style=\"fill:white;opacity:.5;stroke-width:2;stroke:currentColor;\"/>\n",
              "<rect x=\"20\" y=\"20\" width=\"160\" height=\"160\" style=\"fill:white;opacity:.5;stroke-width:2;stroke:currentColor;\"/>\n",
              "<rect x=\"40\" y=\"40\" width=\"160\" height=\"160\" style=\"fill:white;opacity:.5;stroke-width:2;stroke:currentColor;\"/>\n",
              "<text x=\"120.0\" y=\"120.0\" style=\"font-size: 26pt; font-family: verdana; font-style: bold; fill: black;\" text-anchor=\"middle\" alignment-baseline=\"middle\">\n",
              "3D\n",
              "</text>\n",
              "</svg>\n",
              "</div>\n",
              "<div style=\"flex=grow:1;\">\n",
              "Variable([-1, -0.79216, -0.58822, -0.38891, -0.19395, 0.00055617, 0.19486, 0.39035, 0.5888, 0.79242, 1], underflow=False, overflow=False, name='costheta_Jpsi_reco', label='costheta_Jpsi_reco')<br/>\n",
              "Variable([-1, -0.46394, -0.12545, 0.13095, 0.33459, 0.50304, 0.64358, 0.76183, 0.861, 0.94157, 1], underflow=False, overflow=False, name='costheta_W_reco', label='costheta_W_reco')<br/>\n",
              "Variable([-3.14159, -2.42962, -1.84089, -1.30021, -0.71122, 0.0043844, 0.71329, 1.29936, 1.83985, 2.42724, 3.14159], underflow=False, overflow=False, name='chi_reco', label='chi_reco')<br/>\n",
              "<hr style=\"margin-top:.2em; margin-bottom:.2em;\"/>\n",
              "Weight() Σ=WeightedSum(value=99897, variance=99897)\n",
              "\n",
              "</div>\n",
              "</div>\n",
              "</html>"
            ],
            "text/plain": [
              "<zfit._data.binneddatav1.BinnedData at 0x7f42abcd2210>"
            ]
          },
          "metadata": {},
          "execution_count": 12
        }
      ]
    },
    {
      "cell_type": "code",
      "execution_count": 45,
      "metadata": {
        "colab": {
          "base_uri": "https://localhost:8080/"
        },
        "id": "EAm8yfZqYuo7",
        "outputId": "071bbb3c-d6ca-466f-9558-ac0e6d1203b7"
      },
      "outputs": [
        {
          "output_type": "execute_result",
          "data": {
            "text/plain": [
              "{0: <zfit.models.histogram.HistogramPDF at 0x7f42a75bbd50>,\n",
              " 1: <zfit.models.histogram.HistogramPDF at 0x7f42a74e0910>,\n",
              " 2: <zfit.models.histogram.HistogramPDF at 0x7f42a74f7990>,\n",
              " 3: <zfit.models.histogram.HistogramPDF at 0x7f42a7683b90>,\n",
              " 4: <zfit.models.histogram.HistogramPDF at 0x7f42a7572110>,\n",
              " 5: <zfit.models.histogram.HistogramPDF at 0x7f42a7572d90>}"
            ]
          },
          "metadata": {},
          "execution_count": 45
        }
      ],
      "source": [
        "#Create zfit PDFs from each of our templates\n",
        "hist_pdfs = {}\n",
        "for h in all_h_norm:\n",
        "  hist_pdfs[h] = zfit.pdf.HistogramPDF(all_h_norm[h])\n",
        "hist_pdfs"
      ]
    },
    {
      "cell_type": "code",
      "execution_count": 27,
      "metadata": {
        "id": "WDZnsUrrbO9m"
      },
      "outputs": [],
      "source": [
        "#Helicity amplitude parameters\n",
        "#Random number to use in the param names, so we can run the fit lots of times\n",
        "rand = random.randint(0,100000)\n",
        "H0_amp = zfit.Parameter(f\"H0_amp_{rand}\", 0.7, 0., 1.)\n",
        "Hm_amp = zfit.Parameter(f\"Hm_amp_{rand}\", 0.6, 0., 1.)\n",
        "#One helicity amplitude is fixed by the fact that their squares must sum to 1\n",
        "def Hp_amp_func(H0_amp, Hm_amp):\n",
        "  return tf.sqrt(1. - H0_amp**2 - Hm_amp**2)\n",
        "Hp_amp = zfit.ComposedParameter(f\"Hp_amp_{rand}\", Hp_amp_func, params=[H0_amp, Hm_amp])\n",
        "\n",
        "#Phases - H0 phase is fixed to zero by convention\n",
        "H0_phi =  zfit.Parameter(f\"H0_phi_{rand}\", 0., floating=False)\n",
        "Hp_phi =  zfit.Parameter(f\"Hp_phi_{rand}\", 1.5, -2*np.pi, 2*np.pi)\n",
        "Hm_phi =  zfit.Parameter(f\"Hm_phi_{rand}\", -1.5,-2*np.pi, 2*np.pi)\n",
        "\n",
        "fit_params = {\"H0_amp\": H0_amp,\n",
        "              \"Hm_amp\": Hm_amp,\n",
        "              \"Hp_amp\": Hp_amp,\n",
        "              \"H0_phi\": H0_phi,\n",
        "              \"Hp_phi\": Hp_phi,\n",
        "              \"Hm_phi\": Hm_phi\n",
        "}"
      ]
    },
    {
      "cell_type": "code",
      "source": [
        "class CustomPDF(zfit.core.binnedpdf.BaseBinnedPDFV1):\n",
        "\n",
        "    def __init__(\n",
        "            self,\n",
        "            templates,\n",
        "            pdf_params,\n",
        "            name: str = \"CustomPDF\"\n",
        "    ) -> None:\n",
        "        \"\"\"Total binned PDF of angular decay rate.\n",
        "        Args:\n",
        "            templates: Dictionary of histogram templates.\n",
        "            params: Dictionary of fit parameters.\n",
        "            name: |@doc:model.init.name| Human-readable name\n",
        "               or label of\n",
        "               the PDF for better identification.\n",
        "               Has no programmatical functional purpose as identification. |@docend:model.init.name|\n",
        "        \"\"\"\n",
        "        params = {\"H0_amp\": pdf_params[\"H0_amp\"],\n",
        "                  \"Hm_amp\": pdf_params[\"Hm_amp\"],\n",
        "                  \"Hp_amp\": pdf_params[\"Hp_amp\"],\n",
        "                  \"H0_phi\": pdf_params[\"H0_phi\"],\n",
        "                  \"Hm_phi\": pdf_params[\"Hm_phi\"],\n",
        "                  \"Hp_phi\": pdf_params[\"Hp_phi\"]\n",
        "        }\n",
        "        \n",
        "        super().__init__(obs=obs, extended=None, norm=None, params=params, name=name)\n",
        "        self._templates = templates\n",
        "        self._params = params\n",
        "\n",
        "    @supports(norm=False)\n",
        "    def _rel_counts(self, x, norm):\n",
        "      \n",
        "      #Complex numbers defined\n",
        "      h_0 = tf.complex(self._params[\"H0_amp\"]*tf.cos(self._params[\"H0_phi\"]),self._params[\"H0_amp\"]*tf.sin(self._params[\"H0_phi\"]))\n",
        "      h_p = tf.complex(self._params[\"Hp_amp\"]*tf.cos(self._params[\"Hp_phi\"]),self._params[\"Hp_amp\"]*tf.sin(self._params[\"Hp_phi\"]))\n",
        "      h_m = tf.complex(self._params[\"Hm_amp\"]*tf.cos(self._params[\"Hm_phi\"]),self._params[\"Hm_amp\"]*tf.sin(self._params[\"Hm_phi\"]))\n",
        "      \n",
        "      h_0st = tf.math.conj(h_0)\n",
        "      h_pst = tf.math.conj(h_p)\n",
        "      h_mst = tf.math.conj(h_m)\n",
        "      \n",
        "      HpHmst = h_p*h_mst\n",
        "      HpH0st = h_p*h_0st\n",
        "      HmH0st = h_m*h_0st\n",
        "      \n",
        "      #Total PDF given by a sum over each template multiplied by its corresponding bit of helicity amplitude\n",
        "      pdf = self._params[\"H0_amp\"]**2 * 2 * self._templates[0].counts(x, norm=norm)\n",
        "      pdf += self._params[\"Hp_amp\"]**2 * 0.5 * self._templates[1].counts(x, norm=norm)\n",
        "      pdf += self._params[\"Hm_amp\"]**2 * 0.5 * self._templates[2].counts(x, norm=norm)\n",
        "      pdf += tf.math.real(HpH0st) * self._templates[3].counts(x, norm=norm)\n",
        "      pdf += -tf.math.real(HmH0st) * self._templates[4].counts(x, norm=norm)\n",
        "      pdf += tf.math.real(HpHmst) * self._templates[5].counts(x, norm=norm)\n",
        "\n",
        "      #Normalise the PDF to it integrates to 1\n",
        "      pdf = pdf / znp.sum(pdf)\n",
        "\n",
        "      return pdf"
      ],
      "metadata": {
        "id": "pvdNUAHaRvpj"
      },
      "execution_count": 63,
      "outputs": []
    },
    {
      "cell_type": "code",
      "source": [
        "tot_pdf = CustomPDF(templates=hist_pdfs, pdf_params=fit_params)"
      ],
      "metadata": {
        "id": "a9gw5kn9YgTt"
      },
      "execution_count": 64,
      "outputs": []
    },
    {
      "cell_type": "code",
      "execution_count": 65,
      "metadata": {
        "colab": {
          "base_uri": "https://localhost:8080/"
        },
        "id": "xbUA_W398jWf",
        "outputId": "3a3166f6-92a0-4b18-bab4-2867fd1d1f08"
      },
      "outputs": [
        {
          "output_type": "stream",
          "name": "stdout",
          "text": [
            "Function minimum: -358286.9614458389\n",
            "Converged: True\n",
            "Full minimizer information: {'n_eval': 106, 'minuit': <FMin algorithm='Migrad' edm=3.452846875200306e-05 edm_goal=0.001 errordef=0.5 fval=-358286.9614458389 has_accurate_covar=True has_covariance=True has_made_posdef_covar=False has_parameters_at_limit=False has_posdef_covar=True has_reached_call_limit=False has_valid_parameters=True hesse_failed=False is_above_max_edm=False is_valid=True nfcn=129 ngrad=0 reduced_chi2=nan>\n",
            "(Param(number=0, name='H0_amp_91112', value=0.6842914444206133, error=0.0035865535516281244, merror=None, is_const=False, is_fixed=False, lower_limit=0.0, upper_limit=1.0), Param(number=1, name='Hm_amp_91112', value=0.6426019482492412, error=0.00284249010779164, merror=None, is_const=False, is_fixed=False, lower_limit=0.0, upper_limit=1.0), Param(number=2, name='Hm_phi_91112', value=-1.5180823380226156, error=0.03185201438411367, merror=None, is_const=False, is_fixed=False, lower_limit=-6.2831854820251465, upper_limit=6.2831854820251465), Param(number=3, name='Hp_phi_91112', value=1.53844092929018, error=0.05302370944143764, merror=None, is_const=False, is_fixed=False, lower_limit=-6.2831854820251465, upper_limit=6.2831854820251465))\n",
            "[[ 1.28636217e-05 -8.69857966e-06 -2.81152290e-06  4.81768749e-06]\n",
            " [-8.69857966e-06  8.07984476e-06  1.58177422e-06 -3.18108154e-06]\n",
            " [-2.81152290e-06  1.58177422e-06  1.01456005e-03 -1.17468531e-03]\n",
            " [ 4.81768749e-06 -3.18108154e-06 -1.17468531e-03  2.81158476e-03]], 'original': <FMin algorithm='Migrad' edm=3.452846875200306e-05 edm_goal=0.001 errordef=0.5 fval=-358286.9614458389 has_accurate_covar=True has_covariance=True has_made_posdef_covar=False has_parameters_at_limit=False has_posdef_covar=True has_reached_call_limit=False has_valid_parameters=True hesse_failed=False is_above_max_edm=False is_valid=True nfcn=106 ngrad=0 reduced_chi2=nan>, 'inv_hessian': array([[ 1.33457258e-05, -9.08486942e-06, -2.99080836e-06,\n",
            "         5.04484781e-06],\n",
            "       [-9.08486942e-06,  8.38213506e-06,  1.61698707e-06,\n",
            "        -3.17873126e-06],\n",
            "       [-2.99080836e-06,  1.61698707e-06,  1.01569842e-03,\n",
            "        -1.17666743e-03],\n",
            "       [ 5.04484781e-06, -3.17873126e-06, -1.17666743e-03,\n",
            "         2.81471824e-03]])}\n",
            "name            value    minuit_hesse    at limit\n",
            "------------  -------  --------------  ----------\n",
            "H0_amp_91112   0.6843     +/-  0.0036       False\n",
            "Hm_amp_91112   0.6426     +/-  0.0028       False\n",
            "Hm_phi_91112   -1.518     +/-   0.032       False\n",
            "Hp_phi_91112    1.538     +/-   0.053       False\n"
          ]
        }
      ],
      "source": [
        "#Run the fit \n",
        "\n",
        "# Stage 1: create a binned likelihood with the given PDF and dataset\n",
        "nll = zfit.loss.BinnedNLL(tot_pdf, binned_data)\n",
        "\n",
        "# Stage 2: instantiate a minimiser (in this case a basic minuit)\n",
        "minimizer = zfit.minimize.Minuit()\n",
        "\n",
        "#Stage 3: minimise the given negative likelihood\n",
        "result = minimizer.minimize(nll)\n",
        "\n",
        "#Get the parameter uncertainties using Hesse\n",
        "param_errors = result.hesse(method=\"minuit_hesse\")\n",
        "\n",
        "print(\"Function minimum:\", result.fmin)\n",
        "print(\"Converged:\", result.converged)\n",
        "print(\"Full minimizer information:\", result.info)\n",
        "\n",
        "params = result.params\n",
        "print(params)"
      ]
    },
    {
      "cell_type": "code",
      "source": [
        ""
      ],
      "metadata": {
        "id": "zKgPJJSlZGrM"
      },
      "execution_count": null,
      "outputs": []
    }
  ],
  "metadata": {
    "colab": {
      "name": "Bc2JpsiMuNu_RapidSim_LHCb_binned_fit_new.ipynb",
      "provenance": [],
      "mount_file_id": "1vf5CvxgaNy5XeAOYAaBC6nGaBVVkKk2L",
      "authorship_tag": "ABX9TyN0UPBsMJ347jXvfgjavDRT",
      "include_colab_link": true
    },
    "kernelspec": {
      "display_name": "Python 3",
      "name": "python3"
    },
    "language_info": {
      "name": "python"
    }
  },
  "nbformat": 4,
  "nbformat_minor": 0
}