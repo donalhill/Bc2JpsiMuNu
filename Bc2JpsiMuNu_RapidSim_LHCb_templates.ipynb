{
  "nbformat": 4,
  "nbformat_minor": 0,
  "metadata": {
    "colab": {
      "name": "Bc2JpsiMuNu_RapidSim_LHCb_templates.ipynb",
      "provenance": [],
      "mount_file_id": "143ufUOkwwq7IMFdf1mcSmct5qgFODXAB",
      "authorship_tag": "ABX9TyPJAGJ+cK+j5adXiB2CaFnx",
      "include_colab_link": true
    },
    "kernelspec": {
      "name": "python3",
      "display_name": "Python 3"
    },
    "language_info": {
      "name": "python"
    }
  },
  "cells": [
    {
      "cell_type": "markdown",
      "metadata": {
        "id": "view-in-github",
        "colab_type": "text"
      },
      "source": [
        "<a href=\"https://colab.research.google.com/github/donalrinho/Bc2JpsiMuNu/blob/main/Bc2JpsiMuNu_RapidSim_LHCb_templates.ipynb\" target=\"_parent\"><img src=\"https://colab.research.google.com/assets/colab-badge.svg\" alt=\"Open In Colab\"/></a>"
      ]
    },
    {
      "cell_type": "markdown",
      "source": [
        "# Modelling the reconstructed decay angles using histogram templates\n",
        "\n",
        "Because of imperfect knowledge due to the missing neutrino in $B_c^+ \\to J/\\psi \\mu^+ \\nu_\\mu$ decays, the decay angles cannot be reconstructed with high precision. The result is that the true angular distribution, which we are interested in measuring, is distored by reconstruction and resolution effects. When attempting to fit real data, it is important to account for these effects in the fit PDF. One way to do this is through the use of histogram templates. For more detail on this approach, see [this paper](https://arxiv.org/abs/1908.04643).\n",
        "\n",
        "In this notebook, we will look at how to employ per-event weights to make histogram templates for each of the terms in our angular decay rate. This will lead us towards fitting the reconstructed decay angles as a sum of several templates, one for each angular term (see [Bc2JpsiMuNu_RapidSim_fit.ipynb](https://github.com/donalrinho/Bc2JpsiMuNu/blob/main/Bc2JpsiMuNu_RapidSim_fit.ipynb) for a reminder of what our true angular PDF looks like).\n"
      ],
      "metadata": {
        "id": "xkdK4kN2theq"
      }
    },
    {
      "cell_type": "code",
      "source": [
        "!pip install uproot"
      ],
      "metadata": {
        "colab": {
          "base_uri": "https://localhost:8080/"
        },
        "id": "HRHO9kgV0DTu",
        "outputId": "b1969a1a-30c3-477c-8382-c4a16652a1f1"
      },
      "execution_count": 24,
      "outputs": [
        {
          "output_type": "stream",
          "name": "stdout",
          "text": [
            "Requirement already satisfied: uproot in /usr/local/lib/python3.7/dist-packages (4.1.9)\n",
            "Requirement already satisfied: setuptools in /usr/local/lib/python3.7/dist-packages (from uproot) (57.4.0)\n",
            "Requirement already satisfied: numpy in /usr/local/lib/python3.7/dist-packages (from uproot) (1.19.5)\n"
          ]
        }
      ]
    },
    {
      "cell_type": "code",
      "execution_count": 25,
      "metadata": {
        "id": "GKp2JQOjtbKY"
      },
      "outputs": [],
      "source": [
        "import json\n",
        "import numpy as np\n",
        "import uproot\n",
        "import matplotlib.pyplot as plt\n",
        "%matplotlib inline"
      ]
    },
    {
      "cell_type": "markdown",
      "source": [
        "Let's load the results from our fit to the truth-level angular distribution in our RapidSim MC. We will use these values to tell us what the true underlying PDF is, which will help us calculate weights for our MC to project out templates for each angular term."
      ],
      "metadata": {
        "id": "SA0OTGL5wSJl"
      }
    },
    {
      "cell_type": "code",
      "source": [
        "#Load JSON file containing helicity amplitudes from our truth-level RapidSim fit\n",
        "drive_dir = \"/content/drive/MyDrive/Bc2JpsiMuNu_Analysis/json\"\n",
        "file_path = f\"{drive_dir}/Bc2JspiMuNu_RapidSim_fit_results.json\"\n",
        "print(f\"Loading JSON file {file_path}\")\n",
        "\n",
        "with open(file_path) as json_file:\n",
        "    true_pars = json.load(json_file)\n",
        "true_pars"
      ],
      "metadata": {
        "colab": {
          "base_uri": "https://localhost:8080/"
        },
        "id": "5cTFCSIIwPTM",
        "outputId": "ab29523f-f979-46b0-ab6b-c8890be46496"
      },
      "execution_count": 26,
      "outputs": [
        {
          "output_type": "stream",
          "name": "stdout",
          "text": [
            "Loading JSON file /content/drive/MyDrive/Bc2JpsiMuNu_Analysis/json/Bc2JspiMuNu_RapidSim_fit_results.json\n"
          ]
        },
        {
          "output_type": "execute_result",
          "data": {
            "text/plain": [
              "{'H0_amp': [0.686267632565442, 0.002272731646289506],\n",
              " 'Hm_amp': [0.6390275225936218, 0.0020177204076657624],\n",
              " 'Hm_phi': [-1.531057768021171, 0.019435663977522447],\n",
              " 'Hp_amp': [0.34739107913255585, 0.005825285809510019],\n",
              " 'Hp_phi': [1.5603470554233514, 0.029767231502249945]}"
            ]
          },
          "metadata": {},
          "execution_count": 26
        }
      ]
    },
    {
      "cell_type": "markdown",
      "source": [
        "Now we write a function to calculate the value of our true angular decay rate PDF at any point in angular phase space. We pass this function our dictionary of true helicity amplitude values, and coordinates in each angle."
      ],
      "metadata": {
        "id": "r4Bg02T4xdMm"
      }
    },
    {
      "cell_type": "code",
      "source": [
        "def calc_true_model(true_pars, costheta_Jpsi, costheta_W, chi, single_term=None):\n",
        "  \"\"\"\n",
        "  Calculate true angular decay rate at a given point in true angular phase space\n",
        "\n",
        "    Parameters:\n",
        "      true_pars -- dict of truth-level helicity amplitudes\n",
        "      costheta_Jpsi -- true cos(theta_Jpsi) coordinate\n",
        "      costheta_W -- true cos(theta_W) coordinate\n",
        "      chi -- true chi coordinate\n",
        "      single_term (optional) -- whether to return the decay rate for a single angular term\n",
        "    \n",
        "    Returns:\n",
        "      f -- value of the decay rate \n",
        "  \"\"\"\n",
        "  \n",
        "  H0_amp = true_pars[\"H0_amp\"][0]\n",
        "  H0_phi = 0. #fixed to 0 arbitrarily, as detailed in Bc2JpsiMuNu_RapidSim_fit.ipynb\n",
        "  Hp_amp = true_pars[\"Hp_amp\"][0]\n",
        "  Hp_phi = true_pars[\"Hp_phi\"][0]\n",
        "  Hm_amp = true_pars[\"Hm_amp\"][0]\n",
        "  Hm_phi = true_pars[\"Hm_phi\"][0]\n",
        "  \n",
        "  H0_re = H0_amp * np.cos(H0_phi)\n",
        "  H0_im = H0_amp * np.sin(H0_phi)\n",
        "  Hp_re = Hp_amp * np.cos(Hp_phi)\n",
        "  Hp_im = Hp_amp * np.sin(Hp_phi)\n",
        "  Hm_re = Hm_amp * np.cos(Hm_phi)\n",
        "  Hm_im = Hm_amp * np.sin(Hm_phi)\n",
        "  \n",
        "  #complex amplitudes\n",
        "  h0 = complex(H0_re,H0_im)\n",
        "  hp = complex(Hp_re,Hp_im)\n",
        "  hm = complex(Hm_re,Hm_im)\n",
        "  h0st = complex(H0_re,-H0_im)\n",
        "  hpst = complex(Hp_re,-Hp_im)\n",
        "  hmst = complex(Hm_re,-Hm_im)\n",
        "  hphmst = hp*hmst\n",
        "  hph0st = hp*h0st\n",
        "  hmh0st = hm*h0st\n",
        "  \n",
        "  sintheta_Jpsi = np.sqrt(1. - costheta_Jpsi * costheta_Jpsi)\n",
        "  sintheta_W = np.sqrt(1. - costheta_W * costheta_W)\n",
        "  sintheta_Jpsi2 = (2. * sintheta_Jpsi * costheta_Jpsi)\n",
        "  sintheta_W2 = (2. * sintheta_W * costheta_W)\n",
        "  coschi = np.cos(chi)\n",
        "  sinchi = np.sin(chi)\n",
        "  cos2chi = 2*coschi*coschi - 1\n",
        "  sin2chi = 2*sinchi*coschi\n",
        "  \n",
        "  #3D decay rate\n",
        "\n",
        "  #Individual angular terms\n",
        "  terms = {}\n",
        "  terms[\"0\"] = 2 * sintheta_W**2 * sintheta_Jpsi**2\n",
        "  terms[\"1\"] = 0.5 * (1 - costheta_W)**2 * (1 + costheta_Jpsi**2)\n",
        "  terms[\"2\"] = 0.5 * (1 + costheta_W)**2 * (1 + costheta_Jpsi**2)\n",
        "  terms[\"3\"] = sintheta_W * sintheta_Jpsi2 * coschi * (1 - costheta_W)\n",
        "  terms[\"4\"] = -sintheta_W * sintheta_Jpsi2 * coschi * (1 + costheta_W)\n",
        "  terms[\"5\"] = sintheta_W**2 * sintheta_Jpsi**2 * cos2chi\n",
        "\n",
        "  #Total model\n",
        "  if(single_term==None):\n",
        "    \n",
        "    f = H0_amp**2 * terms[\"0\"]\n",
        "    f += Hp_amp**2 * terms[\"1\"]\n",
        "    f += Hm_amp**2 * terms[\"2\"]\n",
        "    f += hph0st.real * terms[\"3\"]\n",
        "    f += hmh0st.real * terms[\"4\"]\n",
        "    f += hphmst.real * terms[\"5\"]\n",
        "  \n",
        "    return f\n",
        "  \n",
        "  else:\n",
        "    \n",
        "    return terms[str(single_term)]"
      ],
      "metadata": {
        "id": "fvMWYq1RwtgV"
      },
      "execution_count": 27,
      "outputs": []
    },
    {
      "cell_type": "markdown",
      "source": [
        "Let's load our ROOT file of the RapidSim MC generated inside the LHCb detector acceptance. We load the file produced in our previous notebook, where we calculated the true and reconstructed decay angles."
      ],
      "metadata": {
        "id": "qB0PY0KPz214"
      }
    },
    {
      "cell_type": "code",
      "source": [
        "#Load ROOT file containing true decay angles\n",
        "drive_dir = \"/content/drive/MyDrive/Bc2JpsiMuNu_ROOT_files\"\n",
        "file_path = f\"{drive_dir}/Bc2JpsiMuNu_RapidSim_LHCb_Vars\"\n",
        "print(f\"Loading ROOT file {file_path}.root\")\n",
        "tree_name = \"DecayTree\"\n",
        "events = uproot.open(f\"{file_path}.root:{tree_name}\")\n",
        "events"
      ],
      "metadata": {
        "colab": {
          "base_uri": "https://localhost:8080/"
        },
        "id": "gI1_h99XzlcO",
        "outputId": "f4fc5294-bea9-42f1-c5d3-9cfcdc171eb2"
      },
      "execution_count": 28,
      "outputs": [
        {
          "output_type": "stream",
          "name": "stdout",
          "text": [
            "Loading ROOT file /content/drive/MyDrive/Bc2JpsiMuNu_ROOT_files/Bc2JpsiMuNu_RapidSim_LHCb_Vars.root\n"
          ]
        },
        {
          "output_type": "execute_result",
          "data": {
            "text/plain": [
              "<TTree 'DecayTree' (159 branches) at 0x7f89b0747a10>"
            ]
          },
          "metadata": {},
          "execution_count": 28
        }
      ]
    },
    {
      "cell_type": "code",
      "source": [
        "#Make pandas DataFrame\n",
        "df = events.arrays(library=\"pd\")"
      ],
      "metadata": {
        "id": "UlSkbLgU0LBj"
      },
      "execution_count": 29,
      "outputs": []
    },
    {
      "cell_type": "markdown",
      "source": [
        "Now we can use our function above to calculate the true angular PDF value for every event in our DataFrame. We do this by passing the function our dictionary of the true helicity amplitudes, and also the true coordinates of each event in angular phase space (using the `_true` angles)."
      ],
      "metadata": {
        "id": "cLs5wyF-0TmG"
      }
    },
    {
      "cell_type": "code",
      "source": [
        "df[\"true_model\"] = calc_true_model(true_pars, df[\"costheta_Jpsi_true\"], df[\"costheta_W_true\"], df[\"chi_true\"])"
      ],
      "metadata": {
        "id": "8xvEqaNr0M83"
      },
      "execution_count": 30,
      "outputs": []
    },
    {
      "cell_type": "code",
      "source": [
        "plt.hist(df[\"true_model\"],bins=100)\n",
        "plt.show();"
      ],
      "metadata": {
        "colab": {
          "base_uri": "https://localhost:8080/",
          "height": 265
        },
        "id": "N-Hx8iXP0ofB",
        "outputId": "2bd58fc9-ea17-49d1-8a28-1dae73e1d6b4"
      },
      "execution_count": 31,
      "outputs": [
        {
          "output_type": "display_data",
          "data": {
            "image/png": "[encoded data removed]",
            "text/plain": [
              "<Figure size 432x288 with 1 Axes>"
            ]
          },
          "metadata": {
            "needs_background": "light"
          }
        }
      ]
    },
    {
      "cell_type": "markdown",
      "source": [
        "Another important part of our preocedure is to calculate the values of individual angular terms in the PDF. We will take the ratio of these with our total model values above, in order to assing weights to each of our events. These weights can then be used to project out the individual angular terms from our total MC sample. This will let us make template shapes for each individual angular term.\n",
        "\n",
        "Our function above accepts an argument `single_term`, which allows it to return the value of one term in the decay rate. We pass it a number from 0 to 5, where each number represents one of the 6 terms in our decay rate."
      ],
      "metadata": {
        "id": "AH3vKNIg2_iW"
      }
    },
    {
      "cell_type": "code",
      "source": [
        "for i in range(0,6):\n",
        "  df[f\"single_term_{i}\"] = calc_true_model(true_pars, df[\"costheta_Jpsi_true\"], df[\"costheta_W_true\"], df[\"chi_true\"], single_term=i)"
      ],
      "metadata": {
        "id": "7CvxN3C70rSx"
      },
      "execution_count": 32,
      "outputs": []
    },
    {
      "cell_type": "code",
      "source": [
        "plt.hist(df[\"single_term_0\"],bins=100)\n",
        "plt.show();"
      ],
      "metadata": {
        "colab": {
          "base_uri": "https://localhost:8080/",
          "height": 265
        },
        "id": "fOLsMoYs36l7",
        "outputId": "258c25d2-337f-4bec-82d5-8cba217aaccd"
      },
      "execution_count": 33,
      "outputs": [
        {
          "output_type": "display_data",
          "data": {
            "image/png": "[encoded data removed]",
            "text/plain": [
              "<Figure size 432x288 with 1 Axes>"
            ]
          },
          "metadata": {
            "needs_background": "light"
          }
        }
      ]
    },
    {
      "cell_type": "markdown",
      "source": [
        "Now we can calculate the ratios of the single angular terms relative to the total decay rate. These will act as weights, which we can use to project out template shapes for each individual angular term."
      ],
      "metadata": {
        "id": "hO_Ii7QA4JzN"
      }
    },
    {
      "cell_type": "code",
      "source": [
        "for i in range(0,6):\n",
        "  df[f\"weight_{i}\"] = df[f\"single_term_{i}\"] / df[\"true_model\"]"
      ],
      "metadata": {
        "id": "s88CaoBV4CHH"
      },
      "execution_count": 34,
      "outputs": []
    },
    {
      "cell_type": "code",
      "source": [
        "plt.hist(df[\"weight_5\"],bins=100)\n",
        "plt.show();"
      ],
      "metadata": {
        "colab": {
          "base_uri": "https://localhost:8080/",
          "height": 265
        },
        "id": "oC6LySkG4bnR",
        "outputId": "ac04df2d-2cc9-41ca-c61f-aeaf82148401"
      },
      "execution_count": 35,
      "outputs": [
        {
          "output_type": "display_data",
          "data": {
            "image/png": "[encoded data removed]",
            "text/plain": [
              "<Figure size 432x288 with 1 Axes>"
            ]
          },
          "metadata": {
            "needs_background": "light"
          }
        }
      ]
    },
    {
      "cell_type": "markdown",
      "source": [
        "Let's see what these weights do when we apply them to our MC. We can remind ourselves what the total true $\\cos(\\theta_{J/\\psi})$ distribution looks like first:"
      ],
      "metadata": {
        "id": "KjG4TXjj4nK7"
      }
    },
    {
      "cell_type": "code",
      "source": [
        "plt.hist(df[\"costheta_Jpsi_true\"],bins=100)\n",
        "plt.show();"
      ],
      "metadata": {
        "colab": {
          "base_uri": "https://localhost:8080/",
          "height": 265
        },
        "id": "G-t_LrDg4fEp",
        "outputId": "a35dafe7-5d6d-40f8-86b3-c29435447777"
      },
      "execution_count": 36,
      "outputs": [
        {
          "output_type": "display_data",
          "data": {
            "image/png": "[encoded data removed]",
            "text/plain": [
              "<Figure size 432x288 with 1 Axes>"
            ]
          },
          "metadata": {
            "needs_background": "light"
          }
        }
      ]
    },
    {
      "cell_type": "markdown",
      "source": [
        "And now we can plot the same angle, but with our weight for term `1` in our decay rate applied. Term `1` has angular shape $(1 - cos(\\theta_W))^2 \\times (1 + cos^2(\\theta_{J/\\psi}))$. Since $x = cos(\\theta_{J/\\psi})$ in our plot, we are hoping to see a $1 + x^2$ shape when we apply the term `1` weight."
      ],
      "metadata": {
        "id": "G0dSiTI-40s4"
      }
    },
    {
      "cell_type": "code",
      "source": [
        "plt.hist(df[\"costheta_Jpsi_true\"],bins=100, weights=df[\"weight_1\"],density=True)\n",
        "plt.show();"
      ],
      "metadata": {
        "colab": {
          "base_uri": "https://localhost:8080/",
          "height": 265
        },
        "id": "OQNgzzlp4zd_",
        "outputId": "a7a17f7e-5fea-47cf-b95e-04bc785be633"
      },
      "execution_count": 37,
      "outputs": [
        {
          "output_type": "display_data",
          "data": {
            "image/png": "[encoded data removed]",
            "text/plain": [
              "<Figure size 432x288 with 1 Axes>"
            ]
          },
          "metadata": {
            "needs_background": "light"
          }
        }
      ]
    },
    {
      "cell_type": "markdown",
      "source": [
        "Awesome! We can see that the shape of the angular distribution has been changed by applying our weight for term `1`. But do we see the correct shape? \n",
        "\n",
        "The shape above looks like the sum of a flat line plus an $x^2$ term. And indeed, we were hoping to see a $1 + x^2$ dependence for our term `1` weight.\n",
        "\n",
        "Importantly, we can plot any variable we want with these weights applied. We can even make histograms in more than 1 dimension, which will be important when we want to try and fit the 3D angular distribution. Let's look at the reconstructed $\\cos(\\theta_{J/\\psi})$ plotted with the term `1` weight applied, and compare it to the true distribution."
      ],
      "metadata": {
        "id": "xxNZ7Jzn5W6X"
      }
    },
    {
      "cell_type": "code",
      "source": [
        "plt.hist(df[\"costheta_Jpsi_true\"],bins=100, color=\"crimson\", histtype=\"step\", linewidth=2, weights=df[\"weight_1\"],density=True, label=\"True\")\n",
        "plt.hist(df[\"costheta_Jpsi_reco\"],bins=100, color=\"navy\", histtype=\"step\", linewidth=2, weights=df[\"weight_1\"],density=True, label=\"Reco.\")\n",
        "plt.legend(loc=\"lower center\")\n",
        "plt.show();"
      ],
      "metadata": {
        "colab": {
          "base_uri": "https://localhost:8080/",
          "height": 265
        },
        "id": "4Ke1_8No5R4C",
        "outputId": "376c1405-45d4-450e-ea55-d85c4e1c4302"
      },
      "execution_count": 38,
      "outputs": [
        {
          "output_type": "display_data",
          "data": {
            "image/png": "[encoded data removed]",
            "text/plain": [
              "<Figure size 432x288 with 1 Axes>"
            ]
          },
          "metadata": {
            "needs_background": "light"
          }
        }
      ]
    },
    {
      "cell_type": "markdown",
      "source": [
        "This is a very important result. We can see that the reconstructed histogram also has the characteristic $1 + x^2$ shape we see in the true histogram. But the blue histogram also includes the effects of the reconstruction and resolution, which smear out the shape of the pure angular function. We can use templates like this, derived from MC, to model what the angular distribution looks like in real data. But rather than just having a single 1D histogram like this, we have:\n",
        " - 3D histograms, defined in the **reconstructed** decay angles.\n",
        " - one 3D histogram for each of the terms in our angular decay rate (we have six in total).\n",
        "\n",
        "In such a setup, we can model the data using a sum of templates, where each template gets multiplied by its corresponding helicity amplitude term. For example, template `0` would get multiplied by $|H_0|^2$, and template `5` would get multiplied by $Re(H_+ H_-^*)$. This is the basis of the approach described in detail [here](https://arxiv.org/abs/1908.04643); in this paper, the decay $B^0 \\to D^{*-} \\tau^+ \\nu_\\tau$ is considered, which is very similar to $B_c^+ \\to J/\\psi \\mu^+ \\nu_\\mu$.\n",
        "\n",
        "Let's take a look a $\\cos(\\theta_W)$, which is the angle we reconstruct most poorly. We can look at term `0` as an example, which has the angular dependence $sin^2(\\theta_W) \\times sin^2(\\theta_{J/\\psi})$."
      ],
      "metadata": {
        "id": "6vlPkWjpRZx4"
      }
    },
    {
      "cell_type": "code",
      "source": [
        "plt.hist(df[\"costheta_W_true\"],bins=100, color=\"crimson\", histtype=\"step\", linewidth=2, weights=df[\"weight_0\"],density=True, label=\"True\")\n",
        "plt.hist(df[\"costheta_W_reco\"],bins=100, color=\"navy\", histtype=\"step\", linewidth=2, weights=df[\"weight_0\"],density=True, label=\"Reco.\")\n",
        "plt.legend(loc=\"lower center\")\n",
        "plt.show();"
      ],
      "metadata": {
        "colab": {
          "base_uri": "https://localhost:8080/",
          "height": 269
        },
        "id": "muCcOdHKPQtJ",
        "outputId": "474a38ef-0b38-47d6-ded0-f99d55f90de4"
      },
      "execution_count": 39,
      "outputs": [
        {
          "output_type": "display_data",
          "data": {
            "image/png": "[encoded data removed]",
            "text/plain": [
              "<Figure size 432x288 with 1 Axes>"
            ]
          },
          "metadata": {
            "needs_background": "light"
          }
        }
      ]
    },
    {
      "cell_type": "markdown",
      "source": [
        "When $cos(\\theta_X) = 0$ in our plot, we see that our histogram is at a maximum. We know that $cos(\\theta_X) = 0$ when $\\theta_X = \\frac{n\\pi}{2}$ (where $n$ is odd). But when $\\theta_X$ has such values, $\\sin(\\theta_X) = 1$ and thus $\\sin^2(\\theta_X)$ is at a maximum. When applying our term `0` weight, we expected to see a $\\sin^2(\\theta_X)$ dependence, and this indeed seems to be the case. You can convince yourself that the behaviour at $\\cos(\\theta_X) = \\pm 1$ also makes sense. \n",
        "\n",
        "So our true histogram has the expected shape. But we can see that our reconstructed histogram has a very different shape, because of the strong effects of reconstruction and resolution which warp the true shape.\n",
        "\n",
        "Let's save a ROOT file containing the new variables we have calculated. We will make use of our weights to build templates for each angular term, which can be used to fit the reconstructed angular distribution."
      ],
      "metadata": {
        "id": "2ILyHv3cTnfv"
      }
    },
    {
      "cell_type": "code",
      "source": [
        "#Make a new file in our Google Drive, with the same name as our input file but with _Weights added to the end\n",
        "out_file_path = f\"{file_path}_Weights\"\n",
        "outfile = uproot.recreate(f\"{out_file_path}.root\")"
      ],
      "metadata": {
        "id": "KXvirtxSTWrS"
      },
      "execution_count": 40,
      "outputs": []
    },
    {
      "cell_type": "code",
      "source": [
        "#Add our DataFrame to the file as a TTree with the same name as our input file TTree name\n",
        "#This might take a little while to run as our DataFrame is quite big\n",
        "outfile[tree_name] = df"
      ],
      "metadata": {
        "id": "SMjM9XWiVwtq"
      },
      "execution_count": 41,
      "outputs": []
    },
    {
      "cell_type": "code",
      "source": [
        "#Close the file to finalise things\n",
        "outfile.close()"
      ],
      "metadata": {
        "id": "z-VgjapzVy8B"
      },
      "execution_count": 42,
      "outputs": []
    }
  ]
}