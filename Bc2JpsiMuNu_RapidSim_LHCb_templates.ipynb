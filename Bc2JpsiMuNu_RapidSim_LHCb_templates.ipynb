{
  "nbformat": 4,
  "nbformat_minor": 0,
  "metadata": {
    "colab": {
      "name": "Bc2JpsiMuNu_RapidSim_LHCb_templates.ipynb",
      "provenance": [],
      "mount_file_id": "1XHxXpD9is4Pdg2DigBL0kWMwautfxQCV",
      "authorship_tag": "ABX9TyP3/njF8d2hnL97R5EpHx0l",
      "include_colab_link": true
    },
    "kernelspec": {
      "name": "python3",
      "display_name": "Python 3"
    },
    "language_info": {
      "name": "python"
    }
  },
  "cells": [
    {
      "cell_type": "markdown",
      "metadata": {
        "id": "view-in-github",
        "colab_type": "text"
      },
      "source": [
        "<a href=\"https://colab.research.google.com/github/donalrinho/Bc2JpsiMuNu/blob/main/Bc2JpsiMuNu_RapidSim_LHCb_templates.ipynb\" target=\"_parent\"><img src=\"https://colab.research.google.com/assets/colab-badge.svg\" alt=\"Open In Colab\"/></a>"
      ]
    },
    {
      "cell_type": "markdown",
      "source": [
        "# Making histograms for use in a binned fit\n",
        "\n",
        "In the last notebook, we learned how to calculate weights which help us project out template shapes for each term in our angular decay rate. In this notebook, we use some cutting-edge histogramming tools in Python (the `hist` package) to create histograms which can be used in a `zfit` binned fit."
      ],
      "metadata": {
        "id": "kt5lAXoULDxM"
      }
    },
    {
      "cell_type": "code",
      "execution_count": 1,
      "metadata": {
        "colab": {
          "base_uri": "https://localhost:8080/"
        },
        "id": "fBMnOBfG5_-o",
        "outputId": "8e9749b9-5105-4eb9-ce5e-2d5ce2de0c7a"
      },
      "outputs": [
        {
          "output_type": "stream",
          "name": "stdout",
          "text": [
            "Requirement already satisfied: uproot in /usr/local/lib/python3.7/dist-packages (4.1.9)\n",
            "Requirement already satisfied: setuptools in /usr/local/lib/python3.7/dist-packages (from uproot) (57.4.0)\n",
            "Requirement already satisfied: numpy in /usr/local/lib/python3.7/dist-packages (from uproot) (1.19.5)\n",
            "Requirement already satisfied: tensorflow==2.6.2 in /usr/local/lib/python3.7/dist-packages (2.6.2)\n",
            "Requirement already satisfied: termcolor~=1.1.0 in /usr/local/lib/python3.7/dist-packages (from tensorflow==2.6.2) (1.1.0)\n",
            "Requirement already satisfied: google-pasta~=0.2 in /usr/local/lib/python3.7/dist-packages (from tensorflow==2.6.2) (0.2.0)\n",
            "Requirement already satisfied: typing-extensions~=3.7.4 in /usr/local/lib/python3.7/dist-packages (from tensorflow==2.6.2) (3.7.4.3)\n",
            "Requirement already satisfied: wrapt~=1.12.1 in /usr/local/lib/python3.7/dist-packages (from tensorflow==2.6.2) (1.12.1)\n",
            "Requirement already satisfied: gast==0.4.0 in /usr/local/lib/python3.7/dist-packages (from tensorflow==2.6.2) (0.4.0)\n",
            "Requirement already satisfied: six~=1.15.0 in /usr/local/lib/python3.7/dist-packages (from tensorflow==2.6.2) (1.15.0)\n",
            "Requirement already satisfied: tensorboard<2.7,>=2.6.0 in /usr/local/lib/python3.7/dist-packages (from tensorflow==2.6.2) (2.6.0)\n",
            "Requirement already satisfied: numpy~=1.19.2 in /usr/local/lib/python3.7/dist-packages (from tensorflow==2.6.2) (1.19.5)\n",
            "Requirement already satisfied: protobuf>=3.9.2 in /usr/local/lib/python3.7/dist-packages (from tensorflow==2.6.2) (3.17.3)\n",
            "Requirement already satisfied: keras-preprocessing~=1.1.2 in /usr/local/lib/python3.7/dist-packages (from tensorflow==2.6.2) (1.1.2)\n",
            "Requirement already satisfied: grpcio<2.0,>=1.37.0 in /usr/local/lib/python3.7/dist-packages (from tensorflow==2.6.2) (1.43.0)\n",
            "Requirement already satisfied: clang~=5.0 in /usr/local/lib/python3.7/dist-packages (from tensorflow==2.6.2) (5.0)\n",
            "Requirement already satisfied: keras<2.7,>=2.6.0 in /usr/local/lib/python3.7/dist-packages (from tensorflow==2.6.2) (2.6.0)\n",
            "Requirement already satisfied: flatbuffers~=1.12.0 in /usr/local/lib/python3.7/dist-packages (from tensorflow==2.6.2) (1.12)\n",
            "Requirement already satisfied: astunparse~=1.6.3 in /usr/local/lib/python3.7/dist-packages (from tensorflow==2.6.2) (1.6.3)\n",
            "Requirement already satisfied: wheel~=0.35 in /usr/local/lib/python3.7/dist-packages (from tensorflow==2.6.2) (0.37.1)\n",
            "Requirement already satisfied: h5py~=3.1.0 in /usr/local/lib/python3.7/dist-packages (from tensorflow==2.6.2) (3.1.0)\n",
            "Requirement already satisfied: absl-py~=0.10 in /usr/local/lib/python3.7/dist-packages (from tensorflow==2.6.2) (0.12.0)\n",
            "Requirement already satisfied: tensorflow-estimator<2.7,>=2.6.0 in /usr/local/lib/python3.7/dist-packages (from tensorflow==2.6.2) (2.6.0)\n",
            "Requirement already satisfied: opt-einsum~=3.3.0 in /usr/local/lib/python3.7/dist-packages (from tensorflow==2.6.2) (3.3.0)\n",
            "Requirement already satisfied: cached-property in /usr/local/lib/python3.7/dist-packages (from h5py~=3.1.0->tensorflow==2.6.2) (1.5.2)\n",
            "Requirement already satisfied: google-auth<2,>=1.6.3 in /usr/local/lib/python3.7/dist-packages (from tensorboard<2.7,>=2.6.0->tensorflow==2.6.2) (1.35.0)\n",
            "Requirement already satisfied: markdown>=2.6.8 in /usr/local/lib/python3.7/dist-packages (from tensorboard<2.7,>=2.6.0->tensorflow==2.6.2) (3.3.6)\n",
            "Requirement already satisfied: werkzeug>=0.11.15 in /usr/local/lib/python3.7/dist-packages (from tensorboard<2.7,>=2.6.0->tensorflow==2.6.2) (1.0.1)\n",
            "Requirement already satisfied: tensorboard-plugin-wit>=1.6.0 in /usr/local/lib/python3.7/dist-packages (from tensorboard<2.7,>=2.6.0->tensorflow==2.6.2) (1.8.1)\n",
            "Requirement already satisfied: setuptools>=41.0.0 in /usr/local/lib/python3.7/dist-packages (from tensorboard<2.7,>=2.6.0->tensorflow==2.6.2) (57.4.0)\n",
            "Requirement already satisfied: google-auth-oauthlib<0.5,>=0.4.1 in /usr/local/lib/python3.7/dist-packages (from tensorboard<2.7,>=2.6.0->tensorflow==2.6.2) (0.4.6)\n",
            "Requirement already satisfied: tensorboard-data-server<0.7.0,>=0.6.0 in /usr/local/lib/python3.7/dist-packages (from tensorboard<2.7,>=2.6.0->tensorflow==2.6.2) (0.6.1)\n",
            "Requirement already satisfied: requests<3,>=2.21.0 in /usr/local/lib/python3.7/dist-packages (from tensorboard<2.7,>=2.6.0->tensorflow==2.6.2) (2.23.0)\n",
            "Requirement already satisfied: cachetools<5.0,>=2.0.0 in /usr/local/lib/python3.7/dist-packages (from google-auth<2,>=1.6.3->tensorboard<2.7,>=2.6.0->tensorflow==2.6.2) (4.2.4)\n",
            "Requirement already satisfied: rsa<5,>=3.1.4 in /usr/local/lib/python3.7/dist-packages (from google-auth<2,>=1.6.3->tensorboard<2.7,>=2.6.0->tensorflow==2.6.2) (4.8)\n",
            "Requirement already satisfied: pyasn1-modules>=0.2.1 in /usr/local/lib/python3.7/dist-packages (from google-auth<2,>=1.6.3->tensorboard<2.7,>=2.6.0->tensorflow==2.6.2) (0.2.8)\n",
            "Requirement already satisfied: requests-oauthlib>=0.7.0 in /usr/local/lib/python3.7/dist-packages (from google-auth-oauthlib<0.5,>=0.4.1->tensorboard<2.7,>=2.6.0->tensorflow==2.6.2) (1.3.0)\n",
            "Requirement already satisfied: importlib-metadata>=4.4 in /usr/local/lib/python3.7/dist-packages (from markdown>=2.6.8->tensorboard<2.7,>=2.6.0->tensorflow==2.6.2) (4.10.0)\n",
            "Requirement already satisfied: zipp>=0.5 in /usr/local/lib/python3.7/dist-packages (from importlib-metadata>=4.4->markdown>=2.6.8->tensorboard<2.7,>=2.6.0->tensorflow==2.6.2) (3.7.0)\n",
            "Requirement already satisfied: pyasn1<0.5.0,>=0.4.6 in /usr/local/lib/python3.7/dist-packages (from pyasn1-modules>=0.2.1->google-auth<2,>=1.6.3->tensorboard<2.7,>=2.6.0->tensorflow==2.6.2) (0.4.8)\n",
            "Requirement already satisfied: certifi>=2017.4.17 in /usr/local/lib/python3.7/dist-packages (from requests<3,>=2.21.0->tensorboard<2.7,>=2.6.0->tensorflow==2.6.2) (2021.10.8)\n",
            "Requirement already satisfied: idna<3,>=2.5 in /usr/local/lib/python3.7/dist-packages (from requests<3,>=2.21.0->tensorboard<2.7,>=2.6.0->tensorflow==2.6.2) (2.10)\n",
            "Requirement already satisfied: urllib3!=1.25.0,!=1.25.1,<1.26,>=1.21.1 in /usr/local/lib/python3.7/dist-packages (from requests<3,>=2.21.0->tensorboard<2.7,>=2.6.0->tensorflow==2.6.2) (1.24.3)\n",
            "Requirement already satisfied: chardet<4,>=3.0.2 in /usr/local/lib/python3.7/dist-packages (from requests<3,>=2.21.0->tensorboard<2.7,>=2.6.0->tensorflow==2.6.2) (3.0.4)\n",
            "Requirement already satisfied: oauthlib>=3.0.0 in /usr/local/lib/python3.7/dist-packages (from requests-oauthlib>=0.7.0->google-auth-oauthlib<0.5,>=0.4.1->tensorboard<2.7,>=2.6.0->tensorflow==2.6.2) (3.1.1)\n",
            "Requirement already satisfied: hist in /usr/local/lib/python3.7/dist-packages (2.5.2)\n",
            "Requirement already satisfied: boost-histogram~=1.2.0 in /usr/local/lib/python3.7/dist-packages (from hist) (1.2.1)\n",
            "Requirement already satisfied: numpy>=1.14.5 in /usr/local/lib/python3.7/dist-packages (from hist) (1.19.5)\n",
            "Requirement already satisfied: typing-extensions>=3.7 in /usr/local/lib/python3.7/dist-packages (from hist) (3.7.4.3)\n",
            "Requirement already satisfied: histoprint>=2.2.0 in /usr/local/lib/python3.7/dist-packages (from hist) (2.2.1)\n",
            "Requirement already satisfied: uhi>=0.2.1 in /usr/local/lib/python3.7/dist-packages (from histoprint>=2.2.0->hist) (0.3.1)\n",
            "Requirement already satisfied: click>=7.0.0 in /usr/local/lib/python3.7/dist-packages (from histoprint>=2.2.0->hist) (7.1.2)\n",
            "Requirement already satisfied: mplhep in /usr/local/lib/python3.7/dist-packages (0.3.20)\n",
            "Requirement already satisfied: uhi>=0.2.0 in /usr/local/lib/python3.7/dist-packages (from mplhep) (0.3.1)\n",
            "Requirement already satisfied: mplhep-data in /usr/local/lib/python3.7/dist-packages (from mplhep) (0.0.3)\n",
            "Requirement already satisfied: packaging in /usr/local/lib/python3.7/dist-packages (from mplhep) (21.3)\n",
            "Requirement already satisfied: matplotlib>=3.4 in /usr/local/lib/python3.7/dist-packages (from mplhep) (3.5.1)\n",
            "Requirement already satisfied: numpy>=1.16.0 in /usr/local/lib/python3.7/dist-packages (from mplhep) (1.19.5)\n",
            "Requirement already satisfied: cycler>=0.10 in /usr/local/lib/python3.7/dist-packages (from matplotlib>=3.4->mplhep) (0.11.0)\n",
            "Requirement already satisfied: kiwisolver>=1.0.1 in /usr/local/lib/python3.7/dist-packages (from matplotlib>=3.4->mplhep) (1.3.2)\n",
            "Requirement already satisfied: pillow>=6.2.0 in /usr/local/lib/python3.7/dist-packages (from matplotlib>=3.4->mplhep) (7.1.2)\n",
            "Requirement already satisfied: fonttools>=4.22.0 in /usr/local/lib/python3.7/dist-packages (from matplotlib>=3.4->mplhep) (4.28.5)\n",
            "Requirement already satisfied: pyparsing>=2.2.1 in /usr/local/lib/python3.7/dist-packages (from matplotlib>=3.4->mplhep) (3.0.6)\n",
            "Requirement already satisfied: python-dateutil>=2.7 in /usr/local/lib/python3.7/dist-packages (from matplotlib>=3.4->mplhep) (2.8.2)\n",
            "Requirement already satisfied: six>=1.5 in /usr/local/lib/python3.7/dist-packages (from python-dateutil>=2.7->matplotlib>=3.4->mplhep) (1.15.0)\n",
            "Requirement already satisfied: typing-extensions>=3.7 in /usr/local/lib/python3.7/dist-packages (from uhi>=0.2.0->mplhep) (3.7.4.3)\n",
            "Requirement already satisfied: zfit in /usr/local/lib/python3.7/dist-packages (0.8.2)\n",
            "Requirement already satisfied: uproot<5,>=4 in /usr/local/lib/python3.7/dist-packages (from zfit) (4.1.9)\n",
            "Requirement already satisfied: ordered-set in /usr/local/lib/python3.7/dist-packages (from zfit) (4.0.2)\n",
            "Requirement already satisfied: numdifftools in /usr/local/lib/python3.7/dist-packages (from zfit) (0.9.40)\n",
            "Requirement already satisfied: scipy>=1.2 in /usr/local/lib/python3.7/dist-packages (from zfit) (1.4.1)\n",
            "Requirement already satisfied: tensorflow-probability<0.14,>=0.12 in /usr/local/lib/python3.7/dist-packages (from zfit) (0.13.0)\n",
            "Requirement already satisfied: colorlog in /usr/local/lib/python3.7/dist-packages (from zfit) (6.6.0)\n",
            "Requirement already satisfied: tabulate in /usr/local/lib/python3.7/dist-packages (from zfit) (0.8.9)\n",
            "Requirement already satisfied: tf-quant-finance>=v0.0.1-dev24 in /usr/local/lib/python3.7/dist-packages (from zfit) (0.0.1.dev30)\n",
            "Requirement already satisfied: texttable in /usr/local/lib/python3.7/dist-packages (from zfit) (1.6.4)\n",
            "Requirement already satisfied: pandas in /usr/local/lib/python3.7/dist-packages (from zfit) (1.1.5)\n",
            "Requirement already satisfied: colored in /usr/local/lib/python3.7/dist-packages (from zfit) (1.4.3)\n",
            "Requirement already satisfied: dotmap in /usr/local/lib/python3.7/dist-packages (from zfit) (1.3.26)\n",
            "Requirement already satisfied: tensorflow-addons in /usr/local/lib/python3.7/dist-packages (from zfit) (0.15.0)\n",
            "Requirement already satisfied: iminuit>=2.3 in /usr/local/lib/python3.7/dist-packages (from zfit) (2.9.0)\n",
            "Requirement already satisfied: tensorflow<2.7,>=2.5 in /usr/local/lib/python3.7/dist-packages (from zfit) (2.6.2)\n",
            "Requirement already satisfied: nlopt in /usr/local/lib/python3.7/dist-packages (from zfit) (2.7.0)\n",
            "Requirement already satisfied: ipyopt<0.12 in /usr/local/lib/python3.7/dist-packages (from zfit) (0.11.0)\n",
            "Requirement already satisfied: numpy>=1.16 in /usr/local/lib/python3.7/dist-packages (from zfit) (1.19.5)\n",
            "Requirement already satisfied: colorama in /usr/local/lib/python3.7/dist-packages (from zfit) (0.4.4)\n",
            "Requirement already satisfied: tensorflow-estimator<2.7,>=2.6.0 in /usr/local/lib/python3.7/dist-packages (from tensorflow<2.7,>=2.5->zfit) (2.6.0)\n",
            "Requirement already satisfied: six~=1.15.0 in /usr/local/lib/python3.7/dist-packages (from tensorflow<2.7,>=2.5->zfit) (1.15.0)\n",
            "Requirement already satisfied: tensorboard<2.7,>=2.6.0 in /usr/local/lib/python3.7/dist-packages (from tensorflow<2.7,>=2.5->zfit) (2.6.0)\n",
            "Requirement already satisfied: wrapt~=1.12.1 in /usr/local/lib/python3.7/dist-packages (from tensorflow<2.7,>=2.5->zfit) (1.12.1)\n",
            "Requirement already satisfied: gast==0.4.0 in /usr/local/lib/python3.7/dist-packages (from tensorflow<2.7,>=2.5->zfit) (0.4.0)\n",
            "Requirement already satisfied: keras<2.7,>=2.6.0 in /usr/local/lib/python3.7/dist-packages (from tensorflow<2.7,>=2.5->zfit) (2.6.0)\n",
            "Requirement already satisfied: keras-preprocessing~=1.1.2 in /usr/local/lib/python3.7/dist-packages (from tensorflow<2.7,>=2.5->zfit) (1.1.2)\n",
            "Requirement already satisfied: typing-extensions~=3.7.4 in /usr/local/lib/python3.7/dist-packages (from tensorflow<2.7,>=2.5->zfit) (3.7.4.3)\n",
            "Requirement already satisfied: google-pasta~=0.2 in /usr/local/lib/python3.7/dist-packages (from tensorflow<2.7,>=2.5->zfit) (0.2.0)\n",
            "Requirement already satisfied: grpcio<2.0,>=1.37.0 in /usr/local/lib/python3.7/dist-packages (from tensorflow<2.7,>=2.5->zfit) (1.43.0)\n",
            "Requirement already satisfied: termcolor~=1.1.0 in /usr/local/lib/python3.7/dist-packages (from tensorflow<2.7,>=2.5->zfit) (1.1.0)\n",
            "Requirement already satisfied: astunparse~=1.6.3 in /usr/local/lib/python3.7/dist-packages (from tensorflow<2.7,>=2.5->zfit) (1.6.3)\n",
            "Requirement already satisfied: absl-py~=0.10 in /usr/local/lib/python3.7/dist-packages (from tensorflow<2.7,>=2.5->zfit) (0.12.0)\n",
            "Requirement already satisfied: h5py~=3.1.0 in /usr/local/lib/python3.7/dist-packages (from tensorflow<2.7,>=2.5->zfit) (3.1.0)\n",
            "Requirement already satisfied: opt-einsum~=3.3.0 in /usr/local/lib/python3.7/dist-packages (from tensorflow<2.7,>=2.5->zfit) (3.3.0)\n",
            "Requirement already satisfied: protobuf>=3.9.2 in /usr/local/lib/python3.7/dist-packages (from tensorflow<2.7,>=2.5->zfit) (3.17.3)\n",
            "Requirement already satisfied: wheel~=0.35 in /usr/local/lib/python3.7/dist-packages (from tensorflow<2.7,>=2.5->zfit) (0.37.1)\n",
            "Requirement already satisfied: clang~=5.0 in /usr/local/lib/python3.7/dist-packages (from tensorflow<2.7,>=2.5->zfit) (5.0)\n",
            "Requirement already satisfied: flatbuffers~=1.12.0 in /usr/local/lib/python3.7/dist-packages (from tensorflow<2.7,>=2.5->zfit) (1.12)\n",
            "Requirement already satisfied: cached-property in /usr/local/lib/python3.7/dist-packages (from h5py~=3.1.0->tensorflow<2.7,>=2.5->zfit) (1.5.2)\n",
            "Requirement already satisfied: markdown>=2.6.8 in /usr/local/lib/python3.7/dist-packages (from tensorboard<2.7,>=2.6.0->tensorflow<2.7,>=2.5->zfit) (3.3.6)\n",
            "Requirement already satisfied: setuptools>=41.0.0 in /usr/local/lib/python3.7/dist-packages (from tensorboard<2.7,>=2.6.0->tensorflow<2.7,>=2.5->zfit) (57.4.0)\n",
            "Requirement already satisfied: google-auth-oauthlib<0.5,>=0.4.1 in /usr/local/lib/python3.7/dist-packages (from tensorboard<2.7,>=2.6.0->tensorflow<2.7,>=2.5->zfit) (0.4.6)\n",
            "Requirement already satisfied: google-auth<2,>=1.6.3 in /usr/local/lib/python3.7/dist-packages (from tensorboard<2.7,>=2.6.0->tensorflow<2.7,>=2.5->zfit) (1.35.0)\n",
            "Requirement already satisfied: tensorboard-plugin-wit>=1.6.0 in /usr/local/lib/python3.7/dist-packages (from tensorboard<2.7,>=2.6.0->tensorflow<2.7,>=2.5->zfit) (1.8.1)\n",
            "Requirement already satisfied: werkzeug>=0.11.15 in /usr/local/lib/python3.7/dist-packages (from tensorboard<2.7,>=2.6.0->tensorflow<2.7,>=2.5->zfit) (1.0.1)\n",
            "Requirement already satisfied: requests<3,>=2.21.0 in /usr/local/lib/python3.7/dist-packages (from tensorboard<2.7,>=2.6.0->tensorflow<2.7,>=2.5->zfit) (2.23.0)\n",
            "Requirement already satisfied: tensorboard-data-server<0.7.0,>=0.6.0 in /usr/local/lib/python3.7/dist-packages (from tensorboard<2.7,>=2.6.0->tensorflow<2.7,>=2.5->zfit) (0.6.1)\n",
            "Requirement already satisfied: pyasn1-modules>=0.2.1 in /usr/local/lib/python3.7/dist-packages (from google-auth<2,>=1.6.3->tensorboard<2.7,>=2.6.0->tensorflow<2.7,>=2.5->zfit) (0.2.8)\n",
            "Requirement already satisfied: cachetools<5.0,>=2.0.0 in /usr/local/lib/python3.7/dist-packages (from google-auth<2,>=1.6.3->tensorboard<2.7,>=2.6.0->tensorflow<2.7,>=2.5->zfit) (4.2.4)\n",
            "Requirement already satisfied: rsa<5,>=3.1.4 in /usr/local/lib/python3.7/dist-packages (from google-auth<2,>=1.6.3->tensorboard<2.7,>=2.6.0->tensorflow<2.7,>=2.5->zfit) (4.8)\n",
            "Requirement already satisfied: requests-oauthlib>=0.7.0 in /usr/local/lib/python3.7/dist-packages (from google-auth-oauthlib<0.5,>=0.4.1->tensorboard<2.7,>=2.6.0->tensorflow<2.7,>=2.5->zfit) (1.3.0)\n",
            "Requirement already satisfied: importlib-metadata>=4.4 in /usr/local/lib/python3.7/dist-packages (from markdown>=2.6.8->tensorboard<2.7,>=2.6.0->tensorflow<2.7,>=2.5->zfit) (4.10.0)\n",
            "Requirement already satisfied: zipp>=0.5 in /usr/local/lib/python3.7/dist-packages (from importlib-metadata>=4.4->markdown>=2.6.8->tensorboard<2.7,>=2.6.0->tensorflow<2.7,>=2.5->zfit) (3.7.0)\n",
            "Requirement already satisfied: pyasn1<0.5.0,>=0.4.6 in /usr/local/lib/python3.7/dist-packages (from pyasn1-modules>=0.2.1->google-auth<2,>=1.6.3->tensorboard<2.7,>=2.6.0->tensorflow<2.7,>=2.5->zfit) (0.4.8)\n",
            "Requirement already satisfied: chardet<4,>=3.0.2 in /usr/local/lib/python3.7/dist-packages (from requests<3,>=2.21.0->tensorboard<2.7,>=2.6.0->tensorflow<2.7,>=2.5->zfit) (3.0.4)\n",
            "Requirement already satisfied: idna<3,>=2.5 in /usr/local/lib/python3.7/dist-packages (from requests<3,>=2.21.0->tensorboard<2.7,>=2.6.0->tensorflow<2.7,>=2.5->zfit) (2.10)\n",
            "Requirement already satisfied: certifi>=2017.4.17 in /usr/local/lib/python3.7/dist-packages (from requests<3,>=2.21.0->tensorboard<2.7,>=2.6.0->tensorflow<2.7,>=2.5->zfit) (2021.10.8)\n",
            "Requirement already satisfied: urllib3!=1.25.0,!=1.25.1,<1.26,>=1.21.1 in /usr/local/lib/python3.7/dist-packages (from requests<3,>=2.21.0->tensorboard<2.7,>=2.6.0->tensorflow<2.7,>=2.5->zfit) (1.24.3)\n",
            "Requirement already satisfied: oauthlib>=3.0.0 in /usr/local/lib/python3.7/dist-packages (from requests-oauthlib>=0.7.0->google-auth-oauthlib<0.5,>=0.4.1->tensorboard<2.7,>=2.6.0->tensorflow<2.7,>=2.5->zfit) (3.1.1)\n",
            "Requirement already satisfied: cloudpickle>=1.3 in /usr/local/lib/python3.7/dist-packages (from tensorflow-probability<0.14,>=0.12->zfit) (1.3.0)\n",
            "Requirement already satisfied: decorator in /usr/local/lib/python3.7/dist-packages (from tensorflow-probability<0.14,>=0.12->zfit) (4.4.2)\n",
            "Requirement already satisfied: dm-tree in /usr/local/lib/python3.7/dist-packages (from tensorflow-probability<0.14,>=0.12->zfit) (0.1.6)\n",
            "Requirement already satisfied: attrs>=18.2.0 in /usr/local/lib/python3.7/dist-packages (from tf-quant-finance>=v0.0.1-dev24->zfit) (21.4.0)\n",
            "Requirement already satisfied: statsmodels>=0.6 in /usr/local/lib/python3.7/dist-packages (from numdifftools->zfit) (0.10.2)\n",
            "Requirement already satisfied: algopy>=0.4 in /usr/local/lib/python3.7/dist-packages (from numdifftools->zfit) (0.5.7)\n",
            "Requirement already satisfied: patsy>=0.4.0 in /usr/local/lib/python3.7/dist-packages (from statsmodels>=0.6->numdifftools->zfit) (0.5.2)\n",
            "Requirement already satisfied: python-dateutil>=2.7.3 in /usr/local/lib/python3.7/dist-packages (from pandas->zfit) (2.8.2)\n",
            "Requirement already satisfied: pytz>=2017.2 in /usr/local/lib/python3.7/dist-packages (from pandas->zfit) (2018.9)\n",
            "Requirement already satisfied: typeguard>=2.7 in /usr/local/lib/python3.7/dist-packages (from tensorflow-addons->zfit) (2.7.1)\n",
            "Requirement already satisfied: uncertainties in /usr/local/lib/python3.7/dist-packages (3.1.6)\n",
            "Requirement already satisfied: future in /usr/local/lib/python3.7/dist-packages (from uncertainties) (0.16.0)\n"
          ]
        }
      ],
      "source": [
        "!pip install uproot\n",
        "!pip install tensorflow==2.6.2 #specific versions for compatability with zfit\n",
        "!pip install hist\n",
        "!pip install mplhep\n",
        "!pip install zfit\n",
        "!pip install uncertainties"
      ]
    },
    {
      "cell_type": "code",
      "source": [
        "import uproot\n",
        "import numpy as np\n",
        "import tensorflow as tf\n",
        "import zfit\n",
        "import hist\n",
        "from hist import Hist\n",
        "import mplhep\n",
        "import pandas as pd\n",
        "import pickle"
      ],
      "metadata": {
        "id": "iGx57U6s6O35"
      },
      "execution_count": 43,
      "outputs": []
    },
    {
      "cell_type": "code",
      "source": [
        "#Load ROOT file\n",
        "drive_dir = \"/content/drive/MyDrive/Bc2JpsiMuNu_ROOT_files\"\n",
        "file_path = f\"{drive_dir}/Bc2JpsiMuNu_RapidSim_LHCb_Vars_Weights\"\n",
        "print(f\"Loading ROOT file {file_path}.root\")\n",
        "tree_name = \"DecayTree\"\n",
        "events = uproot.open(f\"{file_path}.root:{tree_name}\")\n",
        "events"
      ],
      "metadata": {
        "colab": {
          "base_uri": "https://localhost:8080/"
        },
        "id": "FminCtmu7SS5",
        "outputId": "37e590b8-48b6-40ae-e7b5-806b01581d80"
      },
      "execution_count": 6,
      "outputs": [
        {
          "output_type": "stream",
          "name": "stdout",
          "text": [
            "Loading ROOT file /content/drive/MyDrive/Bc2JpsiMuNu_ROOT_files/Bc2JpsiMuNu_RapidSim_LHCb_Vars_Weights.root\n"
          ]
        },
        {
          "output_type": "execute_result",
          "data": {
            "text/plain": [
              "<TTree 'DecayTree' (172 branches) at 0x7fe4aab21dd0>"
            ]
          },
          "metadata": {},
          "execution_count": 6
        }
      ]
    },
    {
      "cell_type": "code",
      "source": [
        "#Make pandas DataFrame\n",
        "df = events.arrays(library=\"pd\")"
      ],
      "metadata": {
        "id": "aY8SR7-W8Abh"
      },
      "execution_count": 7,
      "outputs": []
    },
    {
      "cell_type": "markdown",
      "source": [
        "Let's make a 1D histogram of the reconstructed $\\cos(\\theta_{J/\\psi})$, with 100 bins and a range from -1 to +1:"
      ],
      "metadata": {
        "id": "-TmwbomPLwS1"
      }
    },
    {
      "cell_type": "code",
      "source": [
        "#Define a histogram object\n",
        "h = Hist(hist.axis.Regular(bins=100, start=-1., stop=1., name=\"costheta_Jpsi\"))\n",
        "#Fill our hist with the variable of interest, taking values from our DataFrame\n",
        "h.fill(df[\"costheta_Jpsi_reco\"])"
      ],
      "metadata": {
        "colab": {
          "base_uri": "https://localhost:8080/",
          "height": 150
        },
        "id": "TJOzyKTs8KC-",
        "outputId": "4b55c3d6-d7fb-4d16-e7c5-d786a90df384"
      },
      "execution_count": 8,
      "outputs": [
        {
          "output_type": "execute_result",
          "data": {
            "text/html": [
              "<html>\n",
              "<div style=\"display:flex; align-items:center;\">\n",
              "<div style=\"width:290px;\">\n",
              "<svg xmlns=\"http://www.w3.org/2000/svg\" viewBox=\"-10 -105 270 120\">\n",
              "<line x1=\"-5\" y1=\"0\" x2=\"255\" y2=\"0\" style=\"fill:none;stroke-width:2;stroke:currentColor\"/>\n",
              "<text text-anchor=\"middle\" x=\"0\" y=\"15\" style=\"fill:currentColor;\">\n",
              "-1\n",
              "</text>\n",
              "<text text-anchor=\"middle\" x=\"250\" y=\"15\" style=\"fill:currentColor;\">\n",
              "1\n",
              "</text>\n",
              "<text text-anchor=\"middle\" x=\"125.0\" y=\"15\" style=\"fill:currentColor;\">\n",
              "costheta_Jpsi\n",
              "</text>\n",
              "<polyline points=\"  0,0   0,-93 2.5,-93 2.5,-91   5,-91   5,-91.6 7.5,-91.6 7.5,-91.5  10,-91.5  10,-92 12.5,-92 12.5,-91.5  15,-91.5  15,-92 17.5,-92 17.5,-94  20,-94  20,-92.6 22.5,-92.6 22.5,-94.3  25,-94.3  25,-92.8 27.5,-92.8 27.5,-93.1  30,-93.1  30,-92.9 32.5,-92.9 32.5,-93.9  35,-93.9  35,-94.2 37.5,-94.2 37.5,-93.7  40,-93.7  40,-95 42.5,-95 42.5,-93.9  45,-93.9  45,-93.9 47.5,-93.9 47.5,-95.9  50,-95.9  50,-95.3 52.5,-95.3 52.5,-95.8  55,-95.8  55,-95.9 57.5,-95.9 57.5,-95.5  60,-95.5  60,-94.8 62.5,-94.8 62.5,-96.7  65,-96.7  65,-95.4 67.5,-95.4 67.5,-98.7  70,-98.7  70,-96.7 72.5,-96.7 72.5,-97.2  75,-97.2  75,-96.8 77.5,-96.8 77.5,-97.1  80,-97.1  80,-98 82.5,-98 82.5,-97.8  85,-97.8  85,-99.4 87.5,-99.4 87.5,-98.2  90,-98.2  90,-98.6 92.5,-98.6 92.5,-99  95,-99  95,-99.7 97.5,-99.7 97.5,-98.9 100,-98.9 100,-98.1 102.5,-98.1 102.5,-98.4 105,-98.4 105,-97.9 107.5,-97.9 107.5,-98.3 110,-98.3 110,-98.2 112.5,-98.2 112.5,-99.5 115,-99.5 115,-98.4 117.5,-98.4 117.5,-98.9 120,-98.9 120,-99.2 122.5,-99.2 122.5,-99.3 125,-99.3 125,-98.5 127.5,-98.5 127.5,-98.7 130,-98.7 130,-99.5 132.5,-99.5 132.5,-99.4 135,-99.4 135,-96.7 137.5,-96.7 137.5,-98.2 140,-98.2 140,-100 142.5,-100 142.5,-98.1 145,-98.1 145,-99.8 147.5,-99.8 147.5,-99.7 150,-99.7 150,-98.6 152.5,-98.6 152.5,-98.7 155,-98.7 155,-95.5 157.5,-95.5 157.5,-98 160,-98 160,-97.7 162.5,-97.7 162.5,-98.7 165,-98.7 165,-99.2 167.5,-99.2 167.5,-97.4 170,-97.4 170,-97.8 172.5,-97.8 172.5,-98.7 175,-98.7 175,-97.5 177.5,-97.5 177.5,-97.9 180,-97.9 180,-97.6 182.5,-97.6 182.5,-96.2 185,-96.2 185,-96 187.5,-96 187.5,-96.6 190,-96.6 190,-97.1 192.5,-97.1 192.5,-96.5 195,-96.5 195,-96.2 197.5,-96.2 197.5,-94.1 200,-94.1 200,-97.9 202.5,-97.9 202.5,-97.4 205,-97.4 205,-93.3 207.5,-93.3 207.5,-93.7 210,-93.7 210,-92.9 212.5,-92.9 212.5,-94.3 215,-94.3 215,-93 217.5,-93 217.5,-93.3 220,-93.3 220,-92.8 222.5,-92.8 222.5,-92.9 225,-92.9 225,-91.6 227.5,-91.6 227.5,-92.1 230,-92.1 230,-93.7 232.5,-93.7 232.5,-93.1 235,-93.1 235,-93.9 237.5,-93.9 237.5,-93.7 240,-93.7 240,-91.7 242.5,-91.7 242.5,-91.5 245,-91.5 245,-92 247.5,-92 247.5,-90.5 250,-90.5 250,0\" style=\"fill:none; stroke:currentColor;\"/>\n",
              "</svg>\n",
              "</div>\n",
              "<div style=\"flex=grow:1;\">\n",
              "Regular(100, -1, 1, name='costheta_Jpsi', label='costheta_Jpsi')<br/>\n",
              "<hr style=\"margin-top:.2em; margin-bottom:.2em;\"/>\n",
              "Double() Σ=912284.0\n",
              "\n",
              "</div>\n",
              "</div>\n",
              "</html>"
            ],
            "text/plain": [
              "Hist(Regular(100, -1, 1, name='costheta_Jpsi', label='costheta_Jpsi'), storage=Double()) # Sum: 912284.0"
            ]
          },
          "metadata": {},
          "execution_count": 8
        }
      ]
    },
    {
      "cell_type": "markdown",
      "source": [
        "We can use the `mplhep` (matplotlib for high energy physics) package to quickly plot our hist:"
      ],
      "metadata": {
        "id": "h8zDWk8oMHaY"
      }
    },
    {
      "cell_type": "code",
      "source": [
        "mplhep.histplot(h)"
      ],
      "metadata": {
        "colab": {
          "base_uri": "https://localhost:8080/",
          "height": 319
        },
        "id": "SDp3CcUF8eXv",
        "outputId": "c2e59f7c-39eb-4e6b-9aec-394a613c36ee"
      },
      "execution_count": 11,
      "outputs": [
        {
          "output_type": "execute_result",
          "data": {
            "text/plain": [
              "[StairsArtists(stairs=<matplotlib.patches.StepPatch object at 0x7fe46cfd7510>, errorbar=<ErrorbarContainer object of 3 artists>, legend_artist=<ErrorbarContainer object of 3 artists>)]"
            ]
          },
          "metadata": {},
          "execution_count": 11
        },
        {
          "output_type": "display_data",
          "data": {
            "image/png": "[encoded data removed]",
            "text/plain": [
              "<Figure size 432x288 with 1 Axes>"
            ]
          },
          "metadata": {
            "needs_background": "light"
          }
        }
      ]
    },
    {
      "cell_type": "markdown",
      "source": [
        "We can also make histograms with weights applied, which will be important for the purposes of our fit. To do this, we supply a weight column of our DataFrame to the `fill()` funcion."
      ],
      "metadata": {
        "id": "XLZJwRLAMWbN"
      }
    },
    {
      "cell_type": "code",
      "source": [
        "#A histogram of costheta_Jpsi_reco with weight applied for term 1 in the angular fit\n",
        "h_1 = (\n",
        "     Hist.new\n",
        "    .Regular(100, -1., 1., name=\"costheta_Jpsi_reco_1\")\n",
        "    .Weight()\n",
        ")"
      ],
      "metadata": {
        "id": "SJ8Q4RND8j4O"
      },
      "execution_count": 16,
      "outputs": []
    },
    {
      "cell_type": "code",
      "source": [
        "h_1.fill(df[\"costheta_Jpsi_reco\"], weight=df[\"weight_1\"])"
      ],
      "metadata": {
        "colab": {
          "base_uri": "https://localhost:8080/",
          "height": 150
        },
        "id": "L1LTObYk9LsQ",
        "outputId": "1467f93a-bc01-4673-fa5e-5b2dd8c14fac"
      },
      "execution_count": 17,
      "outputs": [
        {
          "output_type": "execute_result",
          "data": {
            "text/html": [
              "<html>\n",
              "<div style=\"display:flex; align-items:center;\">\n",
              "<div style=\"width:290px;\">\n",
              "<svg xmlns=\"http://www.w3.org/2000/svg\" viewBox=\"-10 -105 270 120\">\n",
              "<line x1=\"-5\" y1=\"0\" x2=\"255\" y2=\"0\" style=\"fill:none;stroke-width:2;stroke:currentColor\"/>\n",
              "<text text-anchor=\"middle\" x=\"0\" y=\"15\" style=\"fill:currentColor;\">\n",
              "-1\n",
              "</text>\n",
              "<text text-anchor=\"middle\" x=\"250\" y=\"15\" style=\"fill:currentColor;\">\n",
              "1\n",
              "</text>\n",
              "<text text-anchor=\"middle\" x=\"125.0\" y=\"15\" style=\"fill:currentColor;\">\n",
              "costheta_Jpsi_reco_1\n",
              "</text>\n",
              "<polyline points=\"  0,0   0,-97.3 2.5,-97.3 2.5,-93.6   5,-93.6   5,-95.5 7.5,-95.5 7.5,-94  10,-94  10,-91.9 12.5,-91.9 12.5,-90.6  15,-90.6  15,-89.8 17.5,-89.8 17.5,-94.8  20,-94.8  20,-87.6 22.5,-87.6 22.5,-87.7  25,-87.7  25,-81 27.5,-81 27.5,-83.3  30,-83.3  30,-82.5 32.5,-82.5 32.5,-84.3  35,-84.3  35,-82.9 37.5,-82.9 37.5,-80.1  40,-80.1  40,-81.6 42.5,-81.6 42.5,-77.7  45,-77.7  45,-77.4 47.5,-77.4 47.5,-76.1  50,-76.1  50,-73.7 52.5,-73.7 52.5,-75.8  55,-75.8  55,-76.6 57.5,-76.6 57.5,-75.4  60,-75.4  60,-71.7 62.5,-71.7 62.5,-71.4  65,-71.4  65,-70.8 67.5,-70.8 67.5,-72.6  70,-72.6  70,-70.6 72.5,-70.6 72.5,-70  75,-70  75,-66.3 77.5,-66.3 77.5,-67.9  80,-67.9  80,-68.8 82.5,-68.8 82.5,-69.3  85,-69.3  85,-67.8 87.5,-67.8 87.5,-67.4  90,-67.4  90,-66.1 92.5,-66.1 92.5,-65.8  95,-65.8  95,-66 97.5,-66 97.5,-65.5 100,-65.5 100,-65.1 102.5,-65.1 102.5,-63.3 105,-63.3 105,-62.7 107.5,-62.7 107.5,-62.5 110,-62.5 110,-63.9 112.5,-63.9 112.5,-64.6 115,-64.6 115,-61.4 117.5,-61.4 117.5,-62.5 120,-62.5 120,-64.3 122.5,-64.3 122.5,-63.3 125,-63.3 125,-63.3 127.5,-63.3 127.5,-61.9 130,-61.9 130,-62.3 132.5,-62.3 132.5,-63.8 135,-63.8 135,-63.8 137.5,-63.8 137.5,-64.2 140,-64.2 140,-65.7 142.5,-65.7 142.5,-62.9 145,-62.9 145,-64 147.5,-64 147.5,-64.1 150,-64.1 150,-64.9 152.5,-64.9 152.5,-65.6 155,-65.6 155,-63.7 157.5,-63.7 157.5,-67.5 160,-67.5 160,-64.5 162.5,-64.5 162.5,-66.9 165,-66.9 165,-67.5 167.5,-67.5 167.5,-66.8 170,-66.8 170,-70.4 172.5,-70.4 172.5,-67.7 175,-67.7 175,-69.2 177.5,-69.2 177.5,-71.9 180,-71.9 180,-71.6 182.5,-71.6 182.5,-71.8 185,-71.8 185,-71.8 187.5,-71.8 187.5,-73.6 190,-73.6 190,-74.7 192.5,-74.7 192.5,-73.7 195,-73.7 195,-72.8 197.5,-72.8 197.5,-73.9 200,-73.9 200,-80.6 202.5,-80.6 202.5,-79.9 205,-79.9 205,-77.2 207.5,-77.2 207.5,-79.7 210,-79.7 210,-78.2 212.5,-78.2 212.5,-81.9 215,-81.9 215,-82.5 217.5,-82.5 217.5,-85 220,-85 220,-83.8 222.5,-83.8 222.5,-87.3 225,-87.3 225,-84.6 227.5,-84.6 227.5,-89.1 230,-89.1 230,-94.2 232.5,-94.2 232.5,-92.8 235,-92.8 235,-92.7 237.5,-92.7 237.5,-95.2 240,-95.2 240,-94.2 242.5,-94.2 242.5,-96.1 245,-96.1 245,-98.8 247.5,-98.8 247.5,-100 250,-100 250,0\" style=\"fill:none; stroke:currentColor;\"/>\n",
              "</svg>\n",
              "</div>\n",
              "<div style=\"flex=grow:1;\">\n",
              "Regular(100, -1, 1, name='costheta_Jpsi_reco_1', label='costheta_Jpsi_reco_1')<br/>\n",
              "<hr style=\"margin-top:.2em; margin-bottom:.2em;\"/>\n",
              "Weight() Σ=WeightedSum(value=944039, variance=3.25513e+06)\n",
              "\n",
              "</div>\n",
              "</div>\n",
              "</html>"
            ],
            "text/plain": [
              "Hist(Regular(100, -1, 1, name='costheta_Jpsi_reco_1', label='costheta_Jpsi_reco_1'), storage=Weight()) # Sum: WeightedSum(value=944039, variance=3.25513e+06)"
            ]
          },
          "metadata": {},
          "execution_count": 17
        }
      ]
    },
    {
      "cell_type": "code",
      "source": [
        "mplhep.histplot(h_1)"
      ],
      "metadata": {
        "colab": {
          "base_uri": "https://localhost:8080/",
          "height": 317
        },
        "id": "Ns9Low6j9eSw",
        "outputId": "ae5d6962-0194-41a1-b2c6-fb82e596fcab"
      },
      "execution_count": 18,
      "outputs": [
        {
          "output_type": "execute_result",
          "data": {
            "text/plain": [
              "[StairsArtists(stairs=<matplotlib.patches.StepPatch object at 0x7fe464499810>, errorbar=<ErrorbarContainer object of 3 artists>, legend_artist=<ErrorbarContainer object of 3 artists>)]"
            ]
          },
          "metadata": {},
          "execution_count": 18
        },
        {
          "output_type": "display_data",
          "data": {
            "image/png": "[encoded data removed]",
            "text/plain": [
              "<Figure size 432x288 with 1 Axes>"
            ]
          },
          "metadata": {
            "needs_background": "light"
          }
        }
      ]
    },
    {
      "cell_type": "markdown",
      "source": [
        "We aren't limited to 1D histograms either! We can make a histogram with any number of dimensions using `Hist`. In this analysis, we'll want to fit the 3D angular distribution. So we can try to make a 3D histogram."
      ],
      "metadata": {
        "id": "chl289nrMiUq"
      }
    },
    {
      "cell_type": "code",
      "source": [
        "#3D histogram in all three decay angles with weights applied for term 0\n",
        "#10 bins in each angle = 10^3 = 1000 bins in total\n",
        "hist3D_0 = (\n",
        "     Hist.new\n",
        "    .Regular(10, -1., 1., name=\"costheta_Jpsi\")\n",
        "    .Regular(10, -1., 1., name=\"costheta_W\")\n",
        "    .Regular(10, -np.pi, np.pi, name=\"chi\")\n",
        "    .Weight()\n",
        ")"
      ],
      "metadata": {
        "id": "IImZldZ29kbM"
      },
      "execution_count": 19,
      "outputs": []
    },
    {
      "cell_type": "code",
      "source": [
        "hist3D_0.fill(df[\"costheta_Jpsi_reco\"], df[\"costheta_W_reco\"], df[\"chi_reco\"], weight=df[\"weight_0\"])"
      ],
      "metadata": {
        "colab": {
          "base_uri": "https://localhost:8080/",
          "height": 306
        },
        "id": "2QNxu76M-WPb",
        "outputId": "f7a52dfa-cba8-4119-e898-b990bc08b97f"
      },
      "execution_count": 23,
      "outputs": [
        {
          "output_type": "execute_result",
          "data": {
            "text/html": [
              "<html>\n",
              "<div style=\"display:flex; align-items:center;\">\n",
              "<div style=\"width:290px;\">\n",
              "<svg xmlns=\"http://www.w3.org/2000/svg\" viewBox=\"-10 -10 220 220\">\n",
              "<rect x=\"0\" y=\"0\" width=\"160\" height=\"160\" style=\"fill:white;opacity:.5;stroke-width:2;stroke:currentColor;\"/>\n",
              "<rect x=\"20\" y=\"20\" width=\"160\" height=\"160\" style=\"fill:white;opacity:.5;stroke-width:2;stroke:currentColor;\"/>\n",
              "<rect x=\"40\" y=\"40\" width=\"160\" height=\"160\" style=\"fill:white;opacity:.5;stroke-width:2;stroke:currentColor;\"/>\n",
              "<text x=\"120.0\" y=\"120.0\" style=\"font-size: 26pt; font-family: verdana; font-style: bold; fill: black;\" text-anchor=\"middle\" alignment-baseline=\"middle\">\n",
              "3D\n",
              "</text>\n",
              "</svg>\n",
              "</div>\n",
              "<div style=\"flex=grow:1;\">\n",
              "Regular(10, -1, 1, name='costheta_Jpsi', label='costheta_Jpsi')<br/>\n",
              "Regular(10, -1, 1, name='costheta_W', label='costheta_W')<br/>\n",
              "Regular(10, -3.14159, 3.14159, name='chi', label='chi')<br/>\n",
              "<hr style=\"margin-top:.2em; margin-bottom:.2em;\"/>\n",
              "Weight() Σ=WeightedSum(value=907913, variance=1.17846e+06) <em>(WeightedSum(value=909000, variance=1.17989e+06) with flow)</em>\n",
              "\n",
              "</div>\n",
              "</div>\n",
              "</html>"
            ],
            "text/plain": [
              "Hist(\n",
              "  Regular(10, -1, 1, name='costheta_Jpsi', label='costheta_Jpsi'),\n",
              "  Regular(10, -1, 1, name='costheta_W', label='costheta_W'),\n",
              "  Regular(10, -3.14159, 3.14159, name='chi', label='chi'),\n",
              "  storage=Weight()) # Sum: WeightedSum(value=907913, variance=1.17846e+06) (WeightedSum(value=909000, variance=1.17989e+06) with flow)"
            ]
          },
          "metadata": {},
          "execution_count": 23
        }
      ]
    },
    {
      "cell_type": "markdown",
      "source": [
        "It can be useful to keep sets of useful objects, like histograms, in a dictionary. Then we can access them via their `key` (the name we give them inside square brackets) in the dictionary at a later stage.\n",
        "\n",
        "Here we loop over the 6 angular terms we have, making histograms for each angular term. Notice that we are using our `weight_{0..5}` branches here, to apply the corresponding weights for each angular term."
      ],
      "metadata": {
        "id": "0lMpx-ZBNaYn"
      }
    },
    {
      "cell_type": "code",
      "source": [
        "#Make histograms for each angular term\n",
        "all_h = {}\n",
        "\n",
        "for i in range(0,6):\n",
        "  all_h[i] = (\n",
        "      Hist.new\n",
        "      .Regular(10, -1., 1., name=\"costheta_Jpsi\")\n",
        "      .Regular(10, -1., 1., name=\"costheta_W\")\n",
        "      .Regular(10, -np.pi, np.pi, name=\"chi\")\n",
        "      .Weight()\n",
        "  )\n",
        "  all_h[i].fill(df[\"costheta_Jpsi_reco\"], df[\"costheta_W_reco\"], df[\"chi_reco\"], weight=df[f\"weight_{i}\"])"
      ],
      "metadata": {
        "id": "Pc1pdY3L-f8e"
      },
      "execution_count": 24,
      "outputs": []
    },
    {
      "cell_type": "code",
      "source": [
        "all_h"
      ],
      "metadata": {
        "colab": {
          "base_uri": "https://localhost:8080/"
        },
        "id": "kjkVLH6e_YP_",
        "outputId": "8e908ac5-6e44-4454-d25e-7e5686d65ba0"
      },
      "execution_count": 25,
      "outputs": [
        {
          "output_type": "execute_result",
          "data": {
            "text/plain": [
              "{0: Hist(\n",
              "   Regular(10, -1, 1, name='costheta_Jpsi', label='costheta_Jpsi'),\n",
              "   Regular(10, -1, 1, name='costheta_W', label='costheta_W'),\n",
              "   Regular(10, -3.14159, 3.14159, name='chi', label='chi'),\n",
              "   storage=Weight()) # Sum: WeightedSum(value=907913, variance=1.17846e+06) (WeightedSum(value=909000, variance=1.17989e+06) with flow),\n",
              " 1: Hist(\n",
              "   Regular(10, -1, 1, name='costheta_Jpsi', label='costheta_Jpsi'),\n",
              "   Regular(10, -1, 1, name='costheta_W', label='costheta_W'),\n",
              "   Regular(10, -3.14159, 3.14159, name='chi', label='chi'),\n",
              "   storage=Weight()) # Sum: WeightedSum(value=941657, variance=3.24465e+06) (WeightedSum(value=944039, variance=3.25513e+06) with flow),\n",
              " 2: Hist(\n",
              "   Regular(10, -1, 1, name='costheta_Jpsi', label='costheta_Jpsi'),\n",
              "   Regular(10, -1, 1, name='costheta_W', label='costheta_W'),\n",
              "   Regular(10, -3.14159, 3.14159, name='chi', label='chi'),\n",
              "   storage=Weight()) # Sum: WeightedSum(value=904266, variance=1.41156e+06) (WeightedSum(value=904749, variance=1.41217e+06) with flow),\n",
              " 3: Hist(\n",
              "   Regular(10, -1, 1, name='costheta_Jpsi', label='costheta_Jpsi'),\n",
              "   Regular(10, -1, 1, name='costheta_W', label='costheta_W'),\n",
              "   Regular(10, -3.14159, 3.14159, name='chi', label='chi'),\n",
              "   storage=Weight()) # Sum: WeightedSum(value=2463.12, variance=348317) (WeightedSum(value=2516.91, variance=349100) with flow),\n",
              " 4: Hist(\n",
              "   Regular(10, -1, 1, name='costheta_Jpsi', label='costheta_Jpsi'),\n",
              "   Regular(10, -1, 1, name='costheta_W', label='costheta_W'),\n",
              "   Regular(10, -3.14159, 3.14159, name='chi', label='chi'),\n",
              "   storage=Weight()) # Sum: WeightedSum(value=-3537.48, variance=232365) (WeightedSum(value=-3550.58, variance=232536) with flow),\n",
              " 5: Hist(\n",
              "   Regular(10, -1, 1, name='costheta_Jpsi', label='costheta_Jpsi'),\n",
              "   Regular(10, -1, 1, name='costheta_W', label='costheta_W'),\n",
              "   Regular(10, -3.14159, 3.14159, name='chi', label='chi'),\n",
              "   storage=Weight()) # Sum: WeightedSum(value=-3849.33, variance=148192) (WeightedSum(value=-3819.49, variance=148372) with flow)}"
            ]
          },
          "metadata": {},
          "execution_count": 25
        }
      ]
    },
    {
      "cell_type": "markdown",
      "source": [
        "We can also be a bit smarter and define a general dictionary of variables. Inside this, we can put names for our x, y, and z variables, number of bins, min and max values, and a LaTeX name for plotting."
      ],
      "metadata": {
        "id": "Y8wWR8vFOJ1r"
      }
    },
    {
      "cell_type": "code",
      "source": [
        "vars = {}\n",
        "vars[\"x_var\"] = {\"name\": \"costheta_Jpsi_reco\", \"min\": -1., \"max\": 1., \"bins\": 10, \"latex\": \"$\\\\cos(\\\\theta_{J/\\\\psi})$\"}\n",
        "vars[\"y_var\"] = {\"name\": \"costheta_W_reco\", \"min\": -1., \"max\": 1., \"bins\": 10, \"latex\": \"$\\\\cos(\\\\theta_{W})$\"}\n",
        "vars[\"z_var\"] = {\"name\": \"chi_reco\", \"min\": -np.pi, \"max\": np.pi, \"bins\": 10, \"latex\": \"$\\\\chi$ [rad]\"}\n",
        "vars"
      ],
      "metadata": {
        "colab": {
          "base_uri": "https://localhost:8080/"
        },
        "id": "21R3c5eS_Zwd",
        "outputId": "6d846e70-67ff-4bdf-84f4-9cd64a6b569d"
      },
      "execution_count": 37,
      "outputs": [
        {
          "output_type": "execute_result",
          "data": {
            "text/plain": [
              "{'x_var': {'bins': 10,\n",
              "  'latex': '$\\\\cos(\\\\theta_{J/\\\\psi})$',\n",
              "  'max': 1.0,\n",
              "  'min': -1.0,\n",
              "  'name': 'costheta_Jpsi_reco'},\n",
              " 'y_var': {'bins': 10,\n",
              "  'latex': '$\\\\cos(\\\\theta_{W})$',\n",
              "  'max': 1.0,\n",
              "  'min': -1.0,\n",
              "  'name': 'costheta_W_reco'},\n",
              " 'z_var': {'bins': 10,\n",
              "  'latex': '$\\\\chi$ [rad]',\n",
              "  'max': 3.141592653589793,\n",
              "  'min': -3.141592653589793,\n",
              "  'name': 'chi_reco'}}"
            ]
          },
          "metadata": {},
          "execution_count": 37
        }
      ]
    },
    {
      "cell_type": "markdown",
      "source": [
        "Now we can use values from this `vars` dictionary when making our set of histograms:"
      ],
      "metadata": {
        "id": "K8juaINxOf90"
      }
    },
    {
      "cell_type": "code",
      "source": [
        "all_h = {}\n",
        "\n",
        "#Loop over each of our angular decay rate terms \n",
        "for i in range(0,6):\n",
        "  all_h[i] = (\n",
        "      Hist.new\n",
        "      .Regular(vars[\"x_var\"][\"bins\"], vars[\"x_var\"][\"min\"], vars[\"x_var\"][\"max\"], name=vars[\"x_var\"][\"name\"])\n",
        "      .Regular(vars[\"y_var\"][\"bins\"], vars[\"y_var\"][\"min\"], vars[\"y_var\"][\"max\"], name=vars[\"y_var\"][\"name\"])\n",
        "      .Regular(vars[\"z_var\"][\"bins\"], vars[\"z_var\"][\"min\"], vars[\"z_var\"][\"max\"], name=vars[\"z_var\"][\"name\"])\n",
        "      .Weight()\n",
        "  )\n",
        "  all_h[i].fill(df[vars[\"x_var\"][\"name\"]], \n",
        "                df[vars[\"y_var\"][\"name\"]], \n",
        "                df[vars[\"z_var\"][\"name\"]], \n",
        "                weight=df[f\"weight_{i}\"])"
      ],
      "metadata": {
        "id": "5pTisi3G_xOM"
      },
      "execution_count": 28,
      "outputs": []
    },
    {
      "cell_type": "markdown",
      "source": [
        "So far we have made histograms that have equal width bins. It is also possible to make histograms where you pass in a list of the bin edges. One useful binning scheme is to place equal numbers of events into each bin. We can make use of the `qcut` functionality in `pandas` to help us do this."
      ],
      "metadata": {
        "id": "NgY0qvevOnfX"
      }
    },
    {
      "cell_type": "code",
      "source": [
        "#Above binning schemes have equal width bins - we can also make binnings that have equal events per bin \n",
        "def get_binning(df):\n",
        "  \n",
        "  qc_bin_vals = {}\n",
        "\n",
        "  for v in vars:\n",
        "    qc = pd.qcut(df[vars[v][\"name\"]], q=vars[v][\"bins\"], precision=5)\n",
        "    qc_bins = qc.unique()\n",
        "    qc_bin_vals[v] = []\n",
        "    for j in range(0,vars[v][\"bins\"]):\n",
        "      qc_bin_vals[v].append(qc_bins[j].left)\n",
        "      qc_bin_vals[v].append(qc_bins[j].right)\n",
        "    #Retain unique values then sort\n",
        "    qc_bin_vals[v] = list(set(qc_bin_vals[v]))\n",
        "    qc_bin_vals[v].sort()\n",
        "\n",
        "    qc_bin_vals[v][0] = vars[v][\"min\"]\n",
        "    qc_bin_vals[v][-1] = vars[v][\"max\"]\n",
        "\n",
        "    print(f\"Binning for {vars[v]['name']}: {qc_bin_vals[v]}\")\n",
        "\n",
        "  return qc_bin_vals"
      ],
      "metadata": {
        "id": "SXXKdhgRAbC-"
      },
      "execution_count": 32,
      "outputs": []
    },
    {
      "cell_type": "code",
      "source": [
        "binnings = get_binning(df)"
      ],
      "metadata": {
        "colab": {
          "base_uri": "https://localhost:8080/"
        },
        "id": "Za7ZlRY6JsFL",
        "outputId": "a0f5703c-d729-48f4-9093-36d1fd1a31ba"
      },
      "execution_count": 34,
      "outputs": [
        {
          "output_type": "stream",
          "name": "stdout",
          "text": [
            "Binning for costheta_Jpsi_reco: [-1.0, -0.79216, -0.58822, -0.38891, -0.19395, 0.00055617, 0.19486, 0.39035, 0.5888, 0.79242, 1.0]\n",
            "Binning for costheta_W_reco: [-1.0, -0.46394, -0.12545, 0.13095, 0.33459, 0.50304, 0.64358, 0.76183, 0.861, 0.94157, 1.0]\n",
            "Binning for chi_reco: [-3.141592653589793, -2.42962, -1.84089, -1.30021, -0.71122, 0.0043844, 0.71329, 1.29936, 1.83985, 2.42724, 3.141592653589793]\n"
          ]
        }
      ]
    },
    {
      "cell_type": "code",
      "source": [
        "binnings"
      ],
      "metadata": {
        "colab": {
          "base_uri": "https://localhost:8080/"
        },
        "id": "aTN3ERx6JvY2",
        "outputId": "5e41e452-3e7f-4c96-cff3-1431ede3fd0f"
      },
      "execution_count": 38,
      "outputs": [
        {
          "output_type": "execute_result",
          "data": {
            "text/plain": [
              "{'x_var': [-1.0,\n",
              "  -0.79216,\n",
              "  -0.58822,\n",
              "  -0.38891,\n",
              "  -0.19395,\n",
              "  0.00055617,\n",
              "  0.19486,\n",
              "  0.39035,\n",
              "  0.5888,\n",
              "  0.79242,\n",
              "  1.0],\n",
              " 'y_var': [-1.0,\n",
              "  -0.46394,\n",
              "  -0.12545,\n",
              "  0.13095,\n",
              "  0.33459,\n",
              "  0.50304,\n",
              "  0.64358,\n",
              "  0.76183,\n",
              "  0.861,\n",
              "  0.94157,\n",
              "  1.0],\n",
              " 'z_var': [-3.141592653589793,\n",
              "  -2.42962,\n",
              "  -1.84089,\n",
              "  -1.30021,\n",
              "  -0.71122,\n",
              "  0.0043844,\n",
              "  0.71329,\n",
              "  1.29936,\n",
              "  1.83985,\n",
              "  2.42724,\n",
              "  3.141592653589793]}"
            ]
          },
          "metadata": {},
          "execution_count": 38
        }
      ]
    },
    {
      "cell_type": "markdown",
      "source": [
        "Now we can use the values from our `binnings` dictionary to make a set of histograms with our new non-uniform binning scheme."
      ],
      "metadata": {
        "id": "x6HRMXe9O7MR"
      }
    },
    {
      "cell_type": "code",
      "source": [
        "all_h = {}\n",
        "\n",
        "#Loop over each of our angular decay rate terms \n",
        "for i in range(0,6):\n",
        "  all_h[i] = (\n",
        "      Hist.new\n",
        "      .Variable(binnings[\"x_var\"], name=vars[\"x_var\"][\"name\"])\n",
        "      .Variable(binnings[\"y_var\"], name=vars[\"y_var\"][\"name\"])\n",
        "      .Variable(binnings[\"z_var\"], name=vars[\"z_var\"][\"name\"])\n",
        "      .Weight()\n",
        "  )\n",
        "  all_h[i].fill(df[vars[\"x_var\"][\"name\"]], \n",
        "                df[vars[\"y_var\"][\"name\"]], \n",
        "                df[vars[\"z_var\"][\"name\"]], \n",
        "                weight=df[f\"weight_{i}\"])"
      ],
      "metadata": {
        "id": "YSwnXH7PKQFU"
      },
      "execution_count": 36,
      "outputs": []
    },
    {
      "cell_type": "markdown",
      "source": [
        "One final step to prepare our histograms for use as fit templates is to normalise them all. We do this by calculating the sum of all bins in the first histogram we make, and then dividing all of the histograms by that same sum. "
      ],
      "metadata": {
        "id": "d1uoSbZ1Pzg3"
      }
    },
    {
      "cell_type": "code",
      "source": [
        "norm = None\n",
        "\n",
        "all_h_norm = {}\n",
        "\n",
        "for i in range(0,6):\n",
        "  if not norm:\n",
        "    norm = np.sum(all_h[i].values())\n",
        "    print(f\"Normalisation: {norm}\")\n",
        "  all_h_norm[i] = all_h[i] / norm"
      ],
      "metadata": {
        "colab": {
          "base_uri": "https://localhost:8080/"
        },
        "id": "bGOVExjHKrYt",
        "outputId": "a1e0063d-1402-468d-e94a-f0ff819eda38"
      },
      "execution_count": 42,
      "outputs": [
        {
          "output_type": "stream",
          "name": "stdout",
          "text": [
            "Normalisation: 907912.7872448382\n"
          ]
        }
      ]
    },
    {
      "cell_type": "markdown",
      "source": [
        "Let's save our histograms for use in future analysis. We can store them in a pickle file:"
      ],
      "metadata": {
        "id": "B_VwMdJrQ5C-"
      }
    },
    {
      "cell_type": "code",
      "source": [
        "hist_path = \"/content/drive/MyDrive/Bc2JpsiMuNu_Analysis/pickle\"\n",
        "for h in all_h_norm:  \n",
        "  with open(f\"{hist_path}/hist_{h}.pkl\", \"wb\") as f:\n",
        "    pickle.dump(all_h_norm[h], f)"
      ],
      "metadata": {
        "id": "yjLvXjRZQYJn"
      },
      "execution_count": 45,
      "outputs": []
    },
    {
      "cell_type": "markdown",
      "source": [
        "We have now created 3D histogram templates for each term in our angular decay rate. The histograms are defined in our reconstructed angular variable space, which is the space that a real data analysis would operate in (we don't have access to the true angles in real data!). We will want to use these templates to try and perform a fit to the 3D reconstructed angular distribution, in order to measure the helicity amplitudes. This fit will be the binned equivalent of the fit we did to the truth-level angles in our earlier zfit notebook."
      ],
      "metadata": {
        "id": "V-GzofJtR1e4"
      }
    }
  ]
}