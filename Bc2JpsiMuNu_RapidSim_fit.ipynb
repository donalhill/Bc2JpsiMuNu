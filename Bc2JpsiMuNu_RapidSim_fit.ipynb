{
  "nbformat": 4,
  "nbformat_minor": 0,
  "metadata": {
    "colab": {
      "name": "Bc2JpsiMuNu_RapidSim_fit.ipynb",
      "provenance": [],
      "collapsed_sections": [],
      "toc_visible": true,
      "mount_file_id": "1hs5w4cAj7O2WD1YTmS_ATwvAjy1d7Ufg",
      "authorship_tag": "ABX9TyOXQ/XmPLqIWU0gmO3wbeTn",
      "include_colab_link": true
    },
    "kernelspec": {
      "name": "python3",
      "display_name": "Python 3"
    },
    "language_info": {
      "name": "python"
    }
  },
  "cells": [
    {
      "cell_type": "markdown",
      "metadata": {
        "id": "view-in-github",
        "colab_type": "text"
      },
      "source": [
        "<a href=\"https://colab.research.google.com/github/donalrinho/Bc2JpsiMuNu/blob/main/Bc2JpsiMuNu_RapidSim_fit.ipynb\" target=\"_parent\"><img src=\"https://colab.research.google.com/assets/colab-badge.svg\" alt=\"Open In Colab\"/></a>"
      ]
    },
    {
      "cell_type": "markdown",
      "source": [
        "# Fitting the $B_c^+ \\to J/\\psi \\mu^+ \\nu_\\mu$ RapidSim MC angular distribution\n",
        "\n",
        "In this notebook, we perform a 3D fit to the anglular distribution of the $B_c^+ \\to J/\\psi \\mu^+ \\nu_\\mu$ decay. Our goal is to measure the helicity amplitudes which parameterise the decay. The angular distribution is defined in [this paper](https://arxiv.org/pdf/2007.06956.pdf) Table I. The values of the helicity parameters we measure will correspond to those used to generate the $B_c^+ \\to J/\\psi \\mu^+ \\nu_\\mu$ RapidSim MC. In real life, we would want to measure these parameters in real data, to understand the underlying physics of the decay.\n",
        "\n",
        "## The helicity amplitudes \n",
        "\n",
        "The helicity amplitudes $H$ are complex numbers with a magnitude and a phase each. By convention, we have:\n",
        " - Three helicity amplitudes called $H_0$, $H_+$, and $H_-$.\n",
        " - These helicity amplitudes have magnitudes $|H_0|$, $|H_+|$, and $|H_-|$. They are related by the expression $|H_0|^2 + |H_-|^2 + |H_+|^2 = 1$, which means we only need to measure two of these magnitudes in order to know all three.\n",
        " - Each helicity amplitude also has a phase, so we have $\\phi_0$, $\\phi_+$, and $\\phi_-$. One of these is not physically meaningful, as only relative phases are observable. So in practice we set $\\phi_0 = 0$, and then measure $\\phi_+$ and $\\phi_-$ relative to this. In practice, non-zero values for these phases represent interference between the $H_{+/-}$ helicity amplitudes and the $H_0$ one. "
      ],
      "metadata": {
        "id": "gCySGsanPsb3"
      }
    },
    {
      "cell_type": "code",
      "execution_count": 1,
      "metadata": {
        "colab": {
          "base_uri": "https://localhost:8080/"
        },
        "id": "gHdcl4fRPmIM",
        "outputId": "fce06f14-7850-419a-e452-38ef824c902a"
      },
      "outputs": [
        {
          "output_type": "stream",
          "name": "stdout",
          "text": [
            "Requirement already satisfied: uproot in /usr/local/lib/python3.7/dist-packages (4.1.9)\n",
            "Requirement already satisfied: setuptools in /usr/local/lib/python3.7/dist-packages (from uproot) (57.4.0)\n",
            "Requirement already satisfied: numpy in /usr/local/lib/python3.7/dist-packages (from uproot) (1.19.5)\n",
            "Requirement already satisfied: tensorflow==2.6.0 in /usr/local/lib/python3.7/dist-packages (2.6.0)\n",
            "Requirement already satisfied: absl-py~=0.10 in /usr/local/lib/python3.7/dist-packages (from tensorflow==2.6.0) (0.12.0)\n",
            "Requirement already satisfied: numpy~=1.19.2 in /usr/local/lib/python3.7/dist-packages (from tensorflow==2.6.0) (1.19.5)\n",
            "Requirement already satisfied: astunparse~=1.6.3 in /usr/local/lib/python3.7/dist-packages (from tensorflow==2.6.0) (1.6.3)\n",
            "Requirement already satisfied: grpcio<2.0,>=1.37.0 in /usr/local/lib/python3.7/dist-packages (from tensorflow==2.6.0) (1.43.0)\n",
            "Requirement already satisfied: h5py~=3.1.0 in /usr/local/lib/python3.7/dist-packages (from tensorflow==2.6.0) (3.1.0)\n",
            "Requirement already satisfied: opt-einsum~=3.3.0 in /usr/local/lib/python3.7/dist-packages (from tensorflow==2.6.0) (3.3.0)\n",
            "Requirement already satisfied: tensorboard~=2.6 in /usr/local/lib/python3.7/dist-packages (from tensorflow==2.6.0) (2.6.0)\n",
            "Requirement already satisfied: flatbuffers~=1.12.0 in /usr/local/lib/python3.7/dist-packages (from tensorflow==2.6.0) (1.12)\n",
            "Requirement already satisfied: tensorflow-estimator~=2.6 in /usr/local/lib/python3.7/dist-packages (from tensorflow==2.6.0) (2.6.0)\n",
            "Requirement already satisfied: termcolor~=1.1.0 in /usr/local/lib/python3.7/dist-packages (from tensorflow==2.6.0) (1.1.0)\n",
            "Requirement already satisfied: keras-preprocessing~=1.1.2 in /usr/local/lib/python3.7/dist-packages (from tensorflow==2.6.0) (1.1.2)\n",
            "Requirement already satisfied: wrapt~=1.12.1 in /usr/local/lib/python3.7/dist-packages (from tensorflow==2.6.0) (1.12.1)\n",
            "Requirement already satisfied: gast==0.4.0 in /usr/local/lib/python3.7/dist-packages (from tensorflow==2.6.0) (0.4.0)\n",
            "Requirement already satisfied: keras~=2.6 in /usr/local/lib/python3.7/dist-packages (from tensorflow==2.6.0) (2.6.0)\n",
            "Requirement already satisfied: six~=1.15.0 in /usr/local/lib/python3.7/dist-packages (from tensorflow==2.6.0) (1.15.0)\n",
            "Requirement already satisfied: protobuf>=3.9.2 in /usr/local/lib/python3.7/dist-packages (from tensorflow==2.6.0) (3.17.3)\n",
            "Requirement already satisfied: clang~=5.0 in /usr/local/lib/python3.7/dist-packages (from tensorflow==2.6.0) (5.0)\n",
            "Requirement already satisfied: google-pasta~=0.2 in /usr/local/lib/python3.7/dist-packages (from tensorflow==2.6.0) (0.2.0)\n",
            "Requirement already satisfied: wheel~=0.35 in /usr/local/lib/python3.7/dist-packages (from tensorflow==2.6.0) (0.37.1)\n",
            "Requirement already satisfied: typing-extensions~=3.7.4 in /usr/local/lib/python3.7/dist-packages (from tensorflow==2.6.0) (3.7.4.3)\n",
            "Requirement already satisfied: cached-property in /usr/local/lib/python3.7/dist-packages (from h5py~=3.1.0->tensorflow==2.6.0) (1.5.2)\n",
            "Requirement already satisfied: markdown>=2.6.8 in /usr/local/lib/python3.7/dist-packages (from tensorboard~=2.6->tensorflow==2.6.0) (3.3.6)\n",
            "Requirement already satisfied: google-auth<2,>=1.6.3 in /usr/local/lib/python3.7/dist-packages (from tensorboard~=2.6->tensorflow==2.6.0) (1.35.0)\n",
            "Requirement already satisfied: requests<3,>=2.21.0 in /usr/local/lib/python3.7/dist-packages (from tensorboard~=2.6->tensorflow==2.6.0) (2.23.0)\n",
            "Requirement already satisfied: google-auth-oauthlib<0.5,>=0.4.1 in /usr/local/lib/python3.7/dist-packages (from tensorboard~=2.6->tensorflow==2.6.0) (0.4.6)\n",
            "Requirement already satisfied: tensorboard-data-server<0.7.0,>=0.6.0 in /usr/local/lib/python3.7/dist-packages (from tensorboard~=2.6->tensorflow==2.6.0) (0.6.1)\n",
            "Requirement already satisfied: tensorboard-plugin-wit>=1.6.0 in /usr/local/lib/python3.7/dist-packages (from tensorboard~=2.6->tensorflow==2.6.0) (1.8.1)\n",
            "Requirement already satisfied: werkzeug>=0.11.15 in /usr/local/lib/python3.7/dist-packages (from tensorboard~=2.6->tensorflow==2.6.0) (1.0.1)\n",
            "Requirement already satisfied: setuptools>=41.0.0 in /usr/local/lib/python3.7/dist-packages (from tensorboard~=2.6->tensorflow==2.6.0) (57.4.0)\n",
            "Requirement already satisfied: pyasn1-modules>=0.2.1 in /usr/local/lib/python3.7/dist-packages (from google-auth<2,>=1.6.3->tensorboard~=2.6->tensorflow==2.6.0) (0.2.8)\n",
            "Requirement already satisfied: rsa<5,>=3.1.4 in /usr/local/lib/python3.7/dist-packages (from google-auth<2,>=1.6.3->tensorboard~=2.6->tensorflow==2.6.0) (4.8)\n",
            "Requirement already satisfied: cachetools<5.0,>=2.0.0 in /usr/local/lib/python3.7/dist-packages (from google-auth<2,>=1.6.3->tensorboard~=2.6->tensorflow==2.6.0) (4.2.4)\n",
            "Requirement already satisfied: requests-oauthlib>=0.7.0 in /usr/local/lib/python3.7/dist-packages (from google-auth-oauthlib<0.5,>=0.4.1->tensorboard~=2.6->tensorflow==2.6.0) (1.3.0)\n",
            "Requirement already satisfied: importlib-metadata>=4.4 in /usr/local/lib/python3.7/dist-packages (from markdown>=2.6.8->tensorboard~=2.6->tensorflow==2.6.0) (4.10.0)\n",
            "Requirement already satisfied: zipp>=0.5 in /usr/local/lib/python3.7/dist-packages (from importlib-metadata>=4.4->markdown>=2.6.8->tensorboard~=2.6->tensorflow==2.6.0) (3.7.0)\n",
            "Requirement already satisfied: pyasn1<0.5.0,>=0.4.6 in /usr/local/lib/python3.7/dist-packages (from pyasn1-modules>=0.2.1->google-auth<2,>=1.6.3->tensorboard~=2.6->tensorflow==2.6.0) (0.4.8)\n",
            "Requirement already satisfied: urllib3!=1.25.0,!=1.25.1,<1.26,>=1.21.1 in /usr/local/lib/python3.7/dist-packages (from requests<3,>=2.21.0->tensorboard~=2.6->tensorflow==2.6.0) (1.24.3)\n",
            "Requirement already satisfied: chardet<4,>=3.0.2 in /usr/local/lib/python3.7/dist-packages (from requests<3,>=2.21.0->tensorboard~=2.6->tensorflow==2.6.0) (3.0.4)\n",
            "Requirement already satisfied: certifi>=2017.4.17 in /usr/local/lib/python3.7/dist-packages (from requests<3,>=2.21.0->tensorboard~=2.6->tensorflow==2.6.0) (2021.10.8)\n",
            "Requirement already satisfied: idna<3,>=2.5 in /usr/local/lib/python3.7/dist-packages (from requests<3,>=2.21.0->tensorboard~=2.6->tensorflow==2.6.0) (2.10)\n",
            "Requirement already satisfied: oauthlib>=3.0.0 in /usr/local/lib/python3.7/dist-packages (from requests-oauthlib>=0.7.0->google-auth-oauthlib<0.5,>=0.4.1->tensorboard~=2.6->tensorflow==2.6.0) (3.1.1)\n",
            "Requirement already satisfied: zfit in /usr/local/lib/python3.7/dist-packages (0.8.2)\n",
            "Requirement already satisfied: dotmap in /usr/local/lib/python3.7/dist-packages (from zfit) (1.3.26)\n",
            "Requirement already satisfied: iminuit>=2.3 in /usr/local/lib/python3.7/dist-packages (from zfit) (2.9.0)\n",
            "Requirement already satisfied: nlopt in /usr/local/lib/python3.7/dist-packages (from zfit) (2.7.0)\n",
            "Requirement already satisfied: scipy>=1.2 in /usr/local/lib/python3.7/dist-packages (from zfit) (1.4.1)\n",
            "Requirement already satisfied: tensorflow-probability<0.14,>=0.12 in /usr/local/lib/python3.7/dist-packages (from zfit) (0.13.0)\n",
            "Requirement already satisfied: numpy>=1.16 in /usr/local/lib/python3.7/dist-packages (from zfit) (1.19.5)\n",
            "Requirement already satisfied: tensorflow-addons in /usr/local/lib/python3.7/dist-packages (from zfit) (0.15.0)\n",
            "Requirement already satisfied: tf-quant-finance>=v0.0.1-dev24 in /usr/local/lib/python3.7/dist-packages (from zfit) (0.0.1.dev30)\n",
            "Requirement already satisfied: tensorflow<2.7,>=2.5 in /usr/local/lib/python3.7/dist-packages (from zfit) (2.6.0)\n",
            "Requirement already satisfied: colorlog in /usr/local/lib/python3.7/dist-packages (from zfit) (6.6.0)\n",
            "Requirement already satisfied: colorama in /usr/local/lib/python3.7/dist-packages (from zfit) (0.4.4)\n",
            "Requirement already satisfied: tabulate in /usr/local/lib/python3.7/dist-packages (from zfit) (0.8.9)\n",
            "Requirement already satisfied: ordered-set in /usr/local/lib/python3.7/dist-packages (from zfit) (4.0.2)\n",
            "Requirement already satisfied: pandas in /usr/local/lib/python3.7/dist-packages (from zfit) (1.1.5)\n",
            "Requirement already satisfied: colored in /usr/local/lib/python3.7/dist-packages (from zfit) (1.4.3)\n",
            "Requirement already satisfied: texttable in /usr/local/lib/python3.7/dist-packages (from zfit) (1.6.4)\n",
            "Requirement already satisfied: ipyopt<0.12 in /usr/local/lib/python3.7/dist-packages (from zfit) (0.11.0)\n",
            "Requirement already satisfied: uproot<5,>=4 in /usr/local/lib/python3.7/dist-packages (from zfit) (4.1.9)\n",
            "Requirement already satisfied: numdifftools in /usr/local/lib/python3.7/dist-packages (from zfit) (0.9.40)\n",
            "Requirement already satisfied: google-pasta~=0.2 in /usr/local/lib/python3.7/dist-packages (from tensorflow<2.7,>=2.5->zfit) (0.2.0)\n",
            "Requirement already satisfied: opt-einsum~=3.3.0 in /usr/local/lib/python3.7/dist-packages (from tensorflow<2.7,>=2.5->zfit) (3.3.0)\n",
            "Requirement already satisfied: termcolor~=1.1.0 in /usr/local/lib/python3.7/dist-packages (from tensorflow<2.7,>=2.5->zfit) (1.1.0)\n",
            "Requirement already satisfied: grpcio<2.0,>=1.37.0 in /usr/local/lib/python3.7/dist-packages (from tensorflow<2.7,>=2.5->zfit) (1.43.0)\n",
            "Requirement already satisfied: wrapt~=1.12.1 in /usr/local/lib/python3.7/dist-packages (from tensorflow<2.7,>=2.5->zfit) (1.12.1)\n",
            "Requirement already satisfied: clang~=5.0 in /usr/local/lib/python3.7/dist-packages (from tensorflow<2.7,>=2.5->zfit) (5.0)\n",
            "Requirement already satisfied: protobuf>=3.9.2 in /usr/local/lib/python3.7/dist-packages (from tensorflow<2.7,>=2.5->zfit) (3.17.3)\n",
            "Requirement already satisfied: h5py~=3.1.0 in /usr/local/lib/python3.7/dist-packages (from tensorflow<2.7,>=2.5->zfit) (3.1.0)\n",
            "Requirement already satisfied: typing-extensions~=3.7.4 in /usr/local/lib/python3.7/dist-packages (from tensorflow<2.7,>=2.5->zfit) (3.7.4.3)\n",
            "Requirement already satisfied: tensorboard~=2.6 in /usr/local/lib/python3.7/dist-packages (from tensorflow<2.7,>=2.5->zfit) (2.6.0)\n",
            "Requirement already satisfied: wheel~=0.35 in /usr/local/lib/python3.7/dist-packages (from tensorflow<2.7,>=2.5->zfit) (0.37.1)\n",
            "Requirement already satisfied: six~=1.15.0 in /usr/local/lib/python3.7/dist-packages (from tensorflow<2.7,>=2.5->zfit) (1.15.0)\n",
            "Requirement already satisfied: keras-preprocessing~=1.1.2 in /usr/local/lib/python3.7/dist-packages (from tensorflow<2.7,>=2.5->zfit) (1.1.2)\n",
            "Requirement already satisfied: tensorflow-estimator~=2.6 in /usr/local/lib/python3.7/dist-packages (from tensorflow<2.7,>=2.5->zfit) (2.6.0)\n",
            "Requirement already satisfied: keras~=2.6 in /usr/local/lib/python3.7/dist-packages (from tensorflow<2.7,>=2.5->zfit) (2.6.0)\n",
            "Requirement already satisfied: gast==0.4.0 in /usr/local/lib/python3.7/dist-packages (from tensorflow<2.7,>=2.5->zfit) (0.4.0)\n",
            "Requirement already satisfied: astunparse~=1.6.3 in /usr/local/lib/python3.7/dist-packages (from tensorflow<2.7,>=2.5->zfit) (1.6.3)\n",
            "Requirement already satisfied: absl-py~=0.10 in /usr/local/lib/python3.7/dist-packages (from tensorflow<2.7,>=2.5->zfit) (0.12.0)\n",
            "Requirement already satisfied: flatbuffers~=1.12.0 in /usr/local/lib/python3.7/dist-packages (from tensorflow<2.7,>=2.5->zfit) (1.12)\n",
            "Requirement already satisfied: cached-property in /usr/local/lib/python3.7/dist-packages (from h5py~=3.1.0->tensorflow<2.7,>=2.5->zfit) (1.5.2)\n",
            "Requirement already satisfied: markdown>=2.6.8 in /usr/local/lib/python3.7/dist-packages (from tensorboard~=2.6->tensorflow<2.7,>=2.5->zfit) (3.3.6)\n",
            "Requirement already satisfied: tensorboard-plugin-wit>=1.6.0 in /usr/local/lib/python3.7/dist-packages (from tensorboard~=2.6->tensorflow<2.7,>=2.5->zfit) (1.8.1)\n",
            "Requirement already satisfied: setuptools>=41.0.0 in /usr/local/lib/python3.7/dist-packages (from tensorboard~=2.6->tensorflow<2.7,>=2.5->zfit) (57.4.0)\n",
            "Requirement already satisfied: tensorboard-data-server<0.7.0,>=0.6.0 in /usr/local/lib/python3.7/dist-packages (from tensorboard~=2.6->tensorflow<2.7,>=2.5->zfit) (0.6.1)\n",
            "Requirement already satisfied: requests<3,>=2.21.0 in /usr/local/lib/python3.7/dist-packages (from tensorboard~=2.6->tensorflow<2.7,>=2.5->zfit) (2.23.0)\n",
            "Requirement already satisfied: google-auth-oauthlib<0.5,>=0.4.1 in /usr/local/lib/python3.7/dist-packages (from tensorboard~=2.6->tensorflow<2.7,>=2.5->zfit) (0.4.6)\n",
            "Requirement already satisfied: werkzeug>=0.11.15 in /usr/local/lib/python3.7/dist-packages (from tensorboard~=2.6->tensorflow<2.7,>=2.5->zfit) (1.0.1)\n",
            "Requirement already satisfied: google-auth<2,>=1.6.3 in /usr/local/lib/python3.7/dist-packages (from tensorboard~=2.6->tensorflow<2.7,>=2.5->zfit) (1.35.0)\n",
            "Requirement already satisfied: rsa<5,>=3.1.4 in /usr/local/lib/python3.7/dist-packages (from google-auth<2,>=1.6.3->tensorboard~=2.6->tensorflow<2.7,>=2.5->zfit) (4.8)\n",
            "Requirement already satisfied: pyasn1-modules>=0.2.1 in /usr/local/lib/python3.7/dist-packages (from google-auth<2,>=1.6.3->tensorboard~=2.6->tensorflow<2.7,>=2.5->zfit) (0.2.8)\n",
            "Requirement already satisfied: cachetools<5.0,>=2.0.0 in /usr/local/lib/python3.7/dist-packages (from google-auth<2,>=1.6.3->tensorboard~=2.6->tensorflow<2.7,>=2.5->zfit) (4.2.4)\n",
            "Requirement already satisfied: requests-oauthlib>=0.7.0 in /usr/local/lib/python3.7/dist-packages (from google-auth-oauthlib<0.5,>=0.4.1->tensorboard~=2.6->tensorflow<2.7,>=2.5->zfit) (1.3.0)\n",
            "Requirement already satisfied: importlib-metadata>=4.4 in /usr/local/lib/python3.7/dist-packages (from markdown>=2.6.8->tensorboard~=2.6->tensorflow<2.7,>=2.5->zfit) (4.10.0)\n",
            "Requirement already satisfied: zipp>=0.5 in /usr/local/lib/python3.7/dist-packages (from importlib-metadata>=4.4->markdown>=2.6.8->tensorboard~=2.6->tensorflow<2.7,>=2.5->zfit) (3.7.0)\n",
            "Requirement already satisfied: pyasn1<0.5.0,>=0.4.6 in /usr/local/lib/python3.7/dist-packages (from pyasn1-modules>=0.2.1->google-auth<2,>=1.6.3->tensorboard~=2.6->tensorflow<2.7,>=2.5->zfit) (0.4.8)\n",
            "Requirement already satisfied: chardet<4,>=3.0.2 in /usr/local/lib/python3.7/dist-packages (from requests<3,>=2.21.0->tensorboard~=2.6->tensorflow<2.7,>=2.5->zfit) (3.0.4)\n",
            "Requirement already satisfied: urllib3!=1.25.0,!=1.25.1,<1.26,>=1.21.1 in /usr/local/lib/python3.7/dist-packages (from requests<3,>=2.21.0->tensorboard~=2.6->tensorflow<2.7,>=2.5->zfit) (1.24.3)\n",
            "Requirement already satisfied: certifi>=2017.4.17 in /usr/local/lib/python3.7/dist-packages (from requests<3,>=2.21.0->tensorboard~=2.6->tensorflow<2.7,>=2.5->zfit) (2021.10.8)\n",
            "Requirement already satisfied: idna<3,>=2.5 in /usr/local/lib/python3.7/dist-packages (from requests<3,>=2.21.0->tensorboard~=2.6->tensorflow<2.7,>=2.5->zfit) (2.10)\n",
            "Requirement already satisfied: oauthlib>=3.0.0 in /usr/local/lib/python3.7/dist-packages (from requests-oauthlib>=0.7.0->google-auth-oauthlib<0.5,>=0.4.1->tensorboard~=2.6->tensorflow<2.7,>=2.5->zfit) (3.1.1)\n",
            "Requirement already satisfied: dm-tree in /usr/local/lib/python3.7/dist-packages (from tensorflow-probability<0.14,>=0.12->zfit) (0.1.6)\n",
            "Requirement already satisfied: decorator in /usr/local/lib/python3.7/dist-packages (from tensorflow-probability<0.14,>=0.12->zfit) (4.4.2)\n",
            "Requirement already satisfied: cloudpickle>=1.3 in /usr/local/lib/python3.7/dist-packages (from tensorflow-probability<0.14,>=0.12->zfit) (1.3.0)\n",
            "Requirement already satisfied: attrs>=18.2.0 in /usr/local/lib/python3.7/dist-packages (from tf-quant-finance>=v0.0.1-dev24->zfit) (21.4.0)\n",
            "Requirement already satisfied: algopy>=0.4 in /usr/local/lib/python3.7/dist-packages (from numdifftools->zfit) (0.5.7)\n",
            "Requirement already satisfied: statsmodels>=0.6 in /usr/local/lib/python3.7/dist-packages (from numdifftools->zfit) (0.10.2)\n",
            "Requirement already satisfied: patsy>=0.4.0 in /usr/local/lib/python3.7/dist-packages (from statsmodels>=0.6->numdifftools->zfit) (0.5.2)\n",
            "Requirement already satisfied: pytz>=2017.2 in /usr/local/lib/python3.7/dist-packages (from pandas->zfit) (2018.9)\n",
            "Requirement already satisfied: python-dateutil>=2.7.3 in /usr/local/lib/python3.7/dist-packages (from pandas->zfit) (2.8.2)\n",
            "Requirement already satisfied: typeguard>=2.7 in /usr/local/lib/python3.7/dist-packages (from tensorflow-addons->zfit) (2.7.1)\n",
            "Requirement already satisfied: uncertainties in /usr/local/lib/python3.7/dist-packages (3.1.6)\n",
            "Requirement already satisfied: future in /usr/local/lib/python3.7/dist-packages (from uncertainties) (0.16.0)\n"
          ]
        }
      ],
      "source": [
        "#Install required packages\n",
        "!pip install uproot\n",
        "!pip install tensorflow==2.6.0 #specific version for compatability with zfit\n",
        "!pip install zfit\n",
        "!pip install uncertainties"
      ]
    },
    {
      "cell_type": "code",
      "source": [
        "import tensorflow as tf\n",
        "tf.__version__ #specific version we need for zfit to behave"
      ],
      "metadata": {
        "colab": {
          "base_uri": "https://localhost:8080/",
          "height": 35
        },
        "id": "vUHYTEqeRzwF",
        "outputId": "e8fde646-64f4-44ab-c605-e0f2ca67e2e5"
      },
      "execution_count": 2,
      "outputs": [
        {
          "output_type": "execute_result",
          "data": {
            "application/vnd.google.colaboratory.intrinsic+json": {
              "type": "string"
            },
            "text/plain": [
              "'2.6.0'"
            ]
          },
          "metadata": {},
          "execution_count": 2
        }
      ]
    },
    {
      "cell_type": "code",
      "source": [
        "#Import other useful packages\n",
        "import uproot\n",
        "import random\n",
        "import json\n",
        "import zfit\n",
        "from uncertainties import *\n",
        "import numpy as np\n",
        "import matplotlib\n",
        "from matplotlib import rc\n",
        "import matplotlib.pyplot as plt\n",
        "%matplotlib inline"
      ],
      "metadata": {
        "id": "LVBQXlwzQD_W",
        "colab": {
          "base_uri": "https://localhost:8080/"
        },
        "outputId": "e3d63b70-e035-4b0c-c40b-62fa3d4cda97"
      },
      "execution_count": 3,
      "outputs": [
        {
          "output_type": "stream",
          "name": "stderr",
          "text": [
            "/usr/local/lib/python3.7/dist-packages/zfit/__init__.py:37: UserWarning: TensorFlow warnings are by default suppressed by zfit. In order to show them, set the environment variable ZFIT_DISABLE_TF_WARNINGS=0. In order to suppress the TensorFlow warnings AND this warning, set ZFIT_DISABLE_TF_WARNINGS=1.\n",
            "  warnings.warn(\"TensorFlow warnings are by default suppressed by zfit.\"\n"
          ]
        }
      ]
    },
    {
      "cell_type": "markdown",
      "source": [
        "## Load RapidSim MC\n",
        "\n",
        "Let's load our ROOT file containing the true decay angles, calculated in the [Bc2JpsiMuNu_RapidSim.ipynb](https://colab.research.google.com/github/donalrinho/Bc2JpsiMuNu/blob/main/Bc2JpsiMuNu_RapidSim.ipynb) notebook."
      ],
      "metadata": {
        "id": "0US1lNNT7amx"
      }
    },
    {
      "cell_type": "code",
      "source": [
        "#Load ROOT file containing true decay angles\n",
        "drive_dir = \"/content/drive/MyDrive/Bc2JpsiMuNu_ROOT_files\"\n",
        "file_path = f\"{drive_dir}/Bc2JpsiMuNu_RapidSim_Vars\"\n",
        "print(f\"Loading ROOT file {file_path}.root\")\n",
        "tree_name = \"DecayTree\"\n",
        "events = uproot.open(f\"{file_path}.root:{tree_name}\")\n",
        "events"
      ],
      "metadata": {
        "colab": {
          "base_uri": "https://localhost:8080/"
        },
        "id": "nHz2G5APQfqd",
        "outputId": "9bdff601-1e97-452d-d08e-25c0226c3512"
      },
      "execution_count": 4,
      "outputs": [
        {
          "output_type": "stream",
          "name": "stdout",
          "text": [
            "Loading ROOT file /content/drive/MyDrive/Bc2JpsiMuNu_ROOT_files/Bc2JpsiMuNu_RapidSim_Vars.root\n"
          ]
        },
        {
          "output_type": "execute_result",
          "data": {
            "text/plain": [
              "<TTree 'DecayTree' (143 branches) at 0x7f6883fcd710>"
            ]
          },
          "metadata": {},
          "execution_count": 4
        }
      ]
    },
    {
      "cell_type": "code",
      "source": [
        "#Make pandas DataFrame\n",
        "df = events.arrays(library=\"pd\")"
      ],
      "metadata": {
        "id": "pDcZ9kBxRmDY"
      },
      "execution_count": 5,
      "outputs": []
    },
    {
      "cell_type": "markdown",
      "source": [
        "## Using `zfit` to fit the MC\n",
        "\n",
        "Now we come to `zfit`, which we will use to perform a maximum-likelihood fit to the 3D angular distribution of our data. We will do this in order to measure the helicity amplitude magnitudes and phases.\n",
        "\n",
        "The first thing we do is define a phase space within which our fit will be run. We run the fit in the three variables:\n",
        " - $cos(\\theta_{J/\\psi})$ which ranges from -1 to +1.\n",
        " - $cos(\\theta_W)$ which ranges from -1 to +1.\n",
        " - $\\chi$ which ranges from $-\\pi$ to $+\\pi$.\n",
        "\n",
        "We also make a dictionary to put these observables into, where we also define their LaTeX names and ranges for use in making some plots later on."
      ],
      "metadata": {
        "id": "S6erDbfH7psj"
      }
    },
    {
      "cell_type": "code",
      "source": [
        "#Angular phase space for the fit\n",
        "xobs = zfit.Space('costheta_Jpsi', (-1, 1))\n",
        "yobs = zfit.Space('costheta_W', (-1, 1))\n",
        "zobs = zfit.Space('chi', (-np.pi, np.pi))\n",
        "obs = xobs * yobs * zobs\n",
        "\n",
        "obs_dict = {\"costheta_Jpsi\": [0,\"$\\\\cos(\\\\theta_{J/\\\\psi})$\",-1,1,xobs],\n",
        "            \"costheta_W\": [1,\"$\\\\cos(\\\\theta_W)$\",-1,1,yobs],\n",
        "            \"chi\": [2,\"$\\\\chi$ [rad]\",-np.pi,np.pi,zobs]}"
      ],
      "metadata": {
        "id": "9HpIPJDySOZZ"
      },
      "execution_count": 6,
      "outputs": []
    },
    {
      "cell_type": "markdown",
      "source": [
        "Now we define fit parameters for our helicity amplitudes, using the `zfit.Parameter` functionality. Note that we make a `ComposedParameter` for the magnitude of $H_+$, because this one is fixed by the relation $|H_0|^2 + |H_-|^2 + |H_+|^2 = 1$."
      ],
      "metadata": {
        "id": "QNfiwN9_8O6U"
      }
    },
    {
      "cell_type": "code",
      "source": [
        "#Helicity amplitude parameters\n",
        "#Random number to use in the param names, so we can run the fit lots of times\n",
        "rand = random.randint(0,100000)\n",
        "H0_amp = zfit.Parameter(f\"H0_amp_{rand}\", 0.7, 0., 1.)\n",
        "Hm_amp = zfit.Parameter(f\"Hm_amp_{rand}\", 0.6, 0., 1.)\n",
        "#One helicity amplitude is fixed by the fact that their squares must sum to 1\n",
        "def Hp_amp_func(H0_amp, Hm_amp):\n",
        "  return tf.sqrt(1. - H0_amp**2 - Hm_amp**2)\n",
        "Hp_amp = zfit.ComposedParameter(f\"Hp_amp_{rand}\", Hp_amp_func, params=[H0_amp, Hm_amp])\n",
        "\n",
        "#Phases - H0 phase is fixed to zero by convention\n",
        "H0_phi =  zfit.Parameter(f\"H0_phi_{rand}\", 0., floating=False)\n",
        "Hp_phi =  zfit.Parameter(f\"Hp_phi_{rand}\", 1.5, -2*np.pi, 2*np.pi)\n",
        "Hm_phi =  zfit.Parameter(f\"Hm_phi_{rand}\", -1.5,-2*np.pi, 2*np.pi)"
      ],
      "metadata": {
        "id": "BrUWAR_ZSoWU"
      },
      "execution_count": 14,
      "outputs": []
    },
    {
      "cell_type": "markdown",
      "source": [
        "Now we define our 3D probability density function (PDF) based on Table I in [this paper](https://arxiv.org/pdf/2007.06956.pdf). We don't include terms with $m_l^2/q^2$ in them, because this is negligibly small for muons. There is quite a lot going on here, but try to understand where the six pieces we add to our PDF below are coming from: each one corresponds to a term from Table I in the paper. We have one term for each helicity amplitude separately, and then a further three terms which decribe their interference with each other."
      ],
      "metadata": {
        "id": "3K5G4QcoUaKI"
      }
    },
    {
      "cell_type": "code",
      "source": [
        "#3D decay rate PDF\n",
        "class CustomPDF(zfit.pdf.ZPDF):\n",
        "    _PARAMS = ['H0_amp',\n",
        "               'Hm_amp',\n",
        "               'Hp_amp',\n",
        "               'H0_phi',\n",
        "               'Hm_phi',\n",
        "               'Hp_phi'\n",
        "    ]\n",
        "    \n",
        "    _N_OBS = 3\n",
        "\n",
        "    def _unnormalized_pdf(self, x):\n",
        "        \n",
        "        costheta_Jpsi, costheta_W, chi = x.unstack_x()\n",
        "\n",
        "        H0_amp = self.params['H0_amp']\n",
        "        H0_phi = self.params['H0_phi']\n",
        "        Hm_amp = self.params['Hm_amp']\n",
        "        Hp_amp = self.params['Hp_amp']\n",
        "        Hm_phi = self.params['Hm_phi']\n",
        "        Hp_phi = self.params['Hp_phi']\n",
        "        \n",
        "        sintheta_Jpsi = tf.math.sqrt(1. - costheta_Jpsi * costheta_Jpsi)\n",
        "        sintheta_W = tf.math.sqrt(1. - costheta_W * costheta_W)\n",
        "        sintheta_Jpsi2 = (2. * sintheta_Jpsi * costheta_Jpsi)\n",
        "        sintheta_W2 = (2. * sintheta_W * costheta_W)\n",
        "        coschi = tf.math.cos(chi)\n",
        "        sinchi = tf.math.sin(chi)\n",
        "        cos2chi = 2*coschi*coschi - 1\n",
        "        sin2chi = 2*sinchi*coschi\n",
        "\n",
        "        h_0 = tf.complex(H0_amp*tf.cos(H0_phi),H0_amp*tf.sin(H0_phi))\n",
        "        h_p = tf.complex(Hp_amp*tf.cos(Hp_phi),Hp_amp*tf.sin(Hp_phi))\n",
        "        h_m = tf.complex(Hm_amp*tf.cos(Hm_phi),Hm_amp*tf.sin(Hm_phi))\n",
        "\n",
        "        h_0st = tf.math.conj(h_0)\n",
        "        h_pst = tf.math.conj(h_p)\n",
        "        h_mst = tf.math.conj(h_m)\n",
        "\n",
        "        HpHmst = h_p*h_mst\n",
        "        HpH0st = h_p*h_0st\n",
        "        HmH0st = h_m*h_0st\n",
        "\n",
        "        #Decay rate as a sum of each term from Table I in the paper (apart from the terms with m_l^2 in them)\n",
        "        pdf = H0_amp**2 * 2 * sintheta_W**2 * sintheta_Jpsi**2\n",
        "        pdf += Hp_amp**2 * 0.5 * (1 - costheta_W)**2 * (1 + costheta_Jpsi**2)\n",
        "        pdf += Hm_amp**2 * 0.5 * (1 + costheta_W)**2 * (1 + costheta_Jpsi**2)\n",
        "        pdf += tf.math.real(HpH0st) * sintheta_W * sintheta_Jpsi2 * coschi * (1 - costheta_W)\n",
        "        pdf += tf.math.real(HmH0st) * (-sintheta_W * sintheta_Jpsi2 * coschi * (1 + costheta_W))\n",
        "        pdf += tf.math.real(HpHmst) * sintheta_W**2 * sintheta_Jpsi**2 * cos2chi\n",
        "    \n",
        "        return pdf"
      ],
      "metadata": {
        "id": "x5NZdC7vTneu"
      },
      "execution_count": 15,
      "outputs": []
    },
    {
      "cell_type": "markdown",
      "source": [
        "Now we make a PDF object for use in our fit, by calling the `CustomPDF` we made above. Note that we pass in our parameter objects for the helicity amplitudes and phases."
      ],
      "metadata": {
        "id": "MreFXoj69Lez"
      }
    },
    {
      "cell_type": "code",
      "source": [
        "#Make an instance of our custom PDF, to use for fitting our MC sample\n",
        "custom_pdf = CustomPDF(obs=obs,\n",
        "                       H0_amp=H0_amp,\n",
        "                       Hm_amp=Hm_amp,\n",
        "                       Hp_amp=Hp_amp,\n",
        "                       H0_phi=H0_phi,\n",
        "                       Hm_phi=Hm_phi,\n",
        "                       Hp_phi=Hp_phi)"
      ],
      "metadata": {
        "id": "cKUGGuFWX9JY"
      },
      "execution_count": 16,
      "outputs": []
    },
    {
      "cell_type": "markdown",
      "source": [
        "Let's check that our PDF integrates to 1, which it should for a correctly defined PDF (probability sum over all angular phase space is 1)."
      ],
      "metadata": {
        "id": "pBMaAuxI9VEU"
      }
    },
    {
      "cell_type": "code",
      "source": [
        "integral = custom_pdf.integrate(limits=obs)  # = 1 since normalized\n",
        "integral"
      ],
      "metadata": {
        "colab": {
          "base_uri": "https://localhost:8080/"
        },
        "id": "3XfgFFavia7j",
        "outputId": "7c7aa3b9-03ba-47e1-8cc0-ef57489aaa61"
      },
      "execution_count": 17,
      "outputs": [
        {
          "output_type": "execute_result",
          "data": {
            "text/plain": [
              "<tf.Tensor: shape=(1,), dtype=float64, numpy=array([1.])>"
            ]
          },
          "metadata": {},
          "execution_count": 17
        }
      ]
    },
    {
      "cell_type": "markdown",
      "source": [
        "Now we turn our pandas DataFrame, which contains our RapidSim MC events, into a `zfit` dataset. This dataset can then be used along with our PDF in the fit. We keep a subset of 10,000 events to speed the fit up."
      ],
      "metadata": {
        "id": "NXA-oolu9dPF"
      }
    },
    {
      "cell_type": "code",
      "source": [
        "#Make a zfit dataset from our DataFrame, using only the fit variables\n",
        "df_data = df[[\"costheta_Jpsi\",\"costheta_W\",\"chi\"]]\n",
        "\n",
        "#Keep a smaller subset of events to test the fit\n",
        "df_data_sample = df_data.sample(n=10000, random_state=100)\n",
        "\n",
        "data = zfit.Data.from_pandas(df_data_sample, obs=obs)"
      ],
      "metadata": {
        "id": "R3JeGi0mihNn"
      },
      "execution_count": 18,
      "outputs": []
    },
    {
      "cell_type": "markdown",
      "source": [
        "Now it's time to run the fit to our MC. We will run an unbinned maximum-likelihood fit, where the Minuit minimizer is used. And we use Hesse at the end to calculate statistical uncertainties on the helicity parameters we measure."
      ],
      "metadata": {
        "id": "PMBzEE6U9nmJ"
      }
    },
    {
      "cell_type": "code",
      "source": [
        "#Run the fit (takes a while)\n",
        "zfit.settings.set_verbosity(-1) #suppress some annoying but harmless warning messages\n",
        "\n",
        "# Stage 1: create an unbinned likelihood with the given PDF and dataset\n",
        "nll = zfit.loss.UnbinnedNLL(model=custom_pdf, data=data)\n",
        "\n",
        "# Stage 2: instantiate a minimiser (in this case a basic minuit)\n",
        "minimizer = zfit.minimize.Minuit()\n",
        "\n",
        "#Stage 3: minimise the given negative likelihood\n",
        "result = minimizer.minimize(nll)\n",
        "\n",
        "#Get the parameter uncertainties using Hesse\n",
        "param_errors = result.hesse(method=\"minuit_hesse\")\n",
        "\n",
        "print(\"Function minimum:\", result.fmin)\n",
        "print(\"Converged:\", result.converged)\n",
        "print(\"Full minimizer information:\", result.info)\n",
        "\n",
        "params = result.params\n",
        "print(params)"
      ],
      "metadata": {
        "colab": {
          "base_uri": "https://localhost:8080/"
        },
        "id": "shzAdTvwiy7B",
        "outputId": "8142b07f-2448-4ffc-d5de-20cdee21e76e"
      },
      "execution_count": 19,
      "outputs": [
        {
          "output_type": "stream",
          "name": "stdout",
          "text": [
            "Function minimum: 969.1720567419844\n",
            "Converged: True\n",
            "Full minimizer information: {'n_eval': 90, 'minuit': <FMin algorithm='Migrad' edm=0.00044672422912940643 edm_goal=0.001 errordef=0.5 fval=969.1720567419844 has_accurate_covar=True has_covariance=True has_made_posdef_covar=False has_parameters_at_limit=False has_posdef_covar=True has_reached_call_limit=False has_valid_parameters=True hesse_failed=False is_above_max_edm=False is_valid=True nfcn=113 ngrad=0 reduced_chi2=nan>\n",
            "(Param(number=0, name='H0_amp_9066', value=0.6891684793587418, error=0.007204257107542189, merror=None, is_const=False, is_fixed=False, lower_limit=0.0, upper_limit=1.0), Param(number=1, name='Hm_amp_9066', value=0.6369538584824411, error=0.006420415524611589, merror=None, is_const=False, is_fixed=False, lower_limit=0.0, upper_limit=1.0), Param(number=2, name='Hm_phi_9066', value=-1.5910351483903766, error=0.056035265437230364, merror=None, is_const=False, is_fixed=False, lower_limit=-6.2831854820251465, upper_limit=6.2831854820251465), Param(number=3, name='Hp_phi_9066', value=1.7162813432346937, error=0.08697655469711163, merror=None, is_const=False, is_fixed=False, lower_limit=-6.2831854820251465, upper_limit=6.2831854820251465))\n",
            "[[ 5.19055127e-05 -3.74533312e-05  1.51338164e-05 -2.25037108e-05]\n",
            " [-3.74533312e-05  4.12241852e-05 -4.90725088e-06  1.41148778e-05]\n",
            " [ 1.51338164e-05 -4.90725088e-06  3.14003993e-03 -2.95747040e-03]\n",
            " [-2.25037108e-05  1.41148778e-05 -2.95747040e-03  7.56544329e-03]], 'original': <FMin algorithm='Migrad' edm=0.00044672422912940643 edm_goal=0.001 errordef=0.5 fval=969.1720567419844 has_accurate_covar=True has_covariance=True has_made_posdef_covar=False has_parameters_at_limit=False has_posdef_covar=True has_reached_call_limit=False has_valid_parameters=True hesse_failed=False is_above_max_edm=False is_valid=True nfcn=90 ngrad=0 reduced_chi2=nan>, 'inv_hessian': array([[ 5.21034741e-05, -3.76340300e-05,  1.51320482e-05,\n",
            "        -2.25427812e-05],\n",
            "       [-3.76340300e-05,  4.13818496e-05, -4.94532143e-06,\n",
            "         1.42151568e-05],\n",
            "       [ 1.51320482e-05, -4.94532143e-06,  3.13962728e-03,\n",
            "        -2.95677846e-03],\n",
            "       [-2.25427812e-05,  1.42151568e-05, -2.95677846e-03,\n",
            "         7.56453116e-03]])}\n",
            "name           value    minuit_hesse    at limit\n",
            "-----------  -------  --------------  ----------\n",
            "H0_amp_9066   0.6892     +/-  0.0072       False\n",
            "Hm_amp_9066    0.637     +/-  0.0064       False\n",
            "Hm_phi_9066   -1.591     +/-   0.056       False\n",
            "Hp_phi_9066    1.716     +/-   0.087       False\n"
          ]
        }
      ]
    },
    {
      "cell_type": "markdown",
      "source": [
        "## Storing our fit results\n",
        "\n",
        "We can take the results of our fit from the `params` and `param_errors` objects we made above. It's useful to put these numbers into a dictionary, which we can then save into a file."
      ],
      "metadata": {
        "id": "1gIqKi0k99S-"
      }
    },
    {
      "cell_type": "code",
      "source": [
        "#Put results into a dictionary\n",
        "results_dict = {}\n",
        "for p in params:\n",
        "    par_name = p.name\n",
        "    #Remove the random piece of the name which we added to allow zfit to run many times\n",
        "    par_name = par_name.replace(\"_\"+str(rand),\"\")\n",
        "    results_dict[par_name] = [params[p]['value'], param_errors[p][\"error\"]]\n",
        "results_dict"
      ],
      "metadata": {
        "colab": {
          "base_uri": "https://localhost:8080/"
        },
        "id": "TZTVdOWf1IFl",
        "outputId": "0c8347a8-542b-4f41-f7b6-5a1510627c15"
      },
      "execution_count": 20,
      "outputs": [
        {
          "output_type": "execute_result",
          "data": {
            "text/plain": [
              "{'H0_amp': [0.6891684793587418, 0.007204548022306822],\n",
              " 'Hm_amp': [0.6369538584824411, 0.006420606263236305],\n",
              " 'Hm_phi': [-1.5910351483903766, 0.05603605891496252],\n",
              " 'Hp_phi': [1.7162813432346937, 0.0869795563281994]}"
            ]
          },
          "metadata": {},
          "execution_count": 20
        }
      ]
    },
    {
      "cell_type": "markdown",
      "source": [
        "As we saw above, the magnitude of $H_+$, $|H_+|$, is fully defined given the values of $|H_0|$ and $|H_-|$. We can calculate its value using our fit results, propagating the uncertainies appropriately. We use the Python `uncertainties` package to help us do this."
      ],
      "metadata": {
        "id": "DSuu-6_k-KNC"
      }
    },
    {
      "cell_type": "code",
      "source": [
        "#Calculate the parameter H+ based on the values of H0 and H-, using the Python uncertainties package to propagate uncertainties for us\n",
        "#Here, results_dict[\"H0_amp\"][0] gets us the value of H0_amp from the fit\n",
        "#results_dict[\"H0_amp\"][1] gets us the error\n",
        "#ufloat is an uncertainties object, which has a central value (the first value) and an uncertainty (the second value)\n",
        "v_H0_amp = ufloat(results_dict[\"H0_amp\"][0], results_dict[\"H0_amp\"][1])\n",
        "v_Hm_amp = ufloat(results_dict[\"Hm_amp\"][0], results_dict[\"Hm_amp\"][1])\n",
        "\n",
        "v_H0_amp, v_Hm_amp"
      ],
      "metadata": {
        "colab": {
          "base_uri": "https://localhost:8080/"
        },
        "id": "tCg4tPQw3JYi",
        "outputId": "d2ad8df0-db89-4c51-f77c-68a9bd73bdd0"
      },
      "execution_count": 21,
      "outputs": [
        {
          "output_type": "execute_result",
          "data": {
            "text/plain": [
              "(0.6891684793587418+/-0.007204548022306822,\n",
              " 0.6369538584824411+/-0.006420606263236305)"
            ]
          },
          "metadata": {},
          "execution_count": 21
        }
      ]
    },
    {
      "cell_type": "code",
      "source": [
        "#Calculate a new ufloat for Hp_amp, using the formula Hp_amp = sqrt(1 - H0_amp^2 - Hm_amp^2) [since all three squares of the H_amp sum to 1]\n",
        "v_Hp_amp = (1. - v_H0_amp**2 - v_Hm_amp**2)**(1./2.)\n",
        "v_Hp_amp"
      ],
      "metadata": {
        "colab": {
          "base_uri": "https://localhost:8080/"
        },
        "id": "ogZ3q6xg4RVq",
        "outputId": "47bd28d6-bad5-45f7-a085-3cb3e423cff9"
      },
      "execution_count": 22,
      "outputs": [
        {
          "output_type": "execute_result",
          "data": {
            "text/plain": [
              "0.3454512834289225+/-0.018620729308430617"
            ]
          },
          "metadata": {},
          "execution_count": 22
        }
      ]
    },
    {
      "cell_type": "code",
      "source": [
        "#Add the value of Hp_amp into our dictionary (n gives us its nominal value, and s its standard deviation)\n",
        "results_dict[\"Hp_amp\"] = [v_Hp_amp.n, v_Hp_amp.s]\n",
        "results_dict"
      ],
      "metadata": {
        "colab": {
          "base_uri": "https://localhost:8080/"
        },
        "id": "a1aknWSG43CV",
        "outputId": "e5aa9168-8801-444b-88d7-34b34b6924c5"
      },
      "execution_count": 23,
      "outputs": [
        {
          "output_type": "execute_result",
          "data": {
            "text/plain": [
              "{'H0_amp': [0.6891684793587418, 0.007204548022306822],\n",
              " 'Hm_amp': [0.6369538584824411, 0.006420606263236305],\n",
              " 'Hm_phi': [-1.5910351483903766, 0.05603605891496252],\n",
              " 'Hp_amp': [0.3454512834289225, 0.018620729308430617],\n",
              " 'Hp_phi': [1.7162813432346937, 0.0869795563281994]}"
            ]
          },
          "metadata": {},
          "execution_count": 23
        }
      ]
    },
    {
      "cell_type": "markdown",
      "source": [
        "Let's write our results dictionary into a JSON file."
      ],
      "metadata": {
        "id": "qN8j-uck-fGA"
      }
    },
    {
      "cell_type": "code",
      "source": [
        "#Write fit results dictionary to a JSON file, which we can use later in other analyses\n",
        "ana_dir = \"/content/drive/MyDrive/Bc2JpsiMuNu_Analysis\"\n",
        "file_path = f\"{ana_dir}/json/Bc2JspiMuNu_RapidSim_fit_results.json\"\n",
        "with open(file_path, 'w') as f:\n",
        "  json.dump(results_dict, f, sort_keys=True, indent=4)"
      ],
      "metadata": {
        "id": "HYphn_vo3EuC"
      },
      "execution_count": 24,
      "outputs": []
    },
    {
      "cell_type": "markdown",
      "source": [
        "## Plotting the fit results\n",
        "\n",
        "Finally, we make plots of each decay angle to compare our final fit result to the MC."
      ],
      "metadata": {
        "id": "l3W9xVXa-yIG"
      }
    },
    {
      "cell_type": "code",
      "source": [
        "#Plot fit projections for each angle, to see how the fit models our MC\n",
        "bins = 30\n",
        "data_np = zfit.run(data)\n",
        "\n",
        "#Loop over the fit variables\n",
        "for v in obs_dict:\n",
        "\n",
        "  fig, ax = plt.subplots(figsize=(7,7))\n",
        "  lower = obs_dict[v][2]\n",
        "  upper = obs_dict[v][3]\n",
        "  counts, bin_edges = np.histogram(df_data[v], bins=bins, range=(lower, upper))\n",
        "  bin_centres = (bin_edges[:-1] + bin_edges[1:])/2.\n",
        "  err = np.sqrt(counts)\n",
        "  #Normalise\n",
        "  err = err / np.sum(counts)\n",
        "  counts = counts / np.sum(counts)\n",
        "\n",
        "  #Plot the data\n",
        "  plt.errorbar(bin_centres, counts, yerr=err, fmt='o', color='xkcd:black')\n",
        "\n",
        "  #Plot the PDF\n",
        "  n_p = 1000\n",
        "  x_plot = np.linspace(lower, upper, num=n_p)\n",
        "  x_plot_data = zfit.Data.from_numpy(array=x_plot, obs=obs_dict[v][4])\n",
        "\n",
        "  #Other dims\n",
        "  other_obs = []\n",
        "  for k in obs_dict:\n",
        "    if(k!=v):\n",
        "      other_obs.append(obs_dict[k][4])\n",
        "\n",
        "  #Observables to integrate over\n",
        "  obs_int = other_obs[0] * other_obs[1]\n",
        "\n",
        "  #Integrating over the other dimensions\n",
        "  pdf_x = custom_pdf.partial_integrate(x=x_plot_data, limits=obs_int)\n",
        "  y_plot = zfit.run(pdf_x)\n",
        "  #Normalise\n",
        "  y_plot = y_plot / np.sum(y_plot) * (n_p/bins)\n",
        "\n",
        "  plt.plot(x_plot, y_plot, color='crimson')\n",
        "\n",
        "  #Labels and axis ranges\n",
        "  plt.xlabel(obs_dict[v][1],fontsize=25)\n",
        "  bin_width = float(upper - lower)/bins\n",
        "  y_min, y_max = ax.get_ylim()\n",
        "  plt.ylim(0.0,y_max*1.4)\n",
        "  plt.xlim(lower, upper)\n",
        "  ax.tick_params(axis='both', which='major', labelsize=25)\n",
        "  plt.tight_layout()\n",
        "  plt.show();\n",
        "  fig.savefig(f\"{ana_dir}/plots/{v}_Bc2JpsiMuNu_RapidSim_fit.pdf\")\n"
      ],
      "metadata": {
        "id": "1WM54kDgjCpt",
        "colab": {
          "base_uri": "https://localhost:8080/",
          "height": 1000
        },
        "outputId": "b8df7e41-bb5d-464a-b60b-beb1cd7b7ea1"
      },
      "execution_count": 25,
      "outputs": [
        {
          "output_type": "display_data",
          "data": {
            "image/png": "[encoded data removed]",
            "text/plain": [
              "<Figure size 504x504 with 1 Axes>"
            ]
          },
          "metadata": {
            "needs_background": "light"
          }
        },
        {
          "output_type": "display_data",
          "data": {
            "image/png": "[encoded data removed]",
            "text/plain": [
              "<Figure size 504x504 with 1 Axes>"
            ]
          },
          "metadata": {
            "needs_background": "light"
          }
        },
        {
          "output_type": "display_data",
          "data": {
            "image/png": "[encoded data removed]",
            "text/plain": [
              "<Figure size 504x504 with 1 Axes>"
            ]
          },
          "metadata": {
            "needs_background": "light"
          }
        }
      ]
    },
    {
      "cell_type": "markdown",
      "source": [
        "We have now performed a fit to the true angular distribution of $B_c^+ \\to J/\\psi \\mu^+ \\nu_\\mu$ RapidSim MC events, to measure the underlying helicity amplitudes. The angular distributions above are perfect MC-truth, which we would be able to measure with a magic detector that could detect neutrinos and also measure all the particle 4-momenta with perfect precision. \n",
        "\n",
        "In reality, we cannot observe the neutrino in LHCb, which results in a loss of information and an inability to reconstruct the decay angles perfectly. In addition, we also don't measure the three muons produced in the decay with perfect precision. To understand how these issues impact our measurement, we can look at some $B_c^+ \\to J/\\psi \\mu^+ \\nu_\\mu$ MC events which have passed through a simulation of the LHCb detector."
      ],
      "metadata": {
        "id": "I42U9dz5_IQK"
      }
    }
  ]
}